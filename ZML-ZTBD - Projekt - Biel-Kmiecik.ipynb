{
 "cells": [
  {
   "cell_type": "markdown",
   "metadata": {},
   "source": [
    "## Paweł Biel\n",
    "## Bartłomiej Kmiecik\n",
    "\n",
    "#### Zastosowania Machine Learning / Big Data\n",
    "#### Grupa I - Informatyka w Biznesie - studia niestacjonarne\n",
    "#### Rok akademicki: 2020/2021"
   ]
  },
  {
   "cell_type": "markdown",
   "metadata": {},
   "source": [
    "## Import bibliotek"
   ]
  },
  {
   "cell_type": "code",
   "execution_count": 1,
   "metadata": {},
   "outputs": [],
   "source": [
    "import tensorflow as tf\n",
    "import matplotlib.pyplot as plt\n",
    "import seaborn as sns\n",
    "import pandas as pd\n",
    "import numpy as np\n",
    "\n",
    "from tensorflow import keras\n",
    "from tensorflow.keras.layers import Dense # głęboko połączona warstwa przekazująca neurony dalej (batch, size)\n",
    "from tensorflow.keras.layers import Flatten # \"spłaszcza\" dane wejściowe, przekształca w 1wymiarową tablicę; nie wpływa na wielkość partii\n",
    "from tensorflow.keras.layers import Input\n",
    "from tensorflow.keras.layers import BatchNormalization #warstwa normalizująca dane wejściowe\n",
    "from tensorflow.keras.layers import Dropout # odrzuca część losową informacji, gdy sieć wyciąga za dużo informacji\n",
    "from tensorflow.keras.layers import LSTM # warstwa pamięci długookresowej (sztuczna rekurencyjna architektura sieci neuronowej RNN)\n",
    "from tensorflow.keras.models import Model # grupuje warstwy w obiekt z funkacjami uczenia i wnioskowania\n",
    "from tensorflow.keras.models import Sequential, load_model # do zaczytywania i wczytywania modelu\n",
    "import matplotlib.pyplot as plt\n",
    "import seaborn as sns\n",
    "import pandas as pd\n",
    "import numpy as np\n",
    "from IPython.display import display # tworzymy obiekt audio \n",
    "import ipywidgets as widgets\n",
    "from ipywidgets import interact, interact_manual # automatyczne tworzenie kontrolek interfejsu użytkownika  (user interface UI)\n",
    "from ipywidgets import interactive\n",
    "\n",
    "from sklearn.model_selection import train_test_split # dzielenie tablic lub macierzy na losowe podzbioru trenowania i testowania. \n",
    "from ipywidgets import interact, interact_manual\n",
    "from ipywidgets import interactive\n",
    "from sklearn.metrics import r2_score # R2- współczynnik determinacji; funkcja oceny regresji \n",
    "from sklearn.metrics import mean_absolute_error #MAE oraz MSE (błędy)\n",
    "from sklearn.metrics import mean_squared_error\n",
    "\n",
    "import math\n",
    "import keras\n",
    "from keras.models import Sequential\n",
    "from keras.layers import *\n",
    "from sklearn.preprocessing import MinMaxScaler # przekształcanie cech skalując każdą z cech do określonego zakresu\n",
    "from keras.callbacks import EarlyStopping"
   ]
  },
  {
   "cell_type": "markdown",
   "metadata": {},
   "source": [
    "# Funkcje pomocnicze"
   ]
  },
  {
   "cell_type": "markdown",
   "metadata": {},
   "source": [
    "### Podział zbioru danych na treningowy i testowy"
   ]
  },
  {
   "cell_type": "code",
   "execution_count": 2,
   "metadata": {},
   "outputs": [],
   "source": [
    "def prepare_dataset_to_lstm(predicted_variable_name, train_df, ratio):\n",
    "  dataset = train_df[predicted_variable_name].values #numpy.ndarray\n",
    "  dataset = dataset.astype('float32') #zamiana typu na float\n",
    "  dataset = np.reshape(dataset, (-1, 1)) #przekształcamy tablicę; wynikowa tablica ma tylko 1 kolumnę\n",
    "  scaler = MinMaxScaler(feature_range=(0, 1)) #skalowanie zmiennych do postaci (0,1)\n",
    "  dataset = scaler.fit_transform(dataset) # wszystkie inne wartości są liniowo skalowane między tymi wartościami\n",
    "\n",
    "#podział uporządkowanego zestawu danych do trenowania i testowania.\n",
    "  train_size = int(len(dataset) * ratio)\n",
    "  test_size = len(dataset) - train_size\n",
    "  train, test = dataset[0:train_size,:], dataset[train_size:len(dataset),:]\n",
    "\n",
    "  return train, test, scaler"
   ]
  },
  {
   "cell_type": "markdown",
   "metadata": {},
   "source": [
    "### Tworzenie zbioru danych LSTM"
   ]
  },
  {
   "cell_type": "code",
   "execution_count": 3,
   "metadata": {},
   "outputs": [],
   "source": [
    "# look_back- liczba poprzednich kroków czasowych, które mają być użyte jako zmienne wejściowe do przewidywania następnego okresu czasu, w tym przypadku domyślnie 1.\n",
    "# scaler- normalizuje dane do zakresu (0,1)\n",
    "# tworzenie back(ów); konwersja tablicy wartości na macierz zestawu danych\n",
    "def create_dataset_lstm(dataset, look_back=1):   #look_back - wielkość kroku z którą testujemy dataset\n",
    "    X, Y = [], []\n",
    "    for i in range(len(dataset)-look_back-1):\n",
    "        a = dataset[i:(i+look_back), 0]\n",
    "        X.append(a)\n",
    "        Y.append(dataset[i + look_back, 0])\n",
    "    return np.array(X), np.array(Y)"
   ]
  },
  {
   "cell_type": "markdown",
   "metadata": {},
   "source": [
    "### Utworzenie modelu"
   ]
  },
  {
   "cell_type": "code",
   "execution_count": 4,
   "metadata": {},
   "outputs": [],
   "source": [
    "#Tworzymy i dopasowujemy model LSTM (zmiana batch_size). W poniższym modelu jest jedno wejście w warstwie wejściowej\n",
    "# i 10 neuronów w warstwie ukrytej. Warstwa wyjściowa przewiduje wartości\n",
    "def lstm_model(X_train, Y_train, X_test, Y_test, batch_size=20):\n",
    "  model = Sequential()  #liniowy stos warstw\n",
    "  model.add(LSTM(20, input_shape=(X_train.shape[1], X_train.shape[2])))\n",
    "  model.add(Dropout(0.2)) \n",
    "  model.add(Dense(5))\n",
    "# definiujemy w czym będziemy wyrażać naszą jakość uczenia\n",
    "  model.compile(loss='mean_squared_error', optimizer='adam') #definiujemy w czym będziemy wyrażać naszą jakośc uczenia\n",
    "\n",
    "# epochs - Funkcja aktywacji powtarzana jest 5 razy\n",
    "  history = model.fit(X_train, Y_train, epochs=5, batch_size=10, validation_data=(X_test, Y_test), \n",
    "                      # przerwij trenowanie, gdy monitorowana metryka przestanie się poprawiać\n",
    "                      callbacks=[EarlyStopping(monitor='val_loss', patience=10)], verbose=1, shuffle=False)\n",
    "  return model"
   ]
  },
  {
   "cell_type": "markdown",
   "metadata": {},
   "source": [
    "### Ewaluacja modelu "
   ]
  },
  {
   "cell_type": "code",
   "execution_count": 5,
   "metadata": {},
   "outputs": [],
   "source": [
    "def evaluation_model(model,X_train, X_test, Y_train, predicted_variable_name, testing=False):\n",
    "  dataset = train_df[predicted_variable_name].values #numpy.ndarray\n",
    "  dataset = dataset.astype('float32') #zamian typu na float\n",
    "  dataset = np.reshape(dataset, (-1, 1))  # zmienia shape na odwrotny (odwrócenie macierzy) nie w sposób ciągły (1 pod 2)\n",
    "  scaler = MinMaxScaler(feature_range=(0, 1))\n",
    "  dataset = scaler.fit_transform(dataset)\n",
    "  \n",
    "#wykonaj prognozy\n",
    "  train_predict = model.predict(X_train)\n",
    "  test_predict = model.predict(X_test)\n",
    "\n",
    "#odwróć prognozy, przy obliczaniu błędu przekonwertujemy dane na tą samą jednostkę.  \n",
    "  train_predict = scaler.inverse_transform(train_predict)\n",
    "  Y_train = scaler.inverse_transform([Y_train])\n",
    "\n",
    "#oblicz średni kwadrat błędu\n",
    "  _mean_absolute_error = mean_absolute_error(Y_train[0], train_predict[:,0])   #jak mamy listę 13 elementów, to wstawiając [3,:] pobierze od 3 do 13 elementu\n",
    "  _mean_squared_error = np.sqrt(mean_squared_error(Y_train[0], train_predict[:,0]))\n",
    "  print('Train Mean Absolute Error:', _mean_absolute_error)\n",
    "  print('Train Root Mean Squared Error:',_mean_squared_error)\n",
    "  if testing:\n",
    "    return Y_train, train_predict, _mean_absolute_error, _mean_squared_error\n",
    "  return Y_train, train_predict"
   ]
  },
  {
   "cell_type": "markdown",
   "metadata": {},
   "source": [
    "### Funkcja do wizualizacji"
   ]
  },
  {
   "cell_type": "code",
   "execution_count": 6,
   "metadata": {},
   "outputs": [],
   "source": [
    "def visualization(Y_train, train_predict):\n",
    "  N = len(Y_train[0]) \n",
    "  aa=[x for x in range(N)]  # N oznacza liczbę cech w punkcie danych\n",
    "  plt.figure(figsize=(8,4))\n",
    "  plt.plot(aa, Y_train[0], marker='.', label=\"actual\") # gdy . zmienimy na * to będziemy mieli zamiast . -> *\n",
    "  plt.plot(aa, train_predict[:,0], 'r', label=\"prediction\")\n",
    "  # plt.tick_params(left=False, labelleft=True) #remove ticks\n",
    "  plt.tight_layout()  # dostosuj dopełnienie między polamy pomocniczymi i wokół nich\n",
    "  sns.despine(top=True) # usuwamy grzbiet\n",
    "  plt.subplots_adjust(left=0.07)  # położenie lewej krawędzi wykresu\n",
    "  plt.title(\" prediction\")\n",
    "  plt.xlabel('Time step', size=15)  # rozmiar czcionki dla time step 15\n",
    "  plt.legend(fontsize=15)  # rozmiar czcionki elementów legendy\n",
    "  plt.show();  # uruchamiamy pętle zdarzeń, wyszukujemy wszystkie aktywne obiekty figur i otwieramy jedno lub więcej inteaktywnych okien.\n",
    "\n"
   ]
  },
  {
   "cell_type": "markdown",
   "metadata": {},
   "source": [
    "# Import i scalenie danych "
   ]
  },
  {
   "cell_type": "code",
   "execution_count": 7,
   "metadata": {},
   "outputs": [
    {
     "name": "stdout",
     "output_type": "stream",
     "text": [
      "bch_v_d.csv\n",
      "\n",
      "bnb_v_d.csv\n",
      "\n",
      "btc_v_d (1).csv\n",
      "\n",
      "comp_v_d.csv\n",
      "\n",
      "eurchf_d.csv\n",
      "\n",
      "eurpln_d.csv\n",
      "\n",
      "eurusd_d.csv\n",
      "\n",
      "fw20_d.csv\n",
      "\n",
      "mkr_v_d.csv\n",
      "\n",
      "usdchf_d.csv\n",
      "\n",
      "usdeur_d.csv\n",
      "\n",
      "usdpln_d.csv\n",
      "\n",
      "wig20_d.csv\n",
      "\n",
      "wig_d.csv\n",
      "\n"
     ]
    },
    {
     "data": {
      "text/html": [
       "<div>\n",
       "<style scoped>\n",
       "    .dataframe tbody tr th:only-of-type {\n",
       "        vertical-align: middle;\n",
       "    }\n",
       "\n",
       "    .dataframe tbody tr th {\n",
       "        vertical-align: top;\n",
       "    }\n",
       "\n",
       "    .dataframe thead th {\n",
       "        text-align: right;\n",
       "    }\n",
       "</style>\n",
       "<table border=\"1\" class=\"dataframe\">\n",
       "  <thead>\n",
       "    <tr style=\"text-align: right;\">\n",
       "      <th></th>\n",
       "      <th>Otwarcie</th>\n",
       "      <th>Najwyzszy</th>\n",
       "      <th>Najnizszy</th>\n",
       "      <th>Zamkniecie</th>\n",
       "    </tr>\n",
       "    <tr>\n",
       "      <th>Data</th>\n",
       "      <th></th>\n",
       "      <th></th>\n",
       "      <th></th>\n",
       "      <th></th>\n",
       "    </tr>\n",
       "  </thead>\n",
       "  <tbody>\n",
       "    <tr>\n",
       "      <th>2015-08-07</th>\n",
       "      <td>3.0</td>\n",
       "      <td>3.0</td>\n",
       "      <td>3.0000</td>\n",
       "      <td>3.00</td>\n",
       "    </tr>\n",
       "    <tr>\n",
       "      <th>2015-08-08</th>\n",
       "      <td>3.0</td>\n",
       "      <td>3.0</td>\n",
       "      <td>1.2000</td>\n",
       "      <td>1.20</td>\n",
       "    </tr>\n",
       "    <tr>\n",
       "      <th>2015-08-09</th>\n",
       "      <td>1.2</td>\n",
       "      <td>1.2</td>\n",
       "      <td>1.2000</td>\n",
       "      <td>1.20</td>\n",
       "    </tr>\n",
       "    <tr>\n",
       "      <th>2015-08-10</th>\n",
       "      <td>1.2</td>\n",
       "      <td>1.2</td>\n",
       "      <td>1.2000</td>\n",
       "      <td>1.20</td>\n",
       "    </tr>\n",
       "    <tr>\n",
       "      <th>2015-08-11</th>\n",
       "      <td>1.2</td>\n",
       "      <td>1.2</td>\n",
       "      <td>0.6504</td>\n",
       "      <td>0.99</td>\n",
       "    </tr>\n",
       "  </tbody>\n",
       "</table>\n",
       "</div>"
      ],
      "text/plain": [
       "            Otwarcie  Najwyzszy  Najnizszy  Zamkniecie\n",
       "Data                                                  \n",
       "2015-08-07       3.0        3.0     3.0000        3.00\n",
       "2015-08-08       3.0        3.0     1.2000        1.20\n",
       "2015-08-09       1.2        1.2     1.2000        1.20\n",
       "2015-08-10       1.2        1.2     1.2000        1.20\n",
       "2015-08-11       1.2        1.2     0.6504        0.99"
      ]
     },
     "execution_count": 7,
     "metadata": {},
     "output_type": "execute_result"
    }
   ],
   "source": [
    "import os\n",
    "import pandas as pd\n",
    "\n",
    "data = pd.read_csv('data//eth_v_d.csv', index_col='Data')\n",
    "\n",
    "files=os.listdir('data/')\n",
    "files.remove('eth_v_d.csv')\n",
    "\n",
    "for file in files:\n",
    "  print(file+'\\n');\n",
    "  right = pd.read_csv('data/'+file, index_col='Data', engine='python')\n",
    "  main_table = data.merge(right=right, \n",
    "                                how = 'inner', \n",
    "                                left_index=True, \n",
    "                                right_index=True, \n",
    "                                copy=False, \n",
    "                                suffixes=('','_'+file[:-4]))\n",
    "\n",
    "data.head()"
   ]
  },
  {
   "cell_type": "markdown",
   "metadata": {},
   "source": [
    "# Czyszczenie danych z pustych rekordów"
   ]
  },
  {
   "cell_type": "code",
   "execution_count": 8,
   "metadata": {},
   "outputs": [
    {
     "name": "stdout",
     "output_type": "stream",
     "text": [
      "Dane przed usunięciem NaN: 2072 liczba kolumn:  4\n",
      "Dane po usunięciu NaN: 2072 liczba kolumn:  4\n"
     ]
    }
   ],
   "source": [
    "print(\"Dane przed usunięciem NaN:\", len(data), \"liczba kolumn: \", len(data.columns))\n",
    "data = data.dropna()\n",
    "print(\"Dane po usunięciu NaN:\", len(data), \"liczba kolumn: \", len(data.columns))"
   ]
  },
  {
   "cell_type": "code",
   "execution_count": 9,
   "metadata": {},
   "outputs": [
    {
     "name": "stdout",
     "output_type": "stream",
     "text": [
      "(2072, 4)\n"
     ]
    }
   ],
   "source": [
    "# pierwsza liczba oznacza ilość wierszy, natomiast druga ilość kolumn w zbiorze danych\n",
    "print(data.shape)"
   ]
  },
  {
   "cell_type": "code",
   "execution_count": 10,
   "metadata": {},
   "outputs": [
    {
     "name": "stdout",
     "output_type": "stream",
     "text": [
      "(1243, 4)\n"
     ]
    }
   ],
   "source": [
    "# zbiór treningowy\n",
    "ratio = 0.6  # współczynnik proporcji wymiarów (0.6 w stosunku do całego zbioru danych)\n",
    "N = int(len(data)*ratio)   # liczba próbek na klasę\n",
    "train_df, test_df = data[:N], data[N:]   # przypisanie próbek do zmiennych\n",
    "print(train_df.shape)"
   ]
  },
  {
   "cell_type": "code",
   "execution_count": 11,
   "metadata": {},
   "outputs": [
    {
     "name": "stdout",
     "output_type": "stream",
     "text": [
      "(829, 4)\n"
     ]
    }
   ],
   "source": [
    "# zbiór testowy\n",
    "ratio = 0.5\n",
    "N = int(len(data)*ratio)\n",
    "test_df, val_df = test_df[:N], test_df[N:]\n",
    "print(test_df.shape)"
   ]
  },
  {
   "cell_type": "code",
   "execution_count": 12,
   "metadata": {},
   "outputs": [
    {
     "data": {
      "text/html": [
       "<div>\n",
       "<style scoped>\n",
       "    .dataframe tbody tr th:only-of-type {\n",
       "        vertical-align: middle;\n",
       "    }\n",
       "\n",
       "    .dataframe tbody tr th {\n",
       "        vertical-align: top;\n",
       "    }\n",
       "\n",
       "    .dataframe thead th {\n",
       "        text-align: right;\n",
       "    }\n",
       "</style>\n",
       "<table border=\"1\" class=\"dataframe\">\n",
       "  <thead>\n",
       "    <tr style=\"text-align: right;\">\n",
       "      <th></th>\n",
       "      <th>Otwarcie</th>\n",
       "      <th>Najwyzszy</th>\n",
       "      <th>Najnizszy</th>\n",
       "      <th>Zamkniecie</th>\n",
       "    </tr>\n",
       "  </thead>\n",
       "  <tbody>\n",
       "    <tr>\n",
       "      <th>count</th>\n",
       "      <td>1243.000000</td>\n",
       "      <td>1243.000000</td>\n",
       "      <td>1243.000000</td>\n",
       "      <td>1243.000000</td>\n",
       "    </tr>\n",
       "    <tr>\n",
       "      <th>mean</th>\n",
       "      <td>209.190909</td>\n",
       "      <td>218.160156</td>\n",
       "      <td>198.442360</td>\n",
       "      <td>209.302651</td>\n",
       "    </tr>\n",
       "    <tr>\n",
       "      <th>std</th>\n",
       "      <td>272.820407</td>\n",
       "      <td>285.257570</td>\n",
       "      <td>257.265208</td>\n",
       "      <td>272.770696</td>\n",
       "    </tr>\n",
       "    <tr>\n",
       "      <th>min</th>\n",
       "      <td>0.420000</td>\n",
       "      <td>0.471900</td>\n",
       "      <td>0.411000</td>\n",
       "      <td>0.420000</td>\n",
       "    </tr>\n",
       "    <tr>\n",
       "      <th>25%</th>\n",
       "      <td>10.075000</td>\n",
       "      <td>10.565000</td>\n",
       "      <td>9.655000</td>\n",
       "      <td>10.090000</td>\n",
       "    </tr>\n",
       "    <tr>\n",
       "      <th>50%</th>\n",
       "      <td>50.090000</td>\n",
       "      <td>52.220000</td>\n",
       "      <td>48.450000</td>\n",
       "      <td>50.250000</td>\n",
       "    </tr>\n",
       "    <tr>\n",
       "      <th>75%</th>\n",
       "      <td>313.885000</td>\n",
       "      <td>324.735000</td>\n",
       "      <td>300.190000</td>\n",
       "      <td>313.885000</td>\n",
       "    </tr>\n",
       "    <tr>\n",
       "      <th>max</th>\n",
       "      <td>1385.020000</td>\n",
       "      <td>1422.860000</td>\n",
       "      <td>1271.070000</td>\n",
       "      <td>1385.020000</td>\n",
       "    </tr>\n",
       "  </tbody>\n",
       "</table>\n",
       "</div>"
      ],
      "text/plain": [
       "          Otwarcie    Najwyzszy    Najnizszy   Zamkniecie\n",
       "count  1243.000000  1243.000000  1243.000000  1243.000000\n",
       "mean    209.190909   218.160156   198.442360   209.302651\n",
       "std     272.820407   285.257570   257.265208   272.770696\n",
       "min       0.420000     0.471900     0.411000     0.420000\n",
       "25%      10.075000    10.565000     9.655000    10.090000\n",
       "50%      50.090000    52.220000    48.450000    50.250000\n",
       "75%     313.885000   324.735000   300.190000   313.885000\n",
       "max    1385.020000  1422.860000  1271.070000  1385.020000"
      ]
     },
     "execution_count": 12,
     "metadata": {},
     "output_type": "execute_result"
    }
   ],
   "source": [
    "# podsumowanie statystyk odnoszących się do kolumny DataFrame \n",
    "# ta funkcja podaje wartości średnie, standardowe i odstęp międzykwartylowy\n",
    "train_df.describe()"
   ]
  },
  {
   "cell_type": "code",
   "execution_count": 13,
   "metadata": {},
   "outputs": [],
   "source": [
    "# zapewnia obliczania w oknie kroczącym\n",
    "# windows = rozmiar ruchomego okna, jest to liczba obserwacji użytych do obliczenia statystyki \n",
    "# każde okno będzie miało stały rozmiar\n",
    "rolling = data.rolling(window=7)"
   ]
  },
  {
   "cell_type": "code",
   "execution_count": 14,
   "metadata": {},
   "outputs": [],
   "source": [
    "# wskazanie zmiennej do predycji\n",
    "data_roll = pd.DataFrame()\n",
    "data_roll['Zamkniecie']=train_df['Zamkniecie']"
   ]
  },
  {
   "cell_type": "code",
   "execution_count": 15,
   "metadata": {},
   "outputs": [
    {
     "data": {
      "application/vnd.jupyter.widget-view+json": {
       "model_id": "b9be8fee9c3d470f8254e855134c627f",
       "version_major": 2,
       "version_minor": 0
      },
      "text/plain": [
       "interactive(children=(IntSlider(value=50, description='lw', min=1), Button(description='Run Interact', style=B…"
      ]
     },
     "metadata": {},
     "output_type": "display_data"
    }
   ],
   "source": [
    "@widgets.interact_manual(lw=(1, 100))\n",
    "def plot(lw):\n",
    "  rolling = data.rolling(window=lw, center=True)\n",
    "  data_roll = pd.DataFrame()\n",
    " \n",
    "  data_roll['Zamkniecie']=data['Zamkniecie']\n",
    "  data_roll['7 days rolling_mean(srednia kroczaca)']=data_roll['Zamkniecie'].rolling(lw, min_periods=1).mean()\n",
    "  ax = data_roll.plot(style=['-', '--'], rot=90, figsize=(20, 10)) \n",
    "  ax.lines[0].set_alpha(0.3)"
   ]
  },
  {
   "cell_type": "code",
   "execution_count": 16,
   "metadata": {},
   "outputs": [],
   "source": [
    "# wywołanie metody przygotowującej model pod LSTM\n",
    "predicted_variable_name = \"Zamkniecie\"\n",
    "train, test, scaler = prepare_dataset_to_lstm(predicted_variable_name, train_df, ratio=0.8) #scaler - normalizuje dane do zakresu (0,1)"
   ]
  },
  {
   "cell_type": "code",
   "execution_count": 17,
   "metadata": {},
   "outputs": [],
   "source": [
    "#przygotowanie zestawów uczących i testowych do modelowania\n",
    "look_back = 20\n",
    "X_train, Y_train = create_dataset_lstm(train, look_back)\n",
    "X_test, Y_test = create_dataset_lstm(test, look_back)\n",
    "\n",
    "#Przeszktałcenie DataFrame-u do modelu\n",
    "X_train = np.reshape(X_train, (X_train.shape[0], 1, X_train.shape[1]))\n",
    "X_test = np.reshape(X_test, (X_test.shape[0], 1, X_test.shape[1]))"
   ]
  },
  {
   "cell_type": "code",
   "execution_count": 18,
   "metadata": {},
   "outputs": [
    {
     "name": "stdout",
     "output_type": "stream",
     "text": [
      "Epoch 1/5\n",
      "98/98 [==============================] - 3s 13ms/step - loss: 0.0020 - val_loss: 0.0076\n",
      "Epoch 2/5\n",
      "98/98 [==============================] - 0s 2ms/step - loss: 0.0075 - val_loss: 0.0013\n",
      "Epoch 3/5\n",
      "98/98 [==============================] - 0s 2ms/step - loss: 0.0017 - val_loss: 0.0033\n",
      "Epoch 4/5\n",
      "98/98 [==============================] - 0s 2ms/step - loss: 0.0016 - val_loss: 0.0018\n",
      "Epoch 5/5\n",
      "98/98 [==============================] - 0s 2ms/step - loss: 8.2566e-04 - val_loss: 0.0018\n"
     ]
    }
   ],
   "source": [
    "#Uczenie modelu\n",
    "history = lstm_model(X_train, Y_train, X_test, Y_test, batch_size=10)\n",
    "\n",
    "# loss - funkcja straty na zbiorze treningowym\n",
    "# val_loss - funkcja straty na zbiorze walidacyjnym (im mniejsza tym lepiej)"
   ]
  },
  {
   "cell_type": "code",
   "execution_count": 19,
   "metadata": {},
   "outputs": [
    {
     "name": "stdout",
     "output_type": "stream",
     "text": [
      "Saved model to disk\n"
     ]
    }
   ],
   "source": [
    "# zapis modelu sieci neuronowej w formacie JSON\n",
    "model_json = history.to_json()  #zapisanie modelu history do JSON\n",
    "with open(\"model.json\", \"w\") as json_file:  #utworzenie pliku model.json w trybie edycji i zatrzymanie w zmiennej json_file\n",
    "    json_file.write(model_json)\n",
    "# zapisanie wagi z modelu za pomocą funkcji save.weights. \n",
    "history.save_weights(\"model.h5\")  #wagi są zapisywane w pliku model.h5 w katalogu lokalnym.\n",
    "print(\"Saved model to disk\")  #komentarz udanej operacji"
   ]
  },
  {
   "cell_type": "markdown",
   "metadata": {},
   "source": [
    "### Ewaluacja modelu"
   ]
  },
  {
   "cell_type": "code",
   "execution_count": 20,
   "metadata": {},
   "outputs": [
    {
     "name": "stdout",
     "output_type": "stream",
     "text": [
      "Train Mean Absolute Error: 38.96091879080384\n",
      "Train Root Mean Squared Error: 60.34157082919831\n"
     ]
    }
   ],
   "source": [
    "Y_train, train_predict = evaluation_model(history,X_train, X_test, Y_train, predicted_variable_name)"
   ]
  },
  {
   "cell_type": "code",
   "execution_count": 21,
   "metadata": {},
   "outputs": [
    {
     "data": {
      "image/png": "[encoded data removed]",
      "text/plain": [
       "<Figure size 576x288 with 1 Axes>"
      ]
     },
     "metadata": {
      "needs_background": "light"
     },
     "output_type": "display_data"
    }
   ],
   "source": [
    "# Na wykresie dane nie są znormalizowane\n",
    "visualization(Y_train, train_predict) # niebieska- z csv wiersze i do nich wartości z pliku excel; czerwone- dla poszczegolnych wierszy błędy;"
   ]
  },
  {
   "cell_type": "code",
   "execution_count": 22,
   "metadata": {},
   "outputs": [],
   "source": [
    "# Ponowny podział na zbiory treningowy i walidacyjny\n",
    "train, test, scaler = prepare_dataset_to_lstm(predicted_variable_name, train_df, ratio=0.8)\n",
    "\n",
    "look_back = 3 \n",
    "X_train, Y_train = create_dataset_lstm(train, look_back)\n",
    "X_test, Y_test = create_dataset_lstm(test, look_back)\n",
    "\n",
    "X_train = np.reshape(X_train, (X_train.shape[0], 1, X_train.shape[1]))\n",
    "X_test = np.reshape(X_test, (X_test.shape[0], 1, X_test.shape[1]))"
   ]
  },
  {
   "cell_type": "code",
   "execution_count": null,
   "metadata": {},
   "outputs": [
    {
     "name": "stdout",
     "output_type": "stream",
     "text": [
      "-------------------------------20--------------------------\n",
      "Epoch 1/5\n",
      "99/99 [==============================] - 2s 5ms/step - loss: 0.0038 - val_loss: 0.0150\n",
      "Epoch 2/5\n",
      "99/99 [==============================] - 0s 1ms/step - loss: 0.0178 - val_loss: 0.0087\n",
      "Epoch 3/5\n",
      "99/99 [==============================] - 0s 2ms/step - loss: 0.0132 - val_loss: 0.0039\n",
      "Epoch 4/5\n",
      "99/99 [==============================] - 0s 2ms/step - loss: 0.0083 - val_loss: 0.0014\n",
      "Epoch 5/5\n",
      "99/99 [==============================] - 0s 1ms/step - loss: 0.0038 - val_loss: 5.3582e-04\n",
      "Train Mean Absolute Error: 26.488740581287516\n",
      "Train Root Mean Squared Error: 35.990379861716555\n",
      "-------------------------------21--------------------------\n",
      "Epoch 1/5\n",
      "99/99 [==============================] - 2s 6ms/step - loss: 0.0037 - val_loss: 0.0148\n",
      "Epoch 2/5\n",
      "99/99 [==============================] - 0s 1ms/step - loss: 0.0159 - val_loss: 0.0083\n",
      "Epoch 3/5\n",
      "99/99 [==============================] - 0s 1ms/step - loss: 0.0112 - val_loss: 0.0037\n",
      "Epoch 4/5\n",
      "99/99 [==============================] - 0s 1ms/step - loss: 0.0070 - val_loss: 0.0013\n",
      "Epoch 5/5\n",
      "99/99 [==============================] - ETA: 0s - loss: 0.003 - 0s 1ms/step - loss: 0.0032 - val_loss: 5.2298e-04\n",
      "Train Mean Absolute Error: 31.68991591449214\n",
      "Train Root Mean Squared Error: 39.70695540923094\n",
      "-------------------------------22--------------------------\n",
      "Epoch 1/5\n",
      "99/99 [==============================] - 2s 7ms/step - loss: 0.0048 - val_loss: 0.0258\n",
      "Epoch 2/5\n",
      "99/99 [==============================] - 0s 1ms/step - loss: 0.0136 - val_loss: 0.0147\n",
      "Epoch 3/5\n",
      "99/99 [==============================] - 0s 1ms/step - loss: 0.0133 - val_loss: 0.0077\n",
      "Epoch 4/5\n",
      "99/99 [==============================] - 0s 1ms/step - loss: 0.0106 - val_loss: 0.0031\n",
      "Epoch 5/5\n",
      "99/99 [==============================] - 0s 1ms/step - loss: 0.0061 - val_loss: 9.8622e-04\n",
      "Train Mean Absolute Error: 89.17940727939971\n",
      "Train Root Mean Squared Error: 105.0054348610489\n",
      "-------------------------------23--------------------------\n",
      "Epoch 1/5\n",
      "99/99 [==============================] - 2s 7ms/step - loss: 0.0043 - val_loss: 0.0194\n",
      "Epoch 2/5\n",
      "99/99 [==============================] - 0s 1ms/step - loss: 0.0160 - val_loss: 0.0108\n",
      "Epoch 3/5\n",
      "99/99 [==============================] - 0s 1ms/step - loss: 0.0128 - val_loss: 0.0047\n",
      "Epoch 4/5\n",
      "99/99 [==============================] - 0s 1ms/step - loss: 0.0083 - val_loss: 0.0015\n",
      "Epoch 5/5\n",
      "99/99 [==============================] - 0s 1ms/step - loss: 0.0038 - val_loss: 4.8873e-04\n",
      "Train Mean Absolute Error: 27.271475403573888\n",
      "Train Root Mean Squared Error: 35.70613157108659\n",
      "-------------------------------24--------------------------\n",
      "Epoch 1/5\n",
      "99/99 [==============================] - 2s 7ms/step - loss: 0.0038 - val_loss: 0.0158\n",
      "Epoch 2/5\n",
      "99/99 [==============================] - 0s 1ms/step - loss: 0.0167 - val_loss: 0.0096\n",
      "Epoch 3/5\n",
      "99/99 [==============================] - 0s 1ms/step - loss: 0.0123 - val_loss: 0.0049\n",
      "Epoch 4/5\n",
      "99/99 [==============================] - 0s 1ms/step - loss: 0.0082 - val_loss: 0.0020\n",
      "Epoch 5/5\n",
      "99/99 [==============================] - 0s 1ms/step - loss: 0.0042 - val_loss: 7.8817e-04\n",
      "Train Mean Absolute Error: 51.238082508656866\n",
      "Train Root Mean Squared Error: 59.17172433596312\n",
      "-------------------------------25--------------------------\n",
      "Epoch 1/5\n",
      "99/99 [==============================] - 2s 7ms/step - loss: 0.0047 - val_loss: 0.0236\n",
      "Epoch 2/5\n",
      "99/99 [==============================] - 0s 1ms/step - loss: 0.0155 - val_loss: 0.0144\n",
      "Epoch 3/5\n",
      "99/99 [==============================] - 0s 1ms/step - loss: 0.0139 - val_loss: 0.0074\n",
      "Epoch 4/5\n",
      "99/99 [==============================] - 0s 1ms/step - loss: 0.0107 - val_loss: 0.0028\n",
      "Epoch 5/5\n",
      "99/99 [==============================] - 0s 1ms/step - loss: 0.0061 - val_loss: 8.3919e-04\n",
      "Train Mean Absolute Error: 64.03181913929991\n",
      "Train Root Mean Squared Error: 72.64905257620235\n",
      "-------------------------------26--------------------------\n",
      "Epoch 1/5\n",
      "99/99 [==============================] - 2s 7ms/step - loss: 0.0043 - val_loss: 0.0180\n",
      "Epoch 2/5\n",
      "99/99 [==============================] - 0s 1ms/step - loss: 0.0184 - val_loss: 0.0101\n",
      "Epoch 3/5\n",
      "99/99 [==============================] - 0s 1ms/step - loss: 0.0138 - val_loss: 0.0042\n",
      "Epoch 4/5\n",
      "99/99 [==============================] - 0s 1ms/step - loss: 0.0083 - val_loss: 0.0013\n",
      "Epoch 5/5\n",
      "99/99 [==============================] - 0s 1ms/step - loss: 0.0033 - val_loss: 4.5709e-04\n",
      "Train Mean Absolute Error: 44.13106709706991\n",
      "Train Root Mean Squared Error: 53.21317230268731\n",
      "-------------------------------27--------------------------\n",
      "Epoch 1/5\n",
      "99/99 [==============================] - 2s 7ms/step - loss: 0.0044 - val_loss: 0.0197\n",
      "Epoch 2/5\n",
      "99/99 [==============================] - 0s 1ms/step - loss: 0.0166 - val_loss: 0.0120\n",
      "Epoch 3/5\n",
      "99/99 [==============================] - 0s 1ms/step - loss: 0.0131 - val_loss: 0.0061\n",
      "Epoch 4/5\n",
      "99/99 [==============================] - 0s 1ms/step - loss: 0.0089 - val_loss: 0.0025\n",
      "Epoch 5/5\n",
      "99/99 [==============================] - 0s 1ms/step - loss: 0.0047 - val_loss: 9.7755e-04\n",
      "Train Mean Absolute Error: 18.079684244243715\n",
      "Train Root Mean Squared Error: 30.79863125437369\n",
      "-------------------------------28--------------------------\n",
      "Epoch 1/5\n",
      "99/99 [==============================] - 2s 7ms/step - loss: 0.0041 - val_loss: 0.0182\n",
      "Epoch 2/5\n",
      "99/99 [==============================] - 0s 1ms/step - loss: 0.0149 - val_loss: 0.0097\n",
      "Epoch 3/5\n",
      "99/99 [==============================] - 0s 1ms/step - loss: 0.0124 - val_loss: 0.0041\n",
      "Epoch 4/5\n",
      "99/99 [==============================] - 0s 1ms/step - loss: 0.0080 - val_loss: 0.0012\n",
      "Epoch 5/5\n",
      "99/99 [==============================] - 0s 1ms/step - loss: 0.0034 - val_loss: 4.2102e-04\n",
      "Train Mean Absolute Error: 47.673795536475765\n",
      "Train Root Mean Squared Error: 55.993159110231176\n",
      "-------------------------------29--------------------------\n",
      "Epoch 1/5\n",
      "99/99 [==============================] - 2s 7ms/step - loss: 0.0034 - val_loss: 0.0127\n",
      "Epoch 2/5\n",
      "99/99 [==============================] - 0s 1ms/step - loss: 0.0176 - val_loss: 0.0071\n",
      "Epoch 3/5\n",
      "99/99 [==============================] - 0s 1ms/step - loss: 0.0121 - val_loss: 0.0029\n",
      "Epoch 4/5\n",
      "99/99 [==============================] - 0s 1ms/step - loss: 0.0070 - val_loss: 9.8169e-04\n",
      "Epoch 5/5\n",
      "99/99 [==============================] - 0s 1ms/step - loss: 0.0029 - val_loss: 4.0958e-04\n",
      "Train Mean Absolute Error: 29.545201697310205\n",
      "Train Root Mean Squared Error: 37.72782023989877\n",
      "-------------------------------20--------------------------\n",
      "Epoch 1/5\n",
      "99/99 [==============================] - 2s 5ms/step - loss: 0.0024 - val_loss: 0.0046\n",
      "Epoch 2/5\n",
      "99/99 [==============================] - 0s 1ms/step - loss: 0.0113 - val_loss: 0.0015\n",
      "Epoch 3/5\n",
      "99/99 [==============================] - 0s 1ms/step - loss: 0.0029 - val_loss: 5.1837e-04\n",
      "Epoch 4/5\n",
      "99/99 [==============================] - 0s 1ms/step - loss: 9.3011e-04 - val_loss: 4.8078e-04\n",
      "Epoch 5/5\n",
      "99/99 [==============================] - 0s 2ms/step - loss: 7.4571e-04 - val_loss: 7.5917e-04\n",
      "Train Mean Absolute Error: 40.63116383477642\n",
      "Train Root Mean Squared Error: 54.9318188764688\n",
      "-------------------------------21--------------------------\n",
      "Epoch 1/5\n",
      "99/99 [==============================] - 2s 5ms/step - loss: 0.0030 - val_loss: 0.0046\n",
      "Epoch 2/5\n",
      "99/99 [==============================] - 0s 1ms/step - loss: 0.0127 - val_loss: 0.0013\n",
      "Epoch 3/5\n",
      "99/99 [==============================] - 0s 1ms/step - loss: 0.0036 - val_loss: 6.1508e-04\n",
      "Epoch 4/5\n",
      "99/99 [==============================] - 0s 1ms/step - loss: 0.0011 - val_loss: 4.7759e-04\n",
      "Epoch 5/5\n",
      "99/99 [==============================] - 0s 2ms/step - loss: 8.6841e-04 - val_loss: 5.6062e-04\n",
      "Train Mean Absolute Error: 36.55626317542342\n",
      "Train Root Mean Squared Error: 56.78241149276767\n",
      "-------------------------------22--------------------------\n",
      "Epoch 1/5\n",
      "99/99 [==============================] - 2s 5ms/step - loss: 0.0026 - val_loss: 0.0083\n",
      "Epoch 2/5\n",
      "99/99 [==============================] - 0s 1ms/step - loss: 0.0119 - val_loss: 0.0019\n",
      "Epoch 3/5\n",
      "99/99 [==============================] - 0s 2ms/step - loss: 0.0032 - val_loss: 5.6337e-04\n",
      "Epoch 4/5\n",
      "99/99 [==============================] - 0s 2ms/step - loss: 0.0012 - val_loss: 6.0203e-04\n",
      "Epoch 5/5\n",
      "99/99 [==============================] - 0s 2ms/step - loss: 7.6334e-04 - val_loss: 7.2785e-04\n",
      "Train Mean Absolute Error: 33.968734605535936\n",
      "Train Root Mean Squared Error: 48.600658313077226\n",
      "-------------------------------23--------------------------\n",
      "Epoch 1/5\n",
      "99/99 [==============================] - 2s 5ms/step - loss: 0.0032 - val_loss: 0.0071\n",
      "Epoch 2/5\n",
      "99/99 [==============================] - 0s 1ms/step - loss: 0.0116 - val_loss: 0.0017\n",
      "Epoch 3/5\n",
      "99/99 [==============================] - 0s 1ms/step - loss: 0.0046 - val_loss: 6.8375e-04\n",
      "Epoch 4/5\n",
      "99/99 [==============================] - 0s 1ms/step - loss: 0.0015 - val_loss: 7.0606e-04\n",
      "Epoch 5/5\n",
      "99/99 [==============================] - 0s 2ms/step - loss: 8.6838e-04 - val_loss: 5.9168e-04\n",
      "Train Mean Absolute Error: 34.98457180245502\n",
      "Train Root Mean Squared Error: 50.57494800569968\n",
      "-------------------------------24--------------------------\n",
      "Epoch 1/5\n",
      "99/99 [==============================] - 2s 5ms/step - loss: 0.0028 - val_loss: 0.0044\n",
      "Epoch 2/5\n",
      "99/99 [==============================] - 0s 2ms/step - loss: 0.0117 - val_loss: 0.0015\n",
      "Epoch 3/5\n",
      "99/99 [==============================] - 0s 1ms/step - loss: 0.0035 - val_loss: 6.0455e-04\n",
      "Epoch 4/5\n",
      "99/99 [==============================] - 0s 1ms/step - loss: 0.0010 - val_loss: 5.6207e-04\n",
      "Epoch 5/5\n",
      "99/99 [==============================] - 0s 2ms/step - loss: 9.3681e-04 - val_loss: 6.2533e-04\n",
      "Train Mean Absolute Error: 36.03022627162921\n",
      "Train Root Mean Squared Error: 53.61063886390199\n",
      "-------------------------------25--------------------------\n",
      "Epoch 1/5\n",
      "99/99 [==============================] - 2s 5ms/step - loss: 0.0022 - val_loss: 0.0055\n",
      "Epoch 2/5\n",
      "99/99 [==============================] - 0s 2ms/step - loss: 0.0102 - val_loss: 0.0014\n",
      "Epoch 3/5\n",
      "99/99 [==============================] - 0s 2ms/step - loss: 0.0025 - val_loss: 8.2050e-04\n",
      "Epoch 4/5\n",
      "99/99 [==============================] - 0s 2ms/step - loss: 9.3030e-04 - val_loss: 7.6698e-04\n",
      "Epoch 5/5\n",
      "99/99 [==============================] - 0s 1ms/step - loss: 6.5956e-04 - val_loss: 6.4089e-04\n",
      "Train Mean Absolute Error: 36.74373913676048\n",
      "Train Root Mean Squared Error: 58.146094020031626\n",
      "-------------------------------26--------------------------\n",
      "Epoch 1/5\n",
      "99/99 [==============================] - 2s 5ms/step - loss: 0.0028 - val_loss: 0.0052\n",
      "Epoch 2/5\n",
      "99/99 [==============================] - 0s 1ms/step - loss: 0.0125 - val_loss: 0.0017\n",
      "Epoch 3/5\n",
      "99/99 [==============================] - 0s 1ms/step - loss: 0.0032 - val_loss: 6.5368e-04\n",
      "Epoch 4/5\n",
      "99/99 [==============================] - 0s 1ms/step - loss: 9.1345e-04 - val_loss: 5.8732e-04\n",
      "Epoch 5/5\n",
      "99/99 [==============================] - 0s 1ms/step - loss: 6.7855e-04 - val_loss: 6.7980e-04\n",
      "Train Mean Absolute Error: 32.24910478581679\n",
      "Train Root Mean Squared Error: 50.77596844960558\n",
      "-------------------------------27--------------------------\n",
      "Epoch 1/5\n",
      "99/99 [==============================] - 2s 5ms/step - loss: 0.0015 - val_loss: 0.0073\n",
      "Epoch 2/5\n",
      "99/99 [==============================] - 0s 2ms/step - loss: 0.0096 - val_loss: 0.0013\n",
      "Epoch 3/5\n",
      "99/99 [==============================] - 0s 2ms/step - loss: 0.0012 - val_loss: 7.9804e-04\n",
      "Epoch 4/5\n",
      "99/99 [==============================] - 0s 2ms/step - loss: 5.9836e-04 - val_loss: 8.4285e-04\n",
      "Epoch 5/5\n",
      "99/99 [==============================] - 0s 1ms/step - loss: 5.9204e-04 - val_loss: 7.0553e-04\n",
      "Train Mean Absolute Error: 30.527630924568836\n",
      "Train Root Mean Squared Error: 50.413945841210065\n",
      "-------------------------------28--------------------------\n",
      "Epoch 1/5\n",
      "99/99 [==============================] - 2s 5ms/step - loss: 0.0015 - val_loss: 0.0074\n",
      "Epoch 2/5\n",
      "99/99 [==============================] - 0s 1ms/step - loss: 0.0098 - val_loss: 0.0011\n",
      "Epoch 3/5\n",
      "99/99 [==============================] - ETA: 0s - loss: 0.001 - 0s 1ms/step - loss: 0.0012 - val_loss: 7.7189e-04\n",
      "Epoch 4/5\n",
      "99/99 [==============================] - 0s 1ms/step - loss: 6.6229e-04 - val_loss: 8.7362e-04\n",
      "Epoch 5/5\n",
      "99/99 [==============================] - 0s 1ms/step - loss: 5.7523e-04 - val_loss: 6.2834e-04\n",
      "Train Mean Absolute Error: 37.73144298221692\n",
      "Train Root Mean Squared Error: 51.91836429311114\n",
      "-------------------------------29--------------------------\n",
      "Epoch 1/5\n",
      "99/99 [==============================] - 2s 5ms/step - loss: 0.0030 - val_loss: 0.0078\n",
      "Epoch 2/5\n",
      "99/99 [==============================] - 0s 2ms/step - loss: 0.0108 - val_loss: 0.0019\n",
      "Epoch 3/5\n",
      "99/99 [==============================] - 0s 1ms/step - loss: 0.0041 - val_loss: 0.0012\n",
      "Epoch 4/5\n",
      "99/99 [==============================] - 0s 1ms/step - loss: 0.0014 - val_loss: 8.6115e-04\n",
      "Epoch 5/5\n",
      "99/99 [==============================] - 0s 1ms/step - loss: 7.3896e-04 - val_loss: 6.5730e-04\n",
      "Train Mean Absolute Error: 30.861698349546277\n",
      "Train Root Mean Squared Error: 56.23633935541529\n",
      "-------------------------------20--------------------------\n",
      "Epoch 1/5\n",
      "97/97 [==============================] - 2s 5ms/step - loss: 0.0023 - val_loss: 0.0083\n",
      "Epoch 2/5\n",
      "97/97 [==============================] - 0s 2ms/step - loss: 0.0068 - val_loss: 0.0053\n",
      "Epoch 3/5\n",
      "97/97 [==============================] - 0s 1ms/step - loss: 0.0024 - val_loss: 0.0036\n",
      "Epoch 4/5\n",
      "97/97 [==============================] - 0s 2ms/step - loss: 0.0012 - val_loss: 0.0019\n",
      "Epoch 5/5\n",
      "97/97 [==============================] - 0s 2ms/step - loss: 0.0011 - val_loss: 0.0039\n",
      "Train Mean Absolute Error: 56.87072592302716\n",
      "Train Root Mean Squared Error: 74.14005675171954\n",
      "-------------------------------21--------------------------\n",
      "Epoch 1/5\n",
      "97/97 [==============================] - 2s 5ms/step - loss: 0.0018 - val_loss: 0.0071\n",
      "Epoch 2/5\n",
      "97/97 [==============================] - 0s 1ms/step - loss: 0.0054 - val_loss: 0.0094\n",
      "Epoch 3/5\n",
      "97/97 [==============================] - 0s 1ms/step - loss: 0.0024 - val_loss: 0.0055\n",
      "Epoch 4/5\n",
      "97/97 [==============================] - 0s 1ms/step - loss: 0.0011 - val_loss: 0.0023\n",
      "Epoch 5/5\n",
      "97/97 [==============================] - 0s 1ms/step - loss: 8.9757e-04 - val_loss: 0.0065\n",
      "Train Mean Absolute Error: 45.28361676519826\n",
      "Train Root Mean Squared Error: 65.89359421967623\n",
      "-------------------------------22--------------------------\n",
      "Epoch 1/5\n",
      "97/97 [==============================] - 2s 5ms/step - loss: 0.0015 - val_loss: 0.0080\n",
      "Epoch 2/5\n",
      "97/97 [==============================] - 0s 2ms/step - loss: 0.0044 - val_loss: 0.0060\n",
      "Epoch 3/5\n",
      "97/97 [==============================] - 0s 1ms/step - loss: 0.0021 - val_loss: 0.0046\n",
      "Epoch 4/5\n",
      "97/97 [==============================] - 0s 1ms/step - loss: 0.0011 - val_loss: 0.0034\n",
      "Epoch 5/5\n",
      "97/97 [==============================] - 0s 1ms/step - loss: 8.1675e-04 - val_loss: 0.0016\n"
     ]
    }
   ],
   "source": [
    "# wielkość próbki\n",
    "batch_start, batch_end = 20, 30\n",
    "look_backs = [3,10,30]\n",
    "\n",
    "\n",
    "error_look_back = {}\n",
    "for look_back in look_backs:\n",
    "  MAEs = []\n",
    "  MSEs = []\n",
    "  Y_trains = []\n",
    "  train_predicts = []\n",
    "\n",
    "  X_train, Y_train = create_dataset_lstm(train, look_back)\n",
    "  X_test, Y_test = create_dataset_lstm(test, look_back)\n",
    "  X_train = np.reshape(X_train, (X_train.shape[0], 1, X_train.shape[1]))\n",
    "  X_test = np.reshape(X_test, (X_test.shape[0], 1, X_test.shape[1]))\n",
    "  for batch in range(batch_start, batch_end):\n",
    "    print(f'-------------------------------{batch}--------------------------')\n",
    "    history = lstm_model(X_train, Y_train, X_test, Y_test, batch_size=batch)\n",
    "    tmp_Y_train, tmp_train_predict, MAE, MSE  = evaluation_model(history,X_train, X_test, Y_train, predicted_variable_name, testing=True)\n",
    "    \n",
    "    MAEs.append(MAE)\n",
    "    MSEs.append(MSE)\n",
    "    Y_trains.append(tmp_Y_train)\n",
    "    train_predicts.append(tmp_train_predict)\n",
    "  error_look_back[look_back] = {\"MAE\":MAEs, \"MSE\":MSEs, \"Y_trains\": Y_trains, \"train_predicts\": train_predicts}\n"
   ]
  },
  {
   "cell_type": "code",
   "execution_count": null,
   "metadata": {},
   "outputs": [],
   "source": [
    "error_look_back[3][\"MSE\"]"
   ]
  },
  {
   "cell_type": "code",
   "execution_count": null,
   "metadata": {},
   "outputs": [],
   "source": [
    "error_look_back[3][\"MAE\"]"
   ]
  },
  {
   "cell_type": "code",
   "execution_count": null,
   "metadata": {},
   "outputs": [],
   "source": [
    "# wykres błędów MSE oraz MAE\n",
    "look_back_to_check = 3 \n",
    "sns.lineplot(x=[a for a in range(batch_start, batch_end)], y=error_look_back[look_back_to_check][\"MSE\"])\n",
    "sns.lineplot(x=[a for a in range(batch_start, batch_end)], y=error_look_back[look_back_to_check][\"MAE\"])\n"
   ]
  },
  {
   "cell_type": "code",
   "execution_count": null,
   "metadata": {},
   "outputs": [],
   "source": [
    "batch_index = 6\n",
    "look_back_to_check = 3\n",
    "visualization(Y_train = error_look_back[look_back_to_check][\"Y_trains\"][batch_index], train_predict = error_look_back[look_back_to_check][\"train_predicts\"][batch_index])"
   ]
  },
  {
   "cell_type": "code",
   "execution_count": null,
   "metadata": {},
   "outputs": [],
   "source": [
    "error_look_back[3][\"Y_trains\"][0]"
   ]
  },
  {
   "cell_type": "markdown",
   "metadata": {},
   "source": [
    "## Podsumowanie\n",
    "\n",
    "Do badania skuteczności predykcji zastosowano następujące modyfikacje parametrów:\n",
    "\n",
    "1)\n",
    "liczba epok: 10;\n",
    "zakres próbek: 30-40\n",
    "\n",
    "2)\n",
    "liczba epok: 10;\n",
    "zakres próbek: 35-45\n",
    "\n",
    "3)\n",
    "liczba epok: 10;\n",
    "zakres próbek: 25-40\n",
    "\n",
    "4)\n",
    "liczba epok: 5;\n",
    "zakres próbek: 20-30\n",
    "\n",
    "Pierwsze trzy dobory parametrów nie wykazały satysfakcjonującej skuteczności uczenia. Wskaźniki błędów układały się w nieregularne ciągi, a wykres dokładności predykcji sprawiał wrażenie niedouczonego.\n",
    "\n",
    "Ostatnia konfiguracja pozwoliła na osiągnięcie malejącego trendu wskaźników błędów. Ponadto takie ustawienia pomogły uzyskać wskazanie dosyć dobrej dokładności predykcji."
   ]
  }
 ],
 "metadata": {
  "kernelspec": {
   "display_name": "Python 3",
   "language": "python",
   "name": "python3"
  },
  "language_info": {
   "codemirror_mode": {
    "name": "ipython",
    "version": 3
   },
   "file_extension": ".py",
   "mimetype": "text/x-python",
   "name": "python",
   "nbconvert_exporter": "python",
   "pygments_lexer": "ipython3",
   "version": "3.8.5"
  }
 },
 "nbformat": 4,
 "nbformat_minor": 5
}
