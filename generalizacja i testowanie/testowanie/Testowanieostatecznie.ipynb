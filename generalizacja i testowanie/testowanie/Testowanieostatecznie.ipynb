{
 "cells": [
  {
   "cell_type": "code",
   "execution_count": 90,
   "metadata": {
    "id": "5MHCQeDAUd3X"
   },
   "outputs": [
    {
     "name": "stdout",
     "output_type": "stream",
     "text": [
      "Requirement already satisfied: ipywidgets in c:\\users\\agatk\\anaconda3\\lib\\site-packages (7.5.1)\n",
      "Requirement already satisfied: ipython>=4.0.0; python_version >= \"3.3\" in c:\\users\\agatk\\anaconda3\\lib\\site-packages (from ipywidgets) (7.16.1)\n",
      "Requirement already satisfied: widgetsnbextension~=3.5.0 in c:\\users\\agatk\\anaconda3\\lib\\site-packages (from ipywidgets) (3.5.1)\n",
      "Requirement already satisfied: nbformat>=4.2.0 in c:\\users\\agatk\\anaconda3\\lib\\site-packages (from ipywidgets) (5.0.7)\n",
      "Requirement already satisfied: traitlets>=4.3.1 in c:\\users\\agatk\\anaconda3\\lib\\site-packages (from ipywidgets) (4.3.3)\n",
      "Requirement already satisfied: ipykernel>=4.5.1 in c:\\users\\agatk\\anaconda3\\lib\\site-packages (from ipywidgets) (5.3.2)\n",
      "Requirement already satisfied: jedi>=0.10 in c:\\users\\agatk\\anaconda3\\lib\\site-packages (from ipython>=4.0.0; python_version >= \"3.3\"->ipywidgets) (0.17.1)\n",
      "Requirement already satisfied: backcall in c:\\users\\agatk\\anaconda3\\lib\\site-packages (from ipython>=4.0.0; python_version >= \"3.3\"->ipywidgets) (0.2.0)\n",
      "Requirement already satisfied: decorator in c:\\users\\agatk\\anaconda3\\lib\\site-packages (from ipython>=4.0.0; python_version >= \"3.3\"->ipywidgets) (4.4.2)\n",
      "Requirement already satisfied: prompt-toolkit!=3.0.0,!=3.0.1,<3.1.0,>=2.0.0 in c:\\users\\agatk\\anaconda3\\lib\\site-packages (from ipython>=4.0.0; python_version >= \"3.3\"->ipywidgets) (3.0.5)\n",
      "Requirement already satisfied: pickleshare in c:\\users\\agatk\\anaconda3\\lib\\site-packages (from ipython>=4.0.0; python_version >= \"3.3\"->ipywidgets) (0.7.5)\n",
      "Requirement already satisfied: colorama; sys_platform == \"win32\" in c:\\users\\agatk\\anaconda3\\lib\\site-packages (from ipython>=4.0.0; python_version >= \"3.3\"->ipywidgets) (0.4.3)\n",
      "Requirement already satisfied: pygments in c:\\users\\agatk\\anaconda3\\lib\\site-packages (from ipython>=4.0.0; python_version >= \"3.3\"->ipywidgets) (2.6.1)\n",
      "Requirement already satisfied: setuptools>=18.5 in c:\\users\\agatk\\anaconda3\\lib\\site-packages (from ipython>=4.0.0; python_version >= \"3.3\"->ipywidgets) (49.2.0.post20200714)\n",
      "Requirement already satisfied: notebook>=4.4.1 in c:\\users\\agatk\\anaconda3\\lib\\site-packages (from widgetsnbextension~=3.5.0->ipywidgets) (6.0.3)\n",
      "Requirement already satisfied: ipython-genutils in c:\\users\\agatk\\anaconda3\\lib\\site-packages (from nbformat>=4.2.0->ipywidgets) (0.2.0)\n",
      "Requirement already satisfied: jsonschema!=2.5.0,>=2.4 in c:\\users\\agatk\\anaconda3\\lib\\site-packages (from nbformat>=4.2.0->ipywidgets) (3.2.0)\n",
      "Requirement already satisfied: jupyter-core in c:\\users\\agatk\\anaconda3\\lib\\site-packages (from nbformat>=4.2.0->ipywidgets) (4.6.3)\n",
      "Requirement already satisfied: six in c:\\users\\agatk\\anaconda3\\lib\\site-packages (from traitlets>=4.3.1->ipywidgets) (1.15.0)\n",
      "Requirement already satisfied: tornado>=4.2 in c:\\users\\agatk\\anaconda3\\lib\\site-packages (from ipykernel>=4.5.1->ipywidgets) (6.0.4)\n",
      "Requirement already satisfied: jupyter-client in c:\\users\\agatk\\anaconda3\\lib\\site-packages (from ipykernel>=4.5.1->ipywidgets) (6.1.6)\n",
      "Requirement already satisfied: parso<0.8.0,>=0.7.0 in c:\\users\\agatk\\anaconda3\\lib\\site-packages (from jedi>=0.10->ipython>=4.0.0; python_version >= \"3.3\"->ipywidgets) (0.7.0)\n",
      "Requirement already satisfied: wcwidth in c:\\users\\agatk\\anaconda3\\lib\\site-packages (from prompt-toolkit!=3.0.0,!=3.0.1,<3.1.0,>=2.0.0->ipython>=4.0.0; python_version >= \"3.3\"->ipywidgets) (0.2.5)\n",
      "Requirement already satisfied: nbconvert in c:\\users\\agatk\\anaconda3\\lib\\site-packages (from notebook>=4.4.1->widgetsnbextension~=3.5.0->ipywidgets) (5.6.1)\n",
      "Requirement already satisfied: jinja2 in c:\\users\\agatk\\anaconda3\\lib\\site-packages (from notebook>=4.4.1->widgetsnbextension~=3.5.0->ipywidgets) (2.11.2)\n",
      "Requirement already satisfied: Send2Trash in c:\\users\\agatk\\anaconda3\\lib\\site-packages (from notebook>=4.4.1->widgetsnbextension~=3.5.0->ipywidgets) (1.5.0)\n",
      "Requirement already satisfied: prometheus-client in c:\\users\\agatk\\anaconda3\\lib\\site-packages (from notebook>=4.4.1->widgetsnbextension~=3.5.0->ipywidgets) (0.8.0)\n",
      "Requirement already satisfied: terminado>=0.8.1 in c:\\users\\agatk\\anaconda3\\lib\\site-packages (from notebook>=4.4.1->widgetsnbextension~=3.5.0->ipywidgets) (0.8.3)\n",
      "Requirement already satisfied: pyzmq>=17 in c:\\users\\agatk\\anaconda3\\lib\\site-packages (from notebook>=4.4.1->widgetsnbextension~=3.5.0->ipywidgets) (19.0.1)\n",
      "Requirement already satisfied: attrs>=17.4.0 in c:\\users\\agatk\\anaconda3\\lib\\site-packages (from jsonschema!=2.5.0,>=2.4->nbformat>=4.2.0->ipywidgets) (19.3.0)\n",
      "Requirement already satisfied: pyrsistent>=0.14.0 in c:\\users\\agatk\\anaconda3\\lib\\site-packages (from jsonschema!=2.5.0,>=2.4->nbformat>=4.2.0->ipywidgets) (0.16.0)\n",
      "Requirement already satisfied: pywin32>=1.0; sys_platform == \"win32\" in c:\\users\\agatk\\anaconda3\\lib\\site-packages (from jupyter-core->nbformat>=4.2.0->ipywidgets) (227)\n",
      "Requirement already satisfied: python-dateutil>=2.1 in c:\\users\\agatk\\anaconda3\\lib\\site-packages (from jupyter-client->ipykernel>=4.5.1->ipywidgets) (2.8.1)\n",
      "Requirement already satisfied: defusedxml in c:\\users\\agatk\\anaconda3\\lib\\site-packages (from nbconvert->notebook>=4.4.1->widgetsnbextension~=3.5.0->ipywidgets) (0.6.0)\n",
      "Requirement already satisfied: pandocfilters>=1.4.1 in c:\\users\\agatk\\anaconda3\\lib\\site-packages (from nbconvert->notebook>=4.4.1->widgetsnbextension~=3.5.0->ipywidgets) (1.4.2)\n",
      "Requirement already satisfied: mistune<2,>=0.8.1 in c:\\users\\agatk\\anaconda3\\lib\\site-packages (from nbconvert->notebook>=4.4.1->widgetsnbextension~=3.5.0->ipywidgets) (0.8.4)\n",
      "Requirement already satisfied: testpath in c:\\users\\agatk\\anaconda3\\lib\\site-packages (from nbconvert->notebook>=4.4.1->widgetsnbextension~=3.5.0->ipywidgets) (0.4.4)\n",
      "Requirement already satisfied: entrypoints>=0.2.2 in c:\\users\\agatk\\anaconda3\\lib\\site-packages (from nbconvert->notebook>=4.4.1->widgetsnbextension~=3.5.0->ipywidgets) (0.3)\n",
      "Requirement already satisfied: bleach in c:\\users\\agatk\\anaconda3\\lib\\site-packages (from nbconvert->notebook>=4.4.1->widgetsnbextension~=3.5.0->ipywidgets) (3.1.5)\n",
      "Requirement already satisfied: MarkupSafe>=0.23 in c:\\users\\agatk\\anaconda3\\lib\\site-packages (from jinja2->notebook>=4.4.1->widgetsnbextension~=3.5.0->ipywidgets) (1.1.1)\n",
      "Requirement already satisfied: packaging in c:\\users\\agatk\\anaconda3\\lib\\site-packages (from bleach->nbconvert->notebook>=4.4.1->widgetsnbextension~=3.5.0->ipywidgets) (20.4)\n",
      "Requirement already satisfied: webencodings in c:\\users\\agatk\\anaconda3\\lib\\site-packages (from bleach->nbconvert->notebook>=4.4.1->widgetsnbextension~=3.5.0->ipywidgets) (0.5.1)\n",
      "Requirement already satisfied: pyparsing>=2.0.2 in c:\\users\\agatk\\anaconda3\\lib\\site-packages (from packaging->bleach->nbconvert->notebook>=4.4.1->widgetsnbextension~=3.5.0->ipywidgets) (2.4.7)\n"
     ]
    }
   ],
   "source": [
    "!pip3 install ipywidgets"
   ]
  },
  {
   "cell_type": "code",
   "execution_count": 91,
   "metadata": {},
   "outputs": [
    {
     "name": "stdout",
     "output_type": "stream",
     "text": [
      "Requirement already satisfied: keras in c:\\users\\agatk\\anaconda3\\lib\\site-packages (2.4.3)\n",
      "Requirement already satisfied: h5py in c:\\users\\agatk\\anaconda3\\lib\\site-packages (from keras) (2.10.0)\n",
      "Requirement already satisfied: scipy>=0.14 in c:\\users\\agatk\\anaconda3\\lib\\site-packages (from keras) (1.5.0)\n",
      "Requirement already satisfied: pyyaml in c:\\users\\agatk\\anaconda3\\lib\\site-packages (from keras) (5.3.1)\n",
      "Requirement already satisfied: numpy>=1.9.1 in c:\\users\\agatk\\anaconda3\\lib\\site-packages (from keras) (1.19.5)\n",
      "Requirement already satisfied: six in c:\\users\\agatk\\anaconda3\\lib\\site-packages (from h5py->keras) (1.15.0)\n",
      "Note: you may need to restart the kernel to use updated packages.\n"
     ]
    }
   ],
   "source": [
    "pip install keras "
   ]
  },
  {
   "cell_type": "code",
   "execution_count": 92,
   "metadata": {
    "id": "z4nn0PkVUlJp"
   },
   "outputs": [],
   "source": [
    "import tensorflow as tf #importowanie wymaganych bibliotek\n",
    "from tensorflow import keras\n",
    "from tensorflow.keras.layers import Dense\n",
    "from tensorflow.keras.layers import Flatten\n",
    "from tensorflow.keras.layers import Input\n",
    "from tensorflow.keras.layers import BatchNormalization\n",
    "from tensorflow.keras.layers import Dropout\n",
    "from tensorflow.keras.layers import LSTM\n",
    "from tensorflow.keras.models import Model\n",
    "from tensorflow.keras.models import Sequential, load_model\n",
    "import matplotlib.pyplot as plt\n",
    "import seaborn as sns\n",
    "import pandas as pd\n",
    "import numpy as np\n",
    "from IPython.display import display\n",
    "import ipywidgets as widgets\n",
    "from ipywidgets import interact, interact_manual\n",
    "from ipywidgets import interactive\n",
    "\n",
    "from sklearn.model_selection import train_test_split\n",
    "from ipywidgets import interact, interact_manual\n",
    "from ipywidgets import interactive\n",
    "from sklearn.metrics import r2_score\n",
    "from sklearn.metrics import mean_absolute_error\n",
    "from sklearn.metrics import mean_squared_error"
   ]
  },
  {
   "cell_type": "code",
   "execution_count": 93,
   "metadata": {
    "id": "xNXhr96tUzag"
   },
   "outputs": [],
   "source": [
    "data = pd.read_csv('./zmienne/usdpln_d.csv')#wczytanie pliku"
   ]
  },
  {
   "cell_type": "code",
   "execution_count": 94,
   "metadata": {
    "id": "F28mhURdVfUZ"
   },
   "outputs": [],
   "source": [
    "#podzial na zbior treningow, testowy, walidacyjny"
   ]
  },
  {
   "cell_type": "code",
   "execution_count": 95,
   "metadata": {},
   "outputs": [
    {
     "name": "stdout",
     "output_type": "stream",
     "text": [
      "(2849, 5)\n"
     ]
    }
   ],
   "source": [
    "print(data.shape)"
   ]
  },
  {
   "cell_type": "code",
   "execution_count": 81,
   "metadata": {
    "id": "tVIFFmksVtX7"
   },
   "outputs": [],
   "source": [
    "ratio = 0.6\n",
    "N = int(len(data)*ratio)"
   ]
  },
  {
   "cell_type": "code",
   "execution_count": 82,
   "metadata": {
    "id": "vNvqKYIGWK21"
   },
   "outputs": [],
   "source": [
    "train_df, test_df = data[:N], data[N:]"
   ]
  },
  {
   "cell_type": "code",
   "execution_count": 83,
   "metadata": {
    "id": "b0jVcRkvWVDV"
   },
   "outputs": [],
   "source": [
    "ratio = 0.5\n",
    "N = int(len(data)*ratio)\n",
    "test_df, val_df = test_df[:N], test_df[N:]"
   ]
  },
  {
   "cell_type": "code",
   "execution_count": 29,
   "metadata": {
    "colab": {
     "base_uri": "https://localhost:8080/",
     "height": 284
    },
    "id": "yxOZAIQgWjaW",
    "outputId": "2035dbd2-676d-4d86-bb4d-a2b2b91cb9c1"
   },
   "outputs": [
    {
     "data": {
      "text/html": [
       "<div>\n",
       "<style scoped>\n",
       "    .dataframe tbody tr th:only-of-type {\n",
       "        vertical-align: middle;\n",
       "    }\n",
       "\n",
       "    .dataframe tbody tr th {\n",
       "        vertical-align: top;\n",
       "    }\n",
       "\n",
       "    .dataframe thead th {\n",
       "        text-align: right;\n",
       "    }\n",
       "</style>\n",
       "<table border=\"1\" class=\"dataframe\">\n",
       "  <thead>\n",
       "    <tr style=\"text-align: right;\">\n",
       "      <th></th>\n",
       "      <th>Otwarcie</th>\n",
       "      <th>Najwyzszy</th>\n",
       "      <th>Najnizszy</th>\n",
       "      <th>Zamkniecie</th>\n",
       "    </tr>\n",
       "  </thead>\n",
       "  <tbody>\n",
       "    <tr>\n",
       "      <th>count</th>\n",
       "      <td>1709.000000</td>\n",
       "      <td>1709.000000</td>\n",
       "      <td>1709.000000</td>\n",
       "      <td>1709.000000</td>\n",
       "    </tr>\n",
       "    <tr>\n",
       "      <th>mean</th>\n",
       "      <td>3.283205</td>\n",
       "      <td>3.304046</td>\n",
       "      <td>3.265029</td>\n",
       "      <td>3.284120</td>\n",
       "    </tr>\n",
       "    <tr>\n",
       "      <th>std</th>\n",
       "      <td>0.355510</td>\n",
       "      <td>0.356859</td>\n",
       "      <td>0.352708</td>\n",
       "      <td>0.355198</td>\n",
       "    </tr>\n",
       "    <tr>\n",
       "      <th>min</th>\n",
       "      <td>2.646300</td>\n",
       "      <td>2.657000</td>\n",
       "      <td>2.631900</td>\n",
       "      <td>2.638900</td>\n",
       "    </tr>\n",
       "    <tr>\n",
       "      <th>25%</th>\n",
       "      <td>3.036700</td>\n",
       "      <td>3.050900</td>\n",
       "      <td>3.027900</td>\n",
       "      <td>3.039300</td>\n",
       "    </tr>\n",
       "    <tr>\n",
       "      <th>50%</th>\n",
       "      <td>3.183500</td>\n",
       "      <td>3.204100</td>\n",
       "      <td>3.165700</td>\n",
       "      <td>3.183500</td>\n",
       "    </tr>\n",
       "    <tr>\n",
       "      <th>75%</th>\n",
       "      <td>3.512700</td>\n",
       "      <td>3.537900</td>\n",
       "      <td>3.500100</td>\n",
       "      <td>3.527800</td>\n",
       "    </tr>\n",
       "    <tr>\n",
       "      <th>max</th>\n",
       "      <td>4.133320</td>\n",
       "      <td>4.155790</td>\n",
       "      <td>4.113940</td>\n",
       "      <td>4.132170</td>\n",
       "    </tr>\n",
       "  </tbody>\n",
       "</table>\n",
       "</div>"
      ],
      "text/plain": [
       "          Otwarcie    Najwyzszy    Najnizszy   Zamkniecie\n",
       "count  1709.000000  1709.000000  1709.000000  1709.000000\n",
       "mean      3.283205     3.304046     3.265029     3.284120\n",
       "std       0.355510     0.356859     0.352708     0.355198\n",
       "min       2.646300     2.657000     2.631900     2.638900\n",
       "25%       3.036700     3.050900     3.027900     3.039300\n",
       "50%       3.183500     3.204100     3.165700     3.183500\n",
       "75%       3.512700     3.537900     3.500100     3.527800\n",
       "max       4.133320     4.155790     4.113940     4.132170"
      ]
     },
     "execution_count": 29,
     "metadata": {},
     "output_type": "execute_result"
    }
   ],
   "source": [
    "train_df.describe()"
   ]
  },
  {
   "cell_type": "code",
   "execution_count": 96,
   "metadata": {
    "id": "HrtXH7VgWqsD"
   },
   "outputs": [],
   "source": [
    "rolling = data.rolling(window=7)"
   ]
  },
  {
   "cell_type": "code",
   "execution_count": 97,
   "metadata": {
    "id": "IaOjWnf3WuAB"
   },
   "outputs": [],
   "source": [
    "data_roll = pd.DataFrame()\n",
    "data_roll['Zamkniecie']=train_df['Zamkniecie']"
   ]
  },
  {
   "cell_type": "code",
   "execution_count": 98,
   "metadata": {
    "colab": {
     "base_uri": "https://localhost:8080/"
    },
    "id": "4VgRQhCPWxKt",
    "outputId": "524e5135-d496-4025-c105-cd57cb9288f8"
   },
   "outputs": [
    {
     "data": {
      "application/vnd.jupyter.widget-view+json": {
       "model_id": "e911a2697b7e46478d2abdba11851bf0",
       "version_major": 2,
       "version_minor": 0
      },
      "text/plain": [
       "interactive(children=(IntSlider(value=50, description='lw', min=1), Button(description='Run Interact', style=B…"
      ]
     },
     "metadata": {},
     "output_type": "display_data"
    }
   ],
   "source": [
    "@widgets.interact_manual(lw=(1, 100))\n",
    "def plot(lw):\n",
    "  rolling = data.rolling(window=lw, center=True)\n",
    "  data_roll = pd.DataFrame()\n",
    "  # data_roll.index = pd.to_datetime(data['Data'])\n",
    "  data_roll['Zamkniecie']=data['Zamkniecie']\n",
    "  data_roll['7 days rolling_mean(srednia kroczaca)']=data_roll['Zamkniecie'].rolling(lw, min_periods=1).mean()\n",
    "  ax = data_roll.plot(style=['-', '--'], rot=90, figsize=(20, 10))\n",
    "  ax.lines[0].set_alpha(0.3)"
   ]
  },
  {
   "cell_type": "code",
   "execution_count": 34,
   "metadata": {
    "id": "8eSGFce8W3jD"
   },
   "outputs": [],
   "source": [
    "#Przygotowanie danych do uczenia na sieci LSTM(zmiana wymiarow macierzy, by model zaczal obrabiac dane)"
   ]
  },
  {
   "cell_type": "code",
   "execution_count": 70,
   "metadata": {
    "id": "xKrJvH7DXgFR"
   },
   "outputs": [],
   "source": [
    "#import bibliotek do stworzenia sieci LSTM"
   ]
  },
  {
   "cell_type": "code",
   "execution_count": 36,
   "metadata": {
    "id": "YGaB_BvGXc2X"
   },
   "outputs": [],
   "source": [
    "import math\n",
    "import keras\n",
    "from keras.models import Sequential\n",
    "from keras.layers import Dense\n",
    "from keras.layers import LSTM\n",
    "from keras.layers import Dropout\n",
    "from keras.layers import *\n",
    "from sklearn.preprocessing import MinMaxScaler\n",
    "from sklearn.metrics import mean_squared_error\n",
    "from sklearn.metrics import mean_absolute_error\n",
    "from keras.callbacks import EarlyStopping"
   ]
  },
  {
   "cell_type": "code",
   "execution_count": 99,
   "metadata": {
    "id": "e4v22vMBXlIn"
   },
   "outputs": [],
   "source": [
    "zmienna_przewidywana = \"Zamkniecie\"\n",
    "\n",
    "\n",
    "def prepare_dataset_to_lstm(zmienna_przewidywana, train_df, ratio):\n",
    "  dataset = train_df[zmienna_przewidywana].values #numpy.ndarray\n",
    "  dataset = dataset.astype('float32') #zamian typu na float\n",
    "  dataset = np.reshape(dataset, (-1, 1))\n",
    "  scaler = MinMaxScaler(feature_range=(0, 1)) #skalowanie zmiennych\n",
    "  dataset = scaler.fit_transform(dataset)\n",
    "  train_size = int(len(dataset) * ratio)\n",
    "  test_size = len(dataset) - train_size\n",
    "  train, test = dataset[0:train_size,:], dataset[train_size:len(dataset),:]\n",
    "\n",
    "  return train, test, scaler\n",
    "\n"
   ]
  },
  {
   "cell_type": "code",
   "execution_count": 100,
   "metadata": {
    "id": "BPKKHxCWXpe1"
   },
   "outputs": [],
   "source": [
    "train, test, scaler = prepare_dataset_to_lstm(zmienna_przewidywana, train_df, ratio=0.8)\n",
    "\n",
    "# look_back- liczba poprzednich kroków czasowych, które mają być użyte jako zmienne wejściowe\n",
    "# do przewidywania następnego okresu czasu, w tym przypadku domyślnie 1.\n",
    "def create_dataset_lstm(dataset, look_back=1):\n",
    "    X, Y = [], []\n",
    "    for i in range(len(dataset)-look_back-1):\n",
    "        a = dataset[i:(i+look_back), 0]\n",
    "        X.append(a)\n",
    "        Y.append(dataset[i + look_back, 0])\n",
    "    return np.array(X), np.array(Y)\n",
    "    \n",
    "look_back = 20 #liczba probek ktora pobieramy, minimalnie jedna probka, maksymalnie tyle, ile ma ciag elementow\n",
    "X_train, Y_train = create_dataset_lstm(train, look_back)\n",
    "X_test, Y_test = create_dataset_lstm(test, look_back)\n",
    "\n",
    "# reshape input to be [samples, time steps, features]\n",
    "X_train = np.reshape(X_train, (X_train.shape[0], 1, X_train.shape[1]))\n",
    "X_test = np.reshape(X_test, (X_test.shape[0], 1, X_test.shape[1]))"
   ]
  },
  {
   "cell_type": "code",
   "execution_count": 73,
   "metadata": {
    "id": "lu0pQXiDZYM7"
   },
   "outputs": [],
   "source": [
    "#Uczenie modelu"
   ]
  },
  {
   "cell_type": "code",
   "execution_count": 104,
   "metadata": {
    "id": "24NO3QG3Y7Pp"
   },
   "outputs": [],
   "source": [
    "def lstm_model(X_train, Y_train, X_test, Y_test, batch_size=20):\n",
    "  model = Sequential()\n",
    "  model.add(LSTM(20, input_shape=(X_train.shape[1], X_train.shape[2])))\n",
    "  model.add(Dropout(0.2)) \n",
    "  model.add(Dense(8))\n",
    "    \n",
    "  model.compile(loss='mean_squared_error', optimizer='adam')\n",
    "\n",
    "  history = model.fit(X_train, Y_train, epochs=5, batch_size=10, validation_data=(X_test, Y_test), \n",
    "                      callbacks=[EarlyStopping(monitor='val_loss', patience=10)], verbose=1, shuffle=False)\n",
    "  return model\n",
    "\n"
   ]
  },
  {
   "cell_type": "code",
   "execution_count": 105,
   "metadata": {
    "id": "7OKDU7BRZhqQ"
   },
   "outputs": [],
   "source": [
    "#ewaluacja modelu\n",
    "def evaluation_model(model,X_train, X_test, Y_train, testing=False):\n",
    "  dataset = train_df[zmienna_przewidywana].values #numpy.ndarray\n",
    "  dataset = dataset.astype('float32') #zamian typu na float\n",
    "  dataset = np.reshape(dataset, (-1, 1))\n",
    "  scaler = MinMaxScaler(feature_range=(0, 1))\n",
    "  dataset = scaler.fit_transform(dataset)\n",
    "  \n",
    "  train_predict = model.predict(X_train)\n",
    "  test_predict = model.predict(X_test)\n",
    "  # invert predictions\n",
    "  \n",
    "  train_predict = scaler.inverse_transform(train_predict)\n",
    "  Y_train = scaler.inverse_transform([Y_train])\n",
    "  _mean_absolute_error = mean_absolute_error(Y_train[0], train_predict[:,0])\n",
    "  _mean_squared_error = np.sqrt(mean_squared_error(Y_train[0], train_predict[:,0]))\n",
    "  print('Train Mean Absolute Error:', _mean_absolute_error)\n",
    "  print('Train Root Mean Squared Error:',_mean_squared_error)\n",
    "  if testing:\n",
    "    return Y_train, train_predict, _mean_absolute_error, _mean_squared_error\n",
    "  return Y_train, train_predict\n",
    "\n"
   ]
  },
  {
   "cell_type": "code",
   "execution_count": 106,
   "metadata": {
    "colab": {
     "base_uri": "https://localhost:8080/"
    },
    "id": "xiujQG_iduIb",
    "outputId": "e8ecb3e7-9e2c-42e0-d29d-2736de0eea21"
   },
   "outputs": [
    {
     "name": "stdout",
     "output_type": "stream",
     "text": [
      "(1, 2, (10, 20))\n",
      "1 2 (10, 20)\n"
     ]
    }
   ],
   "source": [
    "def a():\n",
    "    return 1, 2, (10, 20)\n",
    "\n",
    "x,y, error = a()\n",
    "print(a())\n",
    "print(x,y, error)"
   ]
  },
  {
   "cell_type": "code",
   "execution_count": 107,
   "metadata": {
    "colab": {
     "base_uri": "https://localhost:8080/"
    },
    "id": "dgXynbpvZ_ZT",
    "outputId": "ec57cf4d-18cc-4236-f361-49e61e3a58e3"
   },
   "outputs": [
    {
     "name": "stdout",
     "output_type": "stream",
     "text": [
      "Epoch 1/5\n",
      "135/135 [==============================] - 4s 7ms/step - loss: 0.0408 - val_loss: 0.0038\n",
      "Epoch 2/5\n",
      "135/135 [==============================] - 0s 3ms/step - loss: 0.0076 - val_loss: 0.0022\n",
      "Epoch 3/5\n",
      "135/135 [==============================] - 0s 3ms/step - loss: 0.0069 - val_loss: 0.0018\n",
      "Epoch 4/5\n",
      "135/135 [==============================] - 0s 3ms/step - loss: 0.0061 - val_loss: 0.0015\n",
      "Epoch 5/5\n",
      "135/135 [==============================] - 0s 3ms/step - loss: 0.0054 - val_loss: 0.0020\n"
     ]
    }
   ],
   "source": [
    "history = lstm_model(X_train, Y_train, X_test, Y_test, batch_size=10)"
   ]
  },
  {
   "cell_type": "code",
   "execution_count": 108,
   "metadata": {
    "colab": {
     "base_uri": "https://localhost:8080/"
    },
    "id": "bBRLWe2tal_k",
    "outputId": "070f9856-1d3e-4d33-d48d-04dcd7883e31"
   },
   "outputs": [
    {
     "name": "stdout",
     "output_type": "stream",
     "text": [
      "Saved model to disk\n"
     ]
    }
   ],
   "source": [
    "# serialize model to JSON\n",
    "model_json = history.to_json()\n",
    "with open(\"model.json\", \"w\") as json_file:\n",
    "    json_file.write(model_json)\n",
    "# serialize weights to HDF5\n",
    "history.save_weights(\"model.h5\")\n",
    "print(\"Saved model to disk\")"
   ]
  },
  {
   "cell_type": "code",
   "execution_count": 45,
   "metadata": {
    "colab": {
     "base_uri": "https://localhost:8080/"
    },
    "id": "WfuK6w9caHN8",
    "outputId": "bc323c82-f312-43d0-904a-0d75540a2fe7"
   },
   "outputs": [
    {
     "name": "stdout",
     "output_type": "stream",
     "text": [
      "Train Mean Absolute Error: 0.14158529370025505\n",
      "Train Root Mean Squared Error: 0.15495989987331876\n"
     ]
    },
    {
     "data": {
      "text/plain": [
       "(array([[2.96259992, 2.89130002, 2.92049998, ..., 3.76939976, 3.76460021,\n",
       "         3.73879991]]),\n",
       " array([[3.0773036],\n",
       "        [3.0801792],\n",
       "        [3.076024 ],\n",
       "        ...,\n",
       "        [3.7979658],\n",
       "        [3.798829 ],\n",
       "        [3.7900662]], dtype=float32))"
      ]
     },
     "execution_count": 45,
     "metadata": {},
     "output_type": "execute_result"
    }
   ],
   "source": [
    "evaluation_model(history,X_train, X_test, Y_train)"
   ]
  },
  {
   "cell_type": "code",
   "execution_count": 46,
   "metadata": {
    "colab": {
     "base_uri": "https://localhost:8080/"
    },
    "id": "JFznAylEdG8X",
    "outputId": "3bad9dad-673c-4318-84e6-7780371beeec"
   },
   "outputs": [
    {
     "name": "stdout",
     "output_type": "stream",
     "text": [
      "Train Mean Absolute Error: 0.14158529370025505\n",
      "Train Root Mean Squared Error: 0.15495989987331876\n"
     ]
    }
   ],
   "source": [
    "Y_train, train_predict = evaluation_model(history,X_train, X_test, Y_train)"
   ]
  },
  {
   "cell_type": "code",
   "execution_count": 47,
   "metadata": {
    "id": "VQ-5nMYZcgXv"
   },
   "outputs": [],
   "source": [
    "def visualization(Y_train, train_predict):\n",
    "  N = len(Y_train[0])\n",
    "  aa=[x for x in range(N)]\n",
    "  plt.figure(figsize=(8,4))\n",
    "  plt.plot(aa, Y_train[0], marker='.', label=\"actual\")\n",
    "  plt.plot(aa, train_predict[:,0], 'r', label=\"prediction\")\n",
    "  # plt.tick_params(left=False, labelleft=True) #remove ticks\n",
    "  plt.tight_layout()\n",
    "  sns.despine(top=True)\n",
    "  plt.subplots_adjust(left=0.07)\n",
    "  plt.title(\" prediction\")\n",
    "  plt.xlabel('Time step', size=15)\n",
    "  plt.legend(fontsize=15)\n",
    "  plt.show();\n",
    "\n"
   ]
  },
  {
   "cell_type": "code",
   "execution_count": 48,
   "metadata": {
    "colab": {
     "base_uri": "https://localhost:8080/",
     "height": 331
    },
    "id": "2QEN7oeKc4W-",
    "outputId": "a989d390-23a5-457e-b2fb-2b9fcbf02502"
   },
   "outputs": [
    {
     "data": {
      "image/png": "[encoded data removed]",
      "text/plain": [
       "<Figure size 576x288 with 1 Axes>"
      ]
     },
     "metadata": {
      "needs_background": "light"
     },
     "output_type": "display_data"
    }
   ],
   "source": [
    "visualization(Y_train, train_predict)"
   ]
  },
  {
   "cell_type": "code",
   "execution_count": 49,
   "metadata": {
    "id": "186VBDTrd3yn"
   },
   "outputs": [],
   "source": [
    "#Zmieniamy wielkosc batch, by zobaczyc jaki wplyw ma ta zmienna na wyniki"
   ]
  },
  {
   "cell_type": "code",
   "execution_count": 50,
   "metadata": {
    "id": "0RAuJONqejpj"
   },
   "outputs": [
    {
     "name": "stdout",
     "output_type": "stream",
     "text": [
      "[[0.7201642  0.7194947  0.7237805 ]\n",
      " [0.7194947  0.7237805  0.7081102 ]\n",
      " [0.7237805  0.7081102  0.72130287]\n",
      " ...\n",
      " [0.8178359  0.81308115 0.80045784]\n",
      " [0.81308115 0.80045784 0.7865623 ]\n",
      " [0.80045784 0.7865623  0.79493296]]\n"
     ]
    }
   ],
   "source": [
    "# <odswiezam dane>, gdyz wymiary danych testowych i treningowych przestaja sie zgadac\n",
    "\n",
    "\n",
    "train, test, scaler = prepare_dataset_to_lstm(zmienna_przewidywana, train_df, ratio=0.8)\n",
    "\n",
    "def create_dataset_lstm(dataset, look_back=1):\n",
    "    X, Y = [], []\n",
    "    for i in range(len(dataset)-look_back):\n",
    "        a = dataset[i:(i+look_back), 0]\n",
    "        X.append(a)\n",
    "        Y.append(dataset[i + look_back, 0])\n",
    "    return np.array(X), np.array(Y)\n",
    "    \n",
    "look_back = 3 #liczba probek ktora pobieramy, minimalnie jedna probka, maksymalnie tyle, ile ma ciag elementow\n",
    "X_train, Y_train = create_dataset_lstm(train, look_back)\n",
    "X_test, Y_test = create_dataset_lstm(test, look_back)\n",
    "print(X_test)\n",
    "\n",
    "# reshape input to be [samples, time steps, features]\n",
    "X_train = np.reshape(X_train, (X_train.shape[0], 1, X_train.shape[1]))\n",
    "X_test = np.reshape(X_test, (X_test.shape[0], 1, X_test.shape[1]))"
   ]
  },
  {
   "cell_type": "code",
   "execution_count": 51,
   "metadata": {
    "colab": {
     "base_uri": "https://localhost:8080/"
    },
    "id": "RB4mp_3neAns",
    "outputId": "ab46fbc9-e979-4b84-cb4e-8b84231039a7"
   },
   "outputs": [
    {
     "name": "stdout",
     "output_type": "stream",
     "text": [
      "-------------------------------30--------------------------\n",
      "Epoch 1/5\n",
      "137/137 [==============================] - 3s 5ms/step - loss: 0.0140 - val_loss: 0.0148\n",
      "Epoch 2/5\n",
      "137/137 [==============================] - 0s 2ms/step - loss: 0.0134 - val_loss: 0.0041\n",
      "Epoch 3/5\n",
      "137/137 [==============================] - 0s 3ms/step - loss: 0.0071 - val_loss: 9.6622e-04\n",
      "Epoch 4/5\n",
      "137/137 [==============================] - 0s 2ms/step - loss: 0.0040 - val_loss: 8.0053e-04\n",
      "Epoch 5/5\n",
      "137/137 [==============================] - 0s 2ms/step - loss: 0.0032 - val_loss: 7.3968e-04\n",
      "Train Mean Absolute Error: 0.06202921417397854\n",
      "Train Root Mean Squared Error: 0.07044915595917214\n",
      "-------------------------------31--------------------------\n",
      "Epoch 1/5\n",
      "137/137 [==============================] - 3s 5ms/step - loss: 0.0439 - val_loss: 0.0800\n",
      "Epoch 2/5\n",
      "137/137 [==============================] - 0s 2ms/step - loss: 0.0223 - val_loss: 0.0430\n",
      "Epoch 3/5\n",
      "137/137 [==============================] - 0s 2ms/step - loss: 0.0157 - val_loss: 0.0179\n",
      "Epoch 4/5\n",
      "137/137 [==============================] - 0s 2ms/step - loss: 0.0095 - val_loss: 0.0063\n",
      "Epoch 5/5\n",
      "137/137 [==============================] - 0s 2ms/step - loss: 0.0054 - val_loss: 0.0018\n",
      "Train Mean Absolute Error: 0.05811336816071483\n",
      "Train Root Mean Squared Error: 0.06984931270995474\n",
      "-------------------------------32--------------------------\n",
      "Epoch 1/5\n",
      "137/137 [==============================] - 2s 5ms/step - loss: 0.0436 - val_loss: 0.0656\n",
      "Epoch 2/5\n",
      "137/137 [==============================] - 0s 2ms/step - loss: 0.0225 - val_loss: 0.0239\n",
      "Epoch 3/5\n",
      "137/137 [==============================] - 0s 2ms/step - loss: 0.0131 - val_loss: 0.0042\n",
      "Epoch 4/5\n",
      "137/137 [==============================] - 0s 3ms/step - loss: 0.0081 - val_loss: 0.0019\n",
      "Epoch 5/5\n",
      "137/137 [==============================] - 0s 2ms/step - loss: 0.0040 - val_loss: 5.6286e-04\n",
      "Train Mean Absolute Error: 0.0479885597997649\n",
      "Train Root Mean Squared Error: 0.05888501558584426\n",
      "-------------------------------33--------------------------\n",
      "Epoch 1/5\n",
      "137/137 [==============================] - 3s 6ms/step - loss: 0.0187 - val_loss: 0.0215\n",
      "Epoch 2/5\n",
      "137/137 [==============================] - 0s 2ms/step - loss: 0.0163 - val_loss: 0.0072\n",
      "Epoch 3/5\n",
      "137/137 [==============================] - 0s 2ms/step - loss: 0.0092 - val_loss: 0.0024\n",
      "Epoch 4/5\n",
      "137/137 [==============================] - 0s 2ms/step - loss: 0.0051 - val_loss: 0.0013\n",
      "Epoch 5/5\n",
      "137/137 [==============================] - 0s 2ms/step - loss: 0.0035 - val_loss: 0.0013\n",
      "Train Mean Absolute Error: 0.05684579369939364\n",
      "Train Root Mean Squared Error: 0.067056741526899\n",
      "-------------------------------34--------------------------\n",
      "Epoch 1/5\n",
      "137/137 [==============================] - 3s 5ms/step - loss: 0.0209 - val_loss: 0.0276\n",
      "Epoch 2/5\n",
      "137/137 [==============================] - 0s 2ms/step - loss: 0.0161 - val_loss: 0.0065\n",
      "Epoch 3/5\n",
      "137/137 [==============================] - 0s 2ms/step - loss: 0.0092 - val_loss: 0.0021\n",
      "Epoch 4/5\n",
      "137/137 [==============================] - 0s 2ms/step - loss: 0.0046 - val_loss: 6.7111e-04\n",
      "Epoch 5/5\n",
      "137/137 [==============================] - 0s 3ms/step - loss: 0.0030 - val_loss: 8.3398e-04\n",
      "Train Mean Absolute Error: 0.06593317489204148\n",
      "Train Root Mean Squared Error: 0.074077630862147\n",
      "-------------------------------35--------------------------\n",
      "Epoch 1/5\n",
      "137/137 [==============================] - 3s 5ms/step - loss: 0.0256 - val_loss: 0.0498\n",
      "Epoch 2/5\n",
      "137/137 [==============================] - 0s 2ms/step - loss: 0.0206 - val_loss: 0.0209\n",
      "Epoch 3/5\n",
      "137/137 [==============================] - 0s 2ms/step - loss: 0.0124 - val_loss: 0.0042\n",
      "Epoch 4/5\n",
      "137/137 [==============================] - 0s 2ms/step - loss: 0.0070 - val_loss: 0.0011\n",
      "Epoch 5/5\n",
      "137/137 [==============================] - 0s 2ms/step - loss: 0.0035 - val_loss: 6.5141e-04\n",
      "Train Mean Absolute Error: 0.052099637369310815\n",
      "Train Root Mean Squared Error: 0.061359978051933425\n",
      "-------------------------------36--------------------------\n",
      "Epoch 1/5\n",
      "137/137 [==============================] - 3s 5ms/step - loss: 0.0228 - val_loss: 0.0317\n",
      "Epoch 2/5\n",
      "137/137 [==============================] - 0s 2ms/step - loss: 0.0153 - val_loss: 0.0105\n",
      "Epoch 3/5\n",
      "137/137 [==============================] - 0s 2ms/step - loss: 0.0091 - val_loss: 0.0021\n",
      "Epoch 4/5\n",
      "137/137 [==============================] - 0s 2ms/step - loss: 0.0055 - val_loss: 0.0013\n",
      "Epoch 5/5\n",
      "137/137 [==============================] - 0s 2ms/step - loss: 0.0038 - val_loss: 7.6590e-04\n",
      "Train Mean Absolute Error: 0.046243366205995395\n",
      "Train Root Mean Squared Error: 0.056230647993479\n",
      "-------------------------------37--------------------------\n",
      "Epoch 1/5\n",
      "137/137 [==============================] - 3s 5ms/step - loss: 0.0091 - val_loss: 0.0019\n",
      "Epoch 2/5\n",
      "137/137 [==============================] - 0s 3ms/step - loss: 0.0095 - val_loss: 0.0018\n",
      "Epoch 3/5\n",
      "137/137 [==============================] - 0s 2ms/step - loss: 0.0054 - val_loss: 8.4483e-04\n",
      "Epoch 4/5\n",
      "137/137 [==============================] - 0s 2ms/step - loss: 0.0042 - val_loss: 7.5282e-04\n",
      "Epoch 5/5\n",
      "137/137 [==============================] - 0s 2ms/step - loss: 0.0024 - val_loss: 7.0016e-04\n",
      "Train Mean Absolute Error: 0.07836853979751687\n",
      "Train Root Mean Squared Error: 0.08608261839603992\n",
      "-------------------------------38--------------------------\n",
      "Epoch 1/5\n",
      "137/137 [==============================] - 3s 5ms/step - loss: 0.0295 - val_loss: 0.0292\n",
      "Epoch 2/5\n",
      "137/137 [==============================] - 0s 2ms/step - loss: 0.0157 - val_loss: 0.0094\n",
      "Epoch 3/5\n",
      "137/137 [==============================] - 0s 2ms/step - loss: 0.0099 - val_loss: 0.0027\n",
      "Epoch 4/5\n",
      "137/137 [==============================] - 0s 2ms/step - loss: 0.0049 - val_loss: 6.1051e-04\n",
      "Epoch 5/5\n",
      "137/137 [==============================] - 0s 2ms/step - loss: 0.0041 - val_loss: 6.3901e-04\n",
      "Train Mean Absolute Error: 0.04128322312155667\n",
      "Train Root Mean Squared Error: 0.05236667054003843\n",
      "-------------------------------39--------------------------\n",
      "Epoch 1/5\n",
      "137/137 [==============================] - 3s 6ms/step - loss: 0.0404 - val_loss: 0.0672\n",
      "Epoch 2/5\n",
      "137/137 [==============================] - 0s 2ms/step - loss: 0.0243 - val_loss: 0.0248\n",
      "Epoch 3/5\n",
      "137/137 [==============================] - 0s 2ms/step - loss: 0.0156 - val_loss: 0.0046\n",
      "Epoch 4/5\n",
      "137/137 [==============================] - 0s 2ms/step - loss: 0.0075 - val_loss: 9.7017e-04\n",
      "Epoch 5/5\n",
      "137/137 [==============================] - 0s 2ms/step - loss: 0.0040 - val_loss: 7.4149e-04\n",
      "Train Mean Absolute Error: 0.05530226059400266\n",
      "Train Root Mean Squared Error: 0.06605964721555967\n",
      "-------------------------------30--------------------------\n",
      "Epoch 1/5\n",
      "136/136 [==============================] - 3s 5ms/step - loss: 0.0122 - val_loss: 0.0018\n",
      "Epoch 2/5\n",
      "136/136 [==============================] - 0s 2ms/step - loss: 0.0086 - val_loss: 0.0034\n",
      "Epoch 3/5\n",
      "136/136 [==============================] - 0s 2ms/step - loss: 0.0079 - val_loss: 0.0016\n",
      "Epoch 4/5\n",
      "136/136 [==============================] - 0s 2ms/step - loss: 0.0055 - val_loss: 0.0016\n",
      "Epoch 5/5\n",
      "136/136 [==============================] - 0s 2ms/step - loss: 0.0055 - val_loss: 0.0017\n",
      "Train Mean Absolute Error: 0.11093749970224588\n",
      "Train Root Mean Squared Error: 0.12210909964458466\n",
      "-------------------------------31--------------------------\n",
      "Epoch 1/5\n",
      "136/136 [==============================] - 3s 5ms/step - loss: 0.0588 - val_loss: 0.0231\n",
      "Epoch 2/5\n",
      "136/136 [==============================] - 0s 2ms/step - loss: 0.0208 - val_loss: 0.0058\n",
      "Epoch 3/5\n",
      "136/136 [==============================] - 0s 2ms/step - loss: 0.0125 - val_loss: 0.0021\n",
      "Epoch 4/5\n",
      "136/136 [==============================] - 0s 2ms/step - loss: 0.0088 - val_loss: 0.0015\n",
      "Epoch 5/5\n",
      "136/136 [==============================] - 0s 2ms/step - loss: 0.0067 - val_loss: 0.0015\n",
      "Train Mean Absolute Error: 0.08418316201192752\n",
      "Train Root Mean Squared Error: 0.09961689356413035\n",
      "-------------------------------32--------------------------\n",
      "Epoch 1/5\n",
      "136/136 [==============================] - 3s 6ms/step - loss: 0.0453 - val_loss: 0.0281\n",
      "Epoch 2/5\n",
      "136/136 [==============================] - 0s 2ms/step - loss: 0.0202 - val_loss: 0.0049\n",
      "Epoch 3/5\n"
     ]
    },
    {
     "name": "stdout",
     "output_type": "stream",
     "text": [
      "136/136 [==============================] - 0s 2ms/step - loss: 0.0113 - val_loss: 0.0019\n",
      "Epoch 4/5\n",
      "136/136 [==============================] - 0s 2ms/step - loss: 0.0059 - val_loss: 0.0018\n",
      "Epoch 5/5\n",
      "136/136 [==============================] - 0s 2ms/step - loss: 0.0056 - val_loss: 0.0011\n",
      "Train Mean Absolute Error: 0.05742769041730528\n",
      "Train Root Mean Squared Error: 0.07141285114141263\n",
      "-------------------------------33--------------------------\n",
      "Epoch 1/5\n",
      "136/136 [==============================] - 3s 5ms/step - loss: 0.0323 - val_loss: 0.0250\n",
      "Epoch 2/5\n",
      "136/136 [==============================] - 0s 2ms/step - loss: 0.0137 - val_loss: 0.0069\n",
      "Epoch 3/5\n",
      "136/136 [==============================] - 0s 2ms/step - loss: 0.0088 - val_loss: 0.0019\n",
      "Epoch 4/5\n",
      "136/136 [==============================] - 0s 2ms/step - loss: 0.0059 - val_loss: 0.0016\n",
      "Epoch 5/5\n",
      "136/136 [==============================] - 0s 2ms/step - loss: 0.0045 - val_loss: 0.0013\n",
      "Train Mean Absolute Error: 0.060862105094533006\n",
      "Train Root Mean Squared Error: 0.07393355497323849\n",
      "-------------------------------34--------------------------\n",
      "Epoch 1/5\n",
      "136/136 [==============================] - 3s 6ms/step - loss: 0.0274 - val_loss: 0.0048\n",
      "Epoch 2/5\n",
      "136/136 [==============================] - 0s 2ms/step - loss: 0.0180 - val_loss: 0.0018\n",
      "Epoch 3/5\n",
      "136/136 [==============================] - 0s 2ms/step - loss: 0.0117 - val_loss: 0.0013\n",
      "Epoch 4/5\n",
      "136/136 [==============================] - 0s 2ms/step - loss: 0.0071 - val_loss: 0.0013\n",
      "Epoch 5/5\n",
      "136/136 [==============================] - 0s 2ms/step - loss: 0.0057 - val_loss: 0.0030\n",
      "Train Mean Absolute Error: 0.11503671817546843\n",
      "Train Root Mean Squared Error: 0.125405726364124\n",
      "-------------------------------35--------------------------\n",
      "Epoch 1/5\n",
      "136/136 [==============================] - 3s 6ms/step - loss: 0.0266 - val_loss: 0.0205\n",
      "Epoch 2/5\n",
      "136/136 [==============================] - 0s 2ms/step - loss: 0.0154 - val_loss: 0.0058\n",
      "Epoch 3/5\n",
      "136/136 [==============================] - 0s 2ms/step - loss: 0.0092 - val_loss: 0.0034\n",
      "Epoch 4/5\n",
      "136/136 [==============================] - 0s 2ms/step - loss: 0.0067 - val_loss: 0.0014\n",
      "Epoch 5/5\n",
      "136/136 [==============================] - 0s 2ms/step - loss: 0.0049 - val_loss: 0.0014\n",
      "Train Mean Absolute Error: 0.08766704814561203\n",
      "Train Root Mean Squared Error: 0.09867990593281918\n",
      "-------------------------------36--------------------------\n",
      "Epoch 1/5\n",
      "136/136 [==============================] - 3s 6ms/step - loss: 0.0111 - val_loss: 0.0019\n",
      "Epoch 2/5\n",
      "136/136 [==============================] - 0s 3ms/step - loss: 0.0100 - val_loss: 0.0015\n",
      "Epoch 3/5\n",
      "136/136 [==============================] - 0s 2ms/step - loss: 0.0059 - val_loss: 0.0013\n",
      "Epoch 4/5\n",
      "136/136 [==============================] - 0s 2ms/step - loss: 0.0060 - val_loss: 0.0018\n",
      "Epoch 5/5\n",
      "136/136 [==============================] - 0s 2ms/step - loss: 0.0058 - val_loss: 0.0014\n",
      "Train Mean Absolute Error: 0.12399040875722218\n",
      "Train Root Mean Squared Error: 0.13284635401478193\n",
      "-------------------------------37--------------------------\n",
      "Epoch 1/5\n",
      "136/136 [==============================] - 3s 5ms/step - loss: 0.0239 - val_loss: 0.0079\n",
      "Epoch 2/5\n",
      "136/136 [==============================] - 0s 2ms/step - loss: 0.0140 - val_loss: 0.0019\n",
      "Epoch 3/5\n",
      "136/136 [==============================] - 0s 2ms/step - loss: 0.0090 - val_loss: 0.0013\n",
      "Epoch 4/5\n",
      "136/136 [==============================] - 0s 2ms/step - loss: 0.0065 - val_loss: 0.0015\n",
      "Epoch 5/5\n",
      "136/136 [==============================] - 0s 2ms/step - loss: 0.0056 - val_loss: 0.0013\n",
      "Train Mean Absolute Error: 0.07216522710592893\n",
      "Train Root Mean Squared Error: 0.0866122560699834\n",
      "-------------------------------38--------------------------\n",
      "Epoch 1/5\n",
      "136/136 [==============================] - 3s 5ms/step - loss: 0.0506 - val_loss: 0.0362\n",
      "Epoch 2/5\n",
      "136/136 [==============================] - 0s 2ms/step - loss: 0.0206 - val_loss: 0.0052\n",
      "Epoch 3/5\n",
      "136/136 [==============================] - 0s 2ms/step - loss: 0.0117 - val_loss: 0.0011\n",
      "Epoch 4/5\n",
      "136/136 [==============================] - 0s 2ms/step - loss: 0.0062 - val_loss: 0.0011\n",
      "Epoch 5/5\n",
      "136/136 [==============================] - 0s 2ms/step - loss: 0.0042 - val_loss: 0.0019\n",
      "Train Mean Absolute Error: 0.07977905338760505\n",
      "Train Root Mean Squared Error: 0.09118077467861366\n",
      "-------------------------------39--------------------------\n",
      "Epoch 1/5\n",
      "136/136 [==============================] - 3s 6ms/step - loss: 0.0230 - val_loss: 0.0023\n",
      "Epoch 2/5\n",
      "136/136 [==============================] - 0s 2ms/step - loss: 0.0118 - val_loss: 0.0022\n",
      "Epoch 3/5\n",
      "136/136 [==============================] - 0s 2ms/step - loss: 0.0097 - val_loss: 0.0019\n",
      "Epoch 4/5\n",
      "136/136 [==============================] - 0s 2ms/step - loss: 0.0080 - val_loss: 0.0020\n",
      "Epoch 5/5\n",
      "136/136 [==============================] - 0s 2ms/step - loss: 0.0070 - val_loss: 0.0016\n",
      "Train Mean Absolute Error: 0.08561035957496986\n",
      "Train Root Mean Squared Error: 0.10137777012315266\n",
      "-------------------------------30--------------------------\n",
      "Epoch 1/5\n",
      "134/134 [==============================] - 3s 5ms/step - loss: 0.0172 - val_loss: 0.0032\n",
      "Epoch 2/5\n",
      "134/134 [==============================] - 0s 2ms/step - loss: 0.0103 - val_loss: 0.0052\n",
      "Epoch 3/5\n",
      "134/134 [==============================] - 0s 2ms/step - loss: 0.0168 - val_loss: 0.0037\n",
      "Epoch 4/5\n",
      "134/134 [==============================] - 0s 3ms/step - loss: 0.0171 - val_loss: 0.0023\n",
      "Epoch 5/5\n",
      "134/134 [==============================] - 0s 2ms/step - loss: 0.0148 - val_loss: 0.0040\n",
      "Train Mean Absolute Error: 0.21121451947587727\n",
      "Train Root Mean Squared Error: 0.22258669962619468\n",
      "-------------------------------31--------------------------\n",
      "Epoch 1/5\n",
      "134/134 [==============================] - 3s 8ms/step - loss: 0.0146 - val_loss: 0.0020\n",
      "Epoch 2/5\n",
      "134/134 [==============================] - 0s 2ms/step - loss: 0.0084 - val_loss: 0.0030\n",
      "Epoch 3/5\n",
      "134/134 [==============================] - 0s 2ms/step - loss: 0.0125 - val_loss: 0.0090\n",
      "Epoch 4/5\n",
      "134/134 [==============================] - 0s 2ms/step - loss: 0.0171 - val_loss: 0.0028\n",
      "Epoch 5/5\n",
      "134/134 [==============================] - 0s 2ms/step - loss: 0.0163 - val_loss: 0.0021\n",
      "Train Mean Absolute Error: 0.2046922574210017\n",
      "Train Root Mean Squared Error: 0.21494874833369385\n",
      "-------------------------------32--------------------------\n",
      "Epoch 1/5\n",
      "134/134 [==============================] - 3s 6ms/step - loss: 0.0333 - val_loss: 0.0021\n",
      "Epoch 2/5\n",
      "134/134 [==============================] - 0s 2ms/step - loss: 0.0128 - val_loss: 0.0022\n",
      "Epoch 3/5\n",
      "134/134 [==============================] - 0s 2ms/step - loss: 0.0129 - val_loss: 0.0017\n",
      "Epoch 4/5\n",
      "134/134 [==============================] - 0s 3ms/step - loss: 0.0122 - val_loss: 0.0022\n",
      "Epoch 5/5\n",
      "134/134 [==============================] - 0s 3ms/step - loss: 0.0108 - val_loss: 0.0013\n",
      "Train Mean Absolute Error: 0.13995729634605628\n",
      "Train Root Mean Squared Error: 0.15131163869327952\n",
      "-------------------------------33--------------------------\n",
      "Epoch 1/5\n",
      "134/134 [==============================] - 3s 6ms/step - loss: 0.0346 - val_loss: 0.0051\n",
      "Epoch 2/5\n",
      "134/134 [==============================] - 0s 3ms/step - loss: 0.0233 - val_loss: 0.0058\n",
      "Epoch 3/5\n",
      "134/134 [==============================] - 0s 3ms/step - loss: 0.0161 - val_loss: 0.0039\n",
      "Epoch 4/5\n",
      "134/134 [==============================] - 0s 2ms/step - loss: 0.0133 - val_loss: 0.0030\n",
      "Epoch 5/5\n",
      "134/134 [==============================] - 0s 2ms/step - loss: 0.0114 - val_loss: 0.0020\n",
      "Train Mean Absolute Error: 0.1326436259594904\n",
      "Train Root Mean Squared Error: 0.146089376634088\n",
      "-------------------------------34--------------------------\n",
      "Epoch 1/5\n",
      "134/134 [==============================] - 3s 5ms/step - loss: 0.0351 - val_loss: 0.0023\n",
      "Epoch 2/5\n",
      "134/134 [==============================] - 0s 2ms/step - loss: 0.0094 - val_loss: 0.0051\n",
      "Epoch 3/5\n",
      "134/134 [==============================] - 0s 2ms/step - loss: 0.0129 - val_loss: 0.0049\n",
      "Epoch 4/5\n",
      "134/134 [==============================] - 0s 2ms/step - loss: 0.0170 - val_loss: 0.0025\n",
      "Epoch 5/5\n",
      "134/134 [==============================] - 0s 2ms/step - loss: 0.0142 - val_loss: 0.0017\n",
      "Train Mean Absolute Error: 0.15802778608192244\n",
      "Train Root Mean Squared Error: 0.16983562815300357\n",
      "-------------------------------35--------------------------\n"
     ]
    },
    {
     "name": "stdout",
     "output_type": "stream",
     "text": [
      "Epoch 1/5\n",
      "134/134 [==============================] - 3s 6ms/step - loss: 0.0220 - val_loss: 0.0057\n",
      "Epoch 2/5\n",
      "134/134 [==============================] - 0s 2ms/step - loss: 0.0127 - val_loss: 0.0040\n",
      "Epoch 3/5\n",
      "134/134 [==============================] - 0s 2ms/step - loss: 0.0141 - val_loss: 0.0042\n",
      "Epoch 4/5\n",
      "134/134 [==============================] - 0s 2ms/step - loss: 0.0172 - val_loss: 0.0025\n",
      "Epoch 5/5\n",
      "134/134 [==============================] - 0s 2ms/step - loss: 0.0140 - val_loss: 0.0019\n",
      "Train Mean Absolute Error: 0.17501163096955435\n",
      "Train Root Mean Squared Error: 0.1863498662577072\n",
      "-------------------------------36--------------------------\n",
      "Epoch 1/5\n",
      "134/134 [==============================] - 2s 6ms/step - loss: 0.0149 - val_loss: 0.0047\n",
      "Epoch 2/5\n",
      "134/134 [==============================] - 0s 2ms/step - loss: 0.0131 - val_loss: 0.0070\n",
      "Epoch 3/5\n",
      "134/134 [==============================] - 0s 2ms/step - loss: 0.0188 - val_loss: 0.0024\n",
      "Epoch 4/5\n",
      "134/134 [==============================] - 0s 3ms/step - loss: 0.0180 - val_loss: 0.0020\n",
      "Epoch 5/5\n",
      "134/134 [==============================] - 0s 3ms/step - loss: 0.0153 - val_loss: 0.0018\n",
      "Train Mean Absolute Error: 0.19262316836946577\n",
      "Train Root Mean Squared Error: 0.20184005616967707\n",
      "-------------------------------37--------------------------\n",
      "Epoch 1/5\n",
      "134/134 [==============================] - 3s 6ms/step - loss: 0.0128 - val_loss: 0.0032\n",
      "Epoch 2/5\n",
      "134/134 [==============================] - 0s 2ms/step - loss: 0.0136 - val_loss: 0.0025\n",
      "Epoch 3/5\n",
      "134/134 [==============================] - 0s 2ms/step - loss: 0.0147 - val_loss: 0.0025\n",
      "Epoch 4/5\n",
      "134/134 [==============================] - 0s 2ms/step - loss: 0.0099 - val_loss: 0.0019\n",
      "Epoch 5/5\n",
      "134/134 [==============================] - 0s 2ms/step - loss: 0.0094 - val_loss: 0.0019\n",
      "Train Mean Absolute Error: 0.12023089703442377\n",
      "Train Root Mean Squared Error: 0.1322749337931887\n",
      "-------------------------------38--------------------------\n",
      "Epoch 1/5\n",
      "134/134 [==============================] - 3s 6ms/step - loss: 0.0169 - val_loss: 0.0028\n",
      "Epoch 2/5\n",
      "134/134 [==============================] - 0s 2ms/step - loss: 0.0113 - val_loss: 0.0040\n",
      "Epoch 3/5\n",
      "134/134 [==============================] - 0s 2ms/step - loss: 0.0135 - val_loss: 0.0024\n",
      "Epoch 4/5\n",
      "134/134 [==============================] - 0s 2ms/step - loss: 0.0135 - val_loss: 0.0021\n",
      "Epoch 5/5\n",
      "134/134 [==============================] - 0s 2ms/step - loss: 0.0104 - val_loss: 0.0019\n",
      "Train Mean Absolute Error: 0.145739970641788\n",
      "Train Root Mean Squared Error: 0.158469457237051\n",
      "-------------------------------39--------------------------\n",
      "Epoch 1/5\n",
      "134/134 [==============================] - 3s 5ms/step - loss: 0.0168 - val_loss: 0.0021\n",
      "Epoch 2/5\n",
      "134/134 [==============================] - 0s 2ms/step - loss: 0.0069 - val_loss: 0.0017\n",
      "Epoch 3/5\n",
      "134/134 [==============================] - 0s 2ms/step - loss: 0.0098 - val_loss: 0.0028\n",
      "Epoch 4/5\n",
      "134/134 [==============================] - 0s 2ms/step - loss: 0.0142 - val_loss: 0.0023\n",
      "Epoch 5/5\n",
      "134/134 [==============================] - 0s 2ms/step - loss: 0.0136 - val_loss: 0.0017\n",
      "Train Mean Absolute Error: 0.1962284282054525\n",
      "Train Root Mean Squared Error: 0.20559286376013186\n"
     ]
    }
   ],
   "source": [
    "# wielkosc batchu [10, 20, 50]\n",
    "batch_start, batch_end = 30, 40 # od do\n",
    "look_backs = [3,10,30] # takie look backi sprawdzamy i potem do nich mozemy wykresy zrobic\n",
    "\n",
    "\n",
    "error_look_back = {}\n",
    "for look_back in look_backs:\n",
    "  MAEs = []\n",
    "  MSEs = []\n",
    "  Y_trains = []\n",
    "  train_predicts = []\n",
    "\n",
    "  X_train, Y_train = create_dataset_lstm(train, look_back)\n",
    "  X_test, Y_test = create_dataset_lstm(test, look_back)\n",
    "  X_train = np.reshape(X_train, (X_train.shape[0], 1, X_train.shape[1]))\n",
    "  X_test = np.reshape(X_test, (X_test.shape[0], 1, X_test.shape[1]))\n",
    "  for batch in range(batch_start, batch_end):\n",
    "    print(f'-------------------------------{batch}--------------------------')\n",
    "    history = lstm_model(X_train, Y_train, X_test, Y_test, batch_size=batch)\n",
    "    tmp_Y_train, tmp_train_predict, MAE, MSE  = evaluation_model(history,X_train, X_test, Y_train, testing=True)\n",
    "    \n",
    "    MAEs.append(MAE)\n",
    "    MSEs.append(MSE)\n",
    "    Y_trains.append(tmp_Y_train)\n",
    "    train_predicts.append(tmp_train_predict)\n",
    "  error_look_back[look_back] = {\"MAE\":MAEs, \"MSE\":MSEs, \"Y_trains\": Y_trains, \"train_predicts\": train_predicts}\n",
    "\n"
   ]
  },
  {
   "cell_type": "code",
   "execution_count": null,
   "metadata": {},
   "outputs": [],
   "source": [
    "#wraz ze wzrostem batch'a, pogorszaja sie na wyniki - MAE i MSE idealnie powinny rownac sie zero, wiec generalnie im mniejsze ich wartosci, tym model uwazamy za lepszy"
   ]
  },
  {
   "cell_type": "code",
   "execution_count": 52,
   "metadata": {
    "colab": {
     "base_uri": "https://localhost:8080/"
    },
    "id": "nNeu-weeMnsY",
    "outputId": "ea51694e-87b0-405c-b663-c25a18f6436c"
   },
   "outputs": [
    {
     "data": {
      "text/plain": [
       "(1336, 1)"
      ]
     },
     "execution_count": 52,
     "metadata": {},
     "output_type": "execute_result"
    }
   ],
   "source": [
    "train_predict.shape"
   ]
  },
  {
   "cell_type": "code",
   "execution_count": 53,
   "metadata": {
    "colab": {
     "base_uri": "https://localhost:8080/"
    },
    "id": "QVFzpdz8NCvZ",
    "outputId": "0aa11263-a0ac-442a-a05e-328bd45d4164"
   },
   "outputs": [
    {
     "data": {
      "text/plain": [
       "[0.22258669962619468,\n",
       " 0.21494874833369385,\n",
       " 0.15131163869327952,\n",
       " 0.146089376634088,\n",
       " 0.16983562815300357,\n",
       " 0.1863498662577072,\n",
       " 0.20184005616967707,\n",
       " 0.1322749337931887,\n",
       " 0.158469457237051,\n",
       " 0.20559286376013186]"
      ]
     },
     "execution_count": 53,
     "metadata": {},
     "output_type": "execute_result"
    }
   ],
   "source": [
    "MSEs "
   ]
  },
  {
   "cell_type": "code",
   "execution_count": 54,
   "metadata": {
    "colab": {
     "base_uri": "https://localhost:8080/",
     "height": 282
    },
    "id": "IDLSfMoeSYIJ",
    "outputId": "aa9a1c45-fdc7-4ecf-8da5-9b9e3ea686f0"
   },
   "outputs": [
    {
     "data": {
      "text/plain": [
       "<matplotlib.axes._subplots.AxesSubplot at 0x298d9231610>"
      ]
     },
     "execution_count": 54,
     "metadata": {},
     "output_type": "execute_result"
    },
    {
     "data": {
      "image/png": "[encoded data removed]",
      "text/plain": [
       "<Figure size 432x288 with 1 Axes>"
      ]
     },
     "metadata": {
      "needs_background": "light"
     },
     "output_type": "display_data"
    }
   ],
   "source": [
    "look_back_to_check = 3\n",
    "sns.lineplot(x=[a for a in range(batch_start, batch_end)], y=error_look_back[look_back_to_check][\"MSE\"])\n",
    "sns.lineplot(x=[a for a in range(batch_start, batch_end)], y=error_look_back[look_back_to_check][\"MAE\"])\n"
   ]
  },
  {
   "cell_type": "code",
   "execution_count": 55,
   "metadata": {
    "colab": {
     "base_uri": "https://localhost:8080/",
     "height": 331
    },
    "id": "FKkdbS5adpp3",
    "outputId": "5655fbf0-6246-42fb-9256-5c700bcdae0b"
   },
   "outputs": [
    {
     "data": {
      "image/png": "[encoded data removed]",
      "text/plain": [
       "<Figure size 576x288 with 1 Axes>"
      ]
     },
     "metadata": {
      "needs_background": "light"
     },
     "output_type": "display_data"
    }
   ],
   "source": [
    "batch_index = 6 # to znaczy batch_start (bedzie tyle indexow ile jest od batch_start do batch_end)\n",
    "look_back_to_check = 3\n",
    "visualization(Y_train = error_look_back[look_back_to_check][\"Y_trains\"][batch_index], train_predict = error_look_back[look_back_to_check][\"train_predicts\"][batch_index])"
   ]
  },
  {
   "cell_type": "code",
   "execution_count": 56,
   "metadata": {
    "colab": {
     "base_uri": "https://localhost:8080/"
    },
    "id": "fC3jQGyaeOHF",
    "outputId": "a54537d7-a14f-4a06-e1b9-44ae407596c6"
   },
   "outputs": [
    {
     "data": {
      "text/plain": [
       "array([[2.87050007, 2.82699989, 2.79999996, ..., 3.76460021, 3.73879991,\n",
       "        3.72299995]])"
      ]
     },
     "execution_count": 56,
     "metadata": {},
     "output_type": "execute_result"
    }
   ],
   "source": [
    "error_look_back[3][\"Y_trains\"][0]"
   ]
  },
  {
   "cell_type": "code",
   "execution_count": 57,
   "metadata": {
    "colab": {
     "base_uri": "https://localhost:8080/"
    },
    "id": "3tysvFtSYo95",
    "outputId": "fbcb05ba-8763-4703-a575-5fcc2a16242c"
   },
   "outputs": [
    {
     "data": {
      "text/plain": [
       "[0.07044915595917214,\n",
       " 0.06984931270995474,\n",
       " 0.05888501558584426,\n",
       " 0.067056741526899,\n",
       " 0.074077630862147,\n",
       " 0.061359978051933425,\n",
       " 0.056230647993479,\n",
       " 0.08608261839603992,\n",
       " 0.05236667054003843,\n",
       " 0.06605964721555967]"
      ]
     },
     "execution_count": 57,
     "metadata": {},
     "output_type": "execute_result"
    }
   ],
   "source": [
    "error_look_back[3][\"MSE\"]"
   ]
  },
  {
   "cell_type": "code",
   "execution_count": 60,
   "metadata": {
    "id": "Do3uUf5BQnBf"
   },
   "outputs": [
    {
     "name": "stdout",
     "output_type": "stream",
     "text": [
      "[0.1322749337931887, 0.146089376634088, 0.15131163869327952, 0.158469457237051, 0.16983562815300357, 0.1863498662577072, 0.20184005616967707, 0.20559286376013186, 0.21494874833369385, 0.22258669962619468]\n"
     ]
    }
   ],
   "source": [
    "MSEs.sort()\n",
    "print(MSEs)"
   ]
  },
  {
   "cell_type": "code",
   "execution_count": null,
   "metadata": {},
   "outputs": [],
   "source": []
  }
 ],
 "metadata": {
  "colab": {
   "collapsed_sections": [],
   "name": "Copy of testowanie_modelu_agata.ipynb",
   "provenance": [],
   "toc_visible": true
  },
  "kernelspec": {
   "display_name": "Python 3",
   "language": "python",
   "name": "python3"
  },
  "language_info": {
   "codemirror_mode": {
    "name": "ipython",
    "version": 3
   },
   "file_extension": ".py",
   "mimetype": "text/x-python",
   "name": "python",
   "nbconvert_exporter": "python",
   "pygments_lexer": "ipython3",
   "version": "3.8.3"
  }
 },
 "nbformat": 4,
 "nbformat_minor": 1
}
