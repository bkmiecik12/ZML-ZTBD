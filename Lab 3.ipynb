{
 "cells": [
  {
   "cell_type": "code",
   "execution_count": 1,
   "metadata": {},
   "outputs": [
    {
     "data": {
      "text/plain": [
       "array([1, 3, 4, 5])"
      ]
     },
     "execution_count": 1,
     "metadata": {},
     "output_type": "execute_result"
    }
   ],
   "source": [
    "import numpy\n",
    "ar=([1,1,1,3,4,5])\n",
    "numpy.unique(ar)"
   ]
  },
  {
   "cell_type": "code",
   "execution_count": null,
   "metadata": {},
   "outputs": [],
   "source": [
    "data_size = int(batched_data.x_batch.shape[1])\n",
    "print(data_size)\n",
    "model = Sequential()\n",
    "\n",
    "model.add(LSTM(units=77, activation='relu', input_shape=[num_days, data_size], return_sequences=True))\n",
    "model.add(Dropout(rate=0.5))\n",
    "\n",
    "model.add(LSTM(unit=37, activation='softmax', return_sequences=True))\n",
    "model.add(Dropout(rate=0.5))\n",
    "\n",
    "model.add(LSTM(unit=24, activation='relu', return_sequences=True))\n",
    "model.add(LSTM(unit=12, activation='relu', return_sequences=True))\n",
    "model.add(Dropout(rate=0.3))\n",
    "\n",
    "model.add(LSTM(unit=6, activation='sigmoid', return_sequences=True))\n",
    "model.add(Flatten())\n",
    "model.add(Dense(unit=1, activation='sigmoid'))"
   ]
  }
 ],
 "metadata": {
  "kernelspec": {
   "display_name": "Python 3",
   "language": "python",
   "name": "python3"
  },
  "language_info": {
   "codemirror_mode": {
    "name": "ipython",
    "version": 3
   },
   "file_extension": ".py",
   "mimetype": "text/x-python",
   "name": "python",
   "nbconvert_exporter": "python",
   "pygments_lexer": "ipython3",
   "version": "3.8.5"
  }
 },
 "nbformat": 4,
 "nbformat_minor": 4
}
