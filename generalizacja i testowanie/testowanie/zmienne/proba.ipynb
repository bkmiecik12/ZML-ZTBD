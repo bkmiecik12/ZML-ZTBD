{
 "cells": [
  {
   "cell_type": "markdown",
   "metadata": {},
   "source": [
    "Import bibliotek"
   ]
  },
  {
   "cell_type": "markdown",
   "metadata": {},
   "source": [
    "#--------------------- ładowanie danych do trenowania sieci -----------------------------\n",
    "\n",
    "#pobranie danych z pliku"
   ]
  },
  {
   "cell_type": "code",
   "execution_count": 4,
   "metadata": {},
   "outputs": [],
   "source": [
    "# import tensorflow as tf\n",
    "# from tensorflow import keras\n",
    "#from tensorflow.keras.layers import Dense\n",
    "#from tensorflow.keras.layers import Flatten\n",
    "#from tensorflow.keras.layers import Input\n",
    "#from tensorflow.keras.layers import BatchNormalization\n",
    "#from tensorflow.keras.layers import Dropout\n",
    "#from tensorflow.keras.models import Model\n",
    "#from sklearn.model_selection import train_test_split\n",
    "import pandas as pd\n",
    "import numpy as np\n",
    "#import matplotlib.pyplot as plt\n",
    "#from tensorflow.keras.utils import plot_model\n",
    "#import time"
   ]
  },
  {
   "cell_type": "code",
   "execution_count": 16,
   "metadata": {},
   "outputs": [],
   "source": [
    "dset_etf = pd.read_csv('glowna_etfw20.csv', sep=',',encoding='UTF-8')\n",
    "dset_chfpln = pd.read_csv('chfpln_d.csv', sep=',',encoding='UTF-8')\n",
    "dset_btc = pd.read_csv('btcusd_d.csv', sep=',',encoding='UTF-8')\n",
    "dset_dax = pd.read_csv('dax_d.csv', sep=',',encoding='UTF-8')\n",
    "dset_eurpln = pd.read_csv('eurpln_d.csv', sep=',',encoding='UTF-8')\n",
    "dset_ftse250 = pd.read_csv('ftse250_d.csv', sep=',',encoding='UTF-8')\n",
    "dset_gbppln = pd.read_csv('gbppln_d.csv', sep=',',encoding='UTF-8')\n",
    "dset_jpypln = pd.read_csv('jpypln_d.csv', sep=',',encoding='UTF-8')\n",
    "dset_mwig = pd.read_csv('mwig40_d.csv', sep=',',encoding='UTF-8')\n",
    "dset_nasdaq = pd.read_csv('ndq_d.csv', sep=',',encoding='UTF-8')\n",
    "dset_sp500 = pd.read_csv('spx_d.csv', sep=',',encoding='UTF-8')\n",
    "dset_swig = pd.read_csv('swig80_d.csv', sep=',',encoding='UTF-8')\n",
    "dset_usdpln = pd.read_csv('usdpln_d.csv', sep=',',encoding='UTF-8')\n",
    "dset_wig = pd.read_csv('wig_d.csv', sep=',',encoding='UTF-8')\n",
    "dset_hg = pd.read_csv('hg.csv', sep=',',encoding='UTF-8')\n",
    "dset_gbppln = pd.read_csv('gbppln_d.csv', sep=',',encoding='UTF-8')"
   ]
  },
  
  {
   "cell_type": "code",
   "execution_count": null,
   "metadata": {},
   "outputs": [],
   "source": []
  }
 ],
 "metadata": {
  "kernelspec": {
   "display_name": "Python 3",
   "language": "python",
   "name": "python3"
  },
  "language_info": {
   "codemirror_mode": {
    "name": "ipython",
    "version": 3
   },
   "file_extension": ".py",
   "mimetype": "text/x-python",
   "name": "python",
   "nbconvert_exporter": "python",
   "pygments_lexer": "ipython3",
   "version": "3.7.4"
  }
 },
 "nbformat": 4,
 "nbformat_minor": 4
}
