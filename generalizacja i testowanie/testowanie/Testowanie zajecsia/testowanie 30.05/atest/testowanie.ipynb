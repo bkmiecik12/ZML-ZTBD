{
 "cells": [
  {
   "cell_type": "markdown",
   "metadata": {},
   "source": [
    "### Instalacja potrzebnych bibliotek"
   ]
  },
  {
   "cell_type": "code",
   "execution_count": 1,
   "metadata": {
    "id": "5MHCQeDAUd3X",
    "scrolled": true
   },
   "outputs": [
    {
     "name": "stdout",
     "output_type": "stream",
     "text": [
      "Requirement already satisfied: ipywidgets in c:\\users\\agatk\\anaconda3\\lib\\site-packages (7.5.1)\n",
      "Requirement already satisfied: widgetsnbextension~=3.5.0 in c:\\users\\agatk\\anaconda3\\lib\\site-packages (from ipywidgets) (3.5.1)\n",
      "Requirement already satisfied: ipykernel>=4.5.1 in c:\\users\\agatk\\anaconda3\\lib\\site-packages (from ipywidgets) (5.3.2)\n",
      "Requirement already satisfied: ipython>=4.0.0; python_version >= \"3.3\" in c:\\users\\agatk\\anaconda3\\lib\\site-packages (from ipywidgets) (7.16.1)\n",
      "Requirement already satisfied: nbformat>=4.2.0 in c:\\users\\agatk\\anaconda3\\lib\\site-packages (from ipywidgets) (5.0.7)\n",
      "Requirement already satisfied: traitlets>=4.3.1 in c:\\users\\agatk\\anaconda3\\lib\\site-packages (from ipywidgets) (4.3.3)\n",
      "Requirement already satisfied: notebook>=4.4.1 in c:\\users\\agatk\\anaconda3\\lib\\site-packages (from widgetsnbextension~=3.5.0->ipywidgets) (6.0.3)\n",
      "Requirement already satisfied: jupyter-client in c:\\users\\agatk\\anaconda3\\lib\\site-packages (from ipykernel>=4.5.1->ipywidgets) (6.1.6)\n",
      "Requirement already satisfied: tornado>=4.2 in c:\\users\\agatk\\anaconda3\\lib\\site-packages (from ipykernel>=4.5.1->ipywidgets) (6.0.4)\n",
      "Requirement already satisfied: jedi>=0.10 in c:\\users\\agatk\\anaconda3\\lib\\site-packages (from ipython>=4.0.0; python_version >= \"3.3\"->ipywidgets) (0.17.1)\n",
      "Requirement already satisfied: setuptools>=18.5 in c:\\users\\agatk\\anaconda3\\lib\\site-packages (from ipython>=4.0.0; python_version >= \"3.3\"->ipywidgets) (49.2.0.post20200714)\n",
      "Requirement already satisfied: backcall in c:\\users\\agatk\\anaconda3\\lib\\site-packages (from ipython>=4.0.0; python_version >= \"3.3\"->ipywidgets) (0.2.0)\n",
      "Requirement already satisfied: prompt-toolkit!=3.0.0,!=3.0.1,<3.1.0,>=2.0.0 in c:\\users\\agatk\\anaconda3\\lib\\site-packages (from ipython>=4.0.0; python_version >= \"3.3\"->ipywidgets) (3.0.5)\n",
      "Requirement already satisfied: pygments in c:\\users\\agatk\\anaconda3\\lib\\site-packages (from ipython>=4.0.0; python_version >= \"3.3\"->ipywidgets) (2.6.1)\n",
      "Requirement already satisfied: decorator in c:\\users\\agatk\\anaconda3\\lib\\site-packages (from ipython>=4.0.0; python_version >= \"3.3\"->ipywidgets) (4.4.2)\n",
      "Requirement already satisfied: pickleshare in c:\\users\\agatk\\anaconda3\\lib\\site-packages (from ipython>=4.0.0; python_version >= \"3.3\"->ipywidgets) (0.7.5)\n",
      "Requirement already satisfied: colorama; sys_platform == \"win32\" in c:\\users\\agatk\\anaconda3\\lib\\site-packages (from ipython>=4.0.0; python_version >= \"3.3\"->ipywidgets) (0.4.3)\n",
      "Requirement already satisfied: ipython-genutils in c:\\users\\agatk\\anaconda3\\lib\\site-packages (from nbformat>=4.2.0->ipywidgets) (0.2.0)\n",
      "Requirement already satisfied: jupyter-core in c:\\users\\agatk\\anaconda3\\lib\\site-packages (from nbformat>=4.2.0->ipywidgets) (4.6.3)\n",
      "Requirement already satisfied: jsonschema!=2.5.0,>=2.4 in c:\\users\\agatk\\anaconda3\\lib\\site-packages (from nbformat>=4.2.0->ipywidgets) (3.2.0)\n",
      "Requirement already satisfied: six in c:\\users\\agatk\\anaconda3\\lib\\site-packages (from traitlets>=4.3.1->ipywidgets) (1.15.0)\n",
      "Requirement already satisfied: pyzmq>=17 in c:\\users\\agatk\\anaconda3\\lib\\site-packages (from notebook>=4.4.1->widgetsnbextension~=3.5.0->ipywidgets) (19.0.1)\n",
      "Requirement already satisfied: nbconvert in c:\\users\\agatk\\anaconda3\\lib\\site-packages (from notebook>=4.4.1->widgetsnbextension~=3.5.0->ipywidgets) (5.6.1)\n",
      "Requirement already satisfied: terminado>=0.8.1 in c:\\users\\agatk\\anaconda3\\lib\\site-packages (from notebook>=4.4.1->widgetsnbextension~=3.5.0->ipywidgets) (0.8.3)\n",
      "Requirement already satisfied: prometheus-client in c:\\users\\agatk\\anaconda3\\lib\\site-packages (from notebook>=4.4.1->widgetsnbextension~=3.5.0->ipywidgets) (0.8.0)\n",
      "Requirement already satisfied: jinja2 in c:\\users\\agatk\\anaconda3\\lib\\site-packages (from notebook>=4.4.1->widgetsnbextension~=3.5.0->ipywidgets) (2.11.2)\n",
      "Requirement already satisfied: Send2Trash in c:\\users\\agatk\\anaconda3\\lib\\site-packages (from notebook>=4.4.1->widgetsnbextension~=3.5.0->ipywidgets) (1.5.0)\n",
      "Requirement already satisfied: python-dateutil>=2.1 in c:\\users\\agatk\\anaconda3\\lib\\site-packages (from jupyter-client->ipykernel>=4.5.1->ipywidgets) (2.8.1)\n",
      "Requirement already satisfied: parso<0.8.0,>=0.7.0 in c:\\users\\agatk\\anaconda3\\lib\\site-packages (from jedi>=0.10->ipython>=4.0.0; python_version >= \"3.3\"->ipywidgets) (0.7.0)\n",
      "Requirement already satisfied: wcwidth in c:\\users\\agatk\\anaconda3\\lib\\site-packages (from prompt-toolkit!=3.0.0,!=3.0.1,<3.1.0,>=2.0.0->ipython>=4.0.0; python_version >= \"3.3\"->ipywidgets) (0.2.5)\n",
      "Requirement already satisfied: pywin32>=1.0; sys_platform == \"win32\" in c:\\users\\agatk\\anaconda3\\lib\\site-packages (from jupyter-core->nbformat>=4.2.0->ipywidgets) (227)\n",
      "Requirement already satisfied: attrs>=17.4.0 in c:\\users\\agatk\\anaconda3\\lib\\site-packages (from jsonschema!=2.5.0,>=2.4->nbformat>=4.2.0->ipywidgets) (19.3.0)\n",
      "Requirement already satisfied: pyrsistent>=0.14.0 in c:\\users\\agatk\\anaconda3\\lib\\site-packages (from jsonschema!=2.5.0,>=2.4->nbformat>=4.2.0->ipywidgets) (0.16.0)\n",
      "Requirement already satisfied: defusedxml in c:\\users\\agatk\\anaconda3\\lib\\site-packages (from nbconvert->notebook>=4.4.1->widgetsnbextension~=3.5.0->ipywidgets) (0.6.0)\n",
      "Requirement already satisfied: bleach in c:\\users\\agatk\\anaconda3\\lib\\site-packages (from nbconvert->notebook>=4.4.1->widgetsnbextension~=3.5.0->ipywidgets) (3.1.5)\n",
      "Requirement already satisfied: mistune<2,>=0.8.1 in c:\\users\\agatk\\anaconda3\\lib\\site-packages (from nbconvert->notebook>=4.4.1->widgetsnbextension~=3.5.0->ipywidgets) (0.8.4)\n",
      "Requirement already satisfied: pandocfilters>=1.4.1 in c:\\users\\agatk\\anaconda3\\lib\\site-packages (from nbconvert->notebook>=4.4.1->widgetsnbextension~=3.5.0->ipywidgets) (1.4.2)\n",
      "Requirement already satisfied: testpath in c:\\users\\agatk\\anaconda3\\lib\\site-packages (from nbconvert->notebook>=4.4.1->widgetsnbextension~=3.5.0->ipywidgets) (0.4.4)\n",
      "Requirement already satisfied: entrypoints>=0.2.2 in c:\\users\\agatk\\anaconda3\\lib\\site-packages (from nbconvert->notebook>=4.4.1->widgetsnbextension~=3.5.0->ipywidgets) (0.3)\n",
      "Requirement already satisfied: MarkupSafe>=0.23 in c:\\users\\agatk\\anaconda3\\lib\\site-packages (from jinja2->notebook>=4.4.1->widgetsnbextension~=3.5.0->ipywidgets) (1.1.1)\n",
      "Requirement already satisfied: packaging in c:\\users\\agatk\\anaconda3\\lib\\site-packages (from bleach->nbconvert->notebook>=4.4.1->widgetsnbextension~=3.5.0->ipywidgets) (20.4)\n",
      "Requirement already satisfied: webencodings in c:\\users\\agatk\\anaconda3\\lib\\site-packages (from bleach->nbconvert->notebook>=4.4.1->widgetsnbextension~=3.5.0->ipywidgets) (0.5.1)\n",
      "Requirement already satisfied: pyparsing>=2.0.2 in c:\\users\\agatk\\anaconda3\\lib\\site-packages (from packaging->bleach->nbconvert->notebook>=4.4.1->widgetsnbextension~=3.5.0->ipywidgets) (2.4.7)\n",
      "Note: you may need to restart the kernel to use updated packages.\n"
     ]
    }
   ],
   "source": [
    "pip install ipywidgets # interaktywne widżety HTML dla notebooków Jupyter i jądra IPython"
   ]
  },
  {
   "cell_type": "code",
   "execution_count": 2,
   "metadata": {},
   "outputs": [
    {
     "name": "stdout",
     "output_type": "stream",
     "text": [
      "Requirement already satisfied: keras in c:\\users\\agatk\\anaconda3\\lib\\site-packages (2.4.3)\n",
      "Requirement already satisfied: scipy>=0.14 in c:\\users\\agatk\\anaconda3\\lib\\site-packages (from keras) (1.5.0)\n",
      "Requirement already satisfied: pyyaml in c:\\users\\agatk\\anaconda3\\lib\\site-packages (from keras) (5.3.1)\n",
      "Requirement already satisfied: h5py in c:\\users\\agatk\\anaconda3\\lib\\site-packages (from keras) (2.10.0)\n",
      "Requirement already satisfied: numpy>=1.9.1 in c:\\users\\agatk\\anaconda3\\lib\\site-packages (from keras) (1.19.5)\n",
      "Requirement already satisfied: six in c:\\users\\agatk\\anaconda3\\lib\\site-packages (from h5py->keras) (1.15.0)\n",
      "Note: you may need to restart the kernel to use updated packages.\n"
     ]
    }
   ],
   "source": [
    "pip install keras "
   ]
  },
  {
   "cell_type": "code",
   "execution_count": 3,
   "metadata": {},
   "outputs": [
    {
     "name": "stdout",
     "output_type": "stream",
     "text": [
      "Requirement already satisfied: tensorflow in c:\\users\\agatk\\anaconda3\\lib\\site-packages (2.4.1)\n",
      "Requirement already satisfied: astunparse~=1.6.3 in c:\\users\\agatk\\anaconda3\\lib\\site-packages (from tensorflow) (1.6.3)\n",
      "Requirement already satisfied: opt-einsum~=3.3.0 in c:\\users\\agatk\\anaconda3\\lib\\site-packages (from tensorflow) (3.3.0)\n",
      "Requirement already satisfied: flatbuffers~=1.12.0 in c:\\users\\agatk\\anaconda3\\lib\\site-packages (from tensorflow) (1.12)\n",
      "Requirement already satisfied: google-pasta~=0.2 in c:\\users\\agatk\\anaconda3\\lib\\site-packages (from tensorflow) (0.2.0)\n",
      "Requirement already satisfied: keras-preprocessing~=1.1.2 in c:\\users\\agatk\\anaconda3\\lib\\site-packages (from tensorflow) (1.1.2)\n",
      "Requirement already satisfied: protobuf>=3.9.2 in c:\\users\\agatk\\anaconda3\\lib\\site-packages (from tensorflow) (3.15.2)\n",
      "Requirement already satisfied: gast==0.3.3 in c:\\users\\agatk\\anaconda3\\lib\\site-packages (from tensorflow) (0.3.3)\n",
      "Requirement already satisfied: tensorflow-estimator<2.5.0,>=2.4.0 in c:\\users\\agatk\\anaconda3\\lib\\site-packages (from tensorflow) (2.4.0)\n",
      "Requirement already satisfied: typing-extensions~=3.7.4 in c:\\users\\agatk\\anaconda3\\lib\\site-packages (from tensorflow) (3.7.4.2)\n",
      "Requirement already satisfied: numpy~=1.19.2 in c:\\users\\agatk\\anaconda3\\lib\\site-packages (from tensorflow) (1.19.5)\n",
      "Requirement already satisfied: absl-py~=0.10 in c:\\users\\agatk\\anaconda3\\lib\\site-packages (from tensorflow) (0.11.0)\n",
      "Requirement already satisfied: wrapt~=1.12.1 in c:\\users\\agatk\\anaconda3\\lib\\site-packages (from tensorflow) (1.12.1)\n",
      "Requirement already satisfied: grpcio~=1.32.0 in c:\\users\\agatk\\anaconda3\\lib\\site-packages (from tensorflow) (1.32.0)\n",
      "Requirement already satisfied: six~=1.15.0 in c:\\users\\agatk\\anaconda3\\lib\\site-packages (from tensorflow) (1.15.0)\n",
      "Requirement already satisfied: tensorboard~=2.4 in c:\\users\\agatk\\anaconda3\\lib\\site-packages (from tensorflow) (2.5.0)\n",
      "Requirement already satisfied: termcolor~=1.1.0 in c:\\users\\agatk\\anaconda3\\lib\\site-packages (from tensorflow) (1.1.0)\n",
      "Requirement already satisfied: h5py~=2.10.0 in c:\\users\\agatk\\anaconda3\\lib\\site-packages (from tensorflow) (2.10.0)\n",
      "Requirement already satisfied: wheel~=0.35 in c:\\users\\agatk\\anaconda3\\lib\\site-packages (from tensorflow) (0.36.2)\n",
      "Requirement already satisfied: tensorboard-plugin-wit>=1.6.0 in c:\\users\\agatk\\anaconda3\\lib\\site-packages (from tensorboard~=2.4->tensorflow) (1.8.0)\n",
      "Requirement already satisfied: werkzeug>=0.11.15 in c:\\users\\agatk\\anaconda3\\lib\\site-packages (from tensorboard~=2.4->tensorflow) (1.0.1)\n",
      "Requirement already satisfied: google-auth<2,>=1.6.3 in c:\\users\\agatk\\anaconda3\\lib\\site-packages (from tensorboard~=2.4->tensorflow) (1.27.0)\n",
      "Requirement already satisfied: google-auth-oauthlib<0.5,>=0.4.1 in c:\\users\\agatk\\anaconda3\\lib\\site-packages (from tensorboard~=2.4->tensorflow) (0.4.2)\n",
      "Requirement already satisfied: tensorboard-data-server<0.7.0,>=0.6.0 in c:\\users\\agatk\\anaconda3\\lib\\site-packages (from tensorboard~=2.4->tensorflow) (0.6.0)\n",
      "Requirement already satisfied: setuptools>=41.0.0 in c:\\users\\agatk\\anaconda3\\lib\\site-packages (from tensorboard~=2.4->tensorflow) (49.2.0.post20200714)\n",
      "Requirement already satisfied: requests<3,>=2.21.0 in c:\\users\\agatk\\anaconda3\\lib\\site-packages (from tensorboard~=2.4->tensorflow) (2.24.0)\n",
      "Requirement already satisfied: markdown>=2.6.8 in c:\\users\\agatk\\anaconda3\\lib\\site-packages (from tensorboard~=2.4->tensorflow) (3.3.4)\n",
      "Requirement already satisfied: pyasn1-modules>=0.2.1 in c:\\users\\agatk\\anaconda3\\lib\\site-packages (from google-auth<2,>=1.6.3->tensorboard~=2.4->tensorflow) (0.2.8)\n",
      "Requirement already satisfied: rsa<5,>=3.1.4; python_version >= \"3.6\" in c:\\users\\agatk\\anaconda3\\lib\\site-packages (from google-auth<2,>=1.6.3->tensorboard~=2.4->tensorflow) (4.7.2)\n",
      "Requirement already satisfied: cachetools<5.0,>=2.0.0 in c:\\users\\agatk\\anaconda3\\lib\\site-packages (from google-auth<2,>=1.6.3->tensorboard~=2.4->tensorflow) (4.2.1)\n",
      "Requirement already satisfied: requests-oauthlib>=0.7.0 in c:\\users\\agatk\\anaconda3\\lib\\site-packages (from google-auth-oauthlib<0.5,>=0.4.1->tensorboard~=2.4->tensorflow) (1.3.0)\n",
      "Requirement already satisfied: chardet<4,>=3.0.2 in c:\\users\\agatk\\anaconda3\\lib\\site-packages (from requests<3,>=2.21.0->tensorboard~=2.4->tensorflow) (3.0.4)\n",
      "Requirement already satisfied: urllib3!=1.25.0,!=1.25.1,<1.26,>=1.21.1 in c:\\users\\agatk\\anaconda3\\lib\\site-packages (from requests<3,>=2.21.0->tensorboard~=2.4->tensorflow) (1.25.9)\n",
      "Requirement already satisfied: idna<3,>=2.5 in c:\\users\\agatk\\anaconda3\\lib\\site-packages (from requests<3,>=2.21.0->tensorboard~=2.4->tensorflow) (2.10)\n",
      "Requirement already satisfied: certifi>=2017.4.17 in c:\\users\\agatk\\anaconda3\\lib\\site-packages (from requests<3,>=2.21.0->tensorboard~=2.4->tensorflow) (2020.6.20)\n",
      "Requirement already satisfied: pyasn1<0.5.0,>=0.4.6 in c:\\users\\agatk\\anaconda3\\lib\\site-packages (from pyasn1-modules>=0.2.1->google-auth<2,>=1.6.3->tensorboard~=2.4->tensorflow) (0.4.8)\n",
      "Requirement already satisfied: oauthlib>=3.0.0 in c:\\users\\agatk\\anaconda3\\lib\\site-packages (from requests-oauthlib>=0.7.0->google-auth-oauthlib<0.5,>=0.4.1->tensorboard~=2.4->tensorflow) (3.1.0)\n",
      "Note: you may need to restart the kernel to use updated packages.\n"
     ]
    }
   ],
   "source": [
    "pip install tensorflow"
   ]
  },
  {
   "cell_type": "markdown",
   "metadata": {},
   "source": [
    "### Importowanie wymaganych bibliotek"
   ]
  },
  {
   "cell_type": "code",
   "execution_count": 4,
   "metadata": {
    "id": "z4nn0PkVUlJp"
   },
   "outputs": [],
   "source": [
    "import tensorflow as tf \n",
    "from tensorflow import keras\n",
    "from tensorflow.keras.layers import Dense # głęboko połączona warstwa przekazująca neurony dalej (batch, size)\n",
    "from tensorflow.keras.layers import Flatten # \"spłaszcza\" dane wejściowe, przekształca w 1wymiarową tablicę; nie wpływa na wielkość partii\n",
    "from tensorflow.keras.layers import Input\n",
    "from tensorflow.keras.layers import BatchNormalization #warstwa normalizująca dane wejściowe\n",
    "from tensorflow.keras.layers import Dropout # odrzuca część losową informacji, gdy sieć wyciąga za dużo informacji\n",
    "from tensorflow.keras.layers import LSTM # warstwa pamięci długookresowej (sztuczna rekurencyjna architektura sieci neuronowej RNN)\n",
    "from tensorflow.keras.models import Model # grupuje warstwy w obiekt z funkacjami uczenia i wnioskowania\n",
    "from tensorflow.keras.models import Sequential, load_model # do zaczytywania i wczytywania modelu\n",
    "import matplotlib.pyplot as plt\n",
    "import seaborn as sns\n",
    "import pandas as pd\n",
    "import numpy as np\n",
    "from IPython.display import display # tworzymy obiekt audio \n",
    "import ipywidgets as widgets\n",
    "from ipywidgets import interact, interact_manual # automatyczne tworzenie kontrolek interfejsu użytkownika  (user interface UI)\n",
    "from ipywidgets import interactive\n",
    "\n",
    "from sklearn.model_selection import train_test_split # dzielenie tablic lub macierzy na losowe podzbioru trenowania i testowania. \n",
    "from ipywidgets import interact, interact_manual\n",
    "from ipywidgets import interactive\n",
    "from sklearn.metrics import r2_score # R2- współczynnik determinacji; funkcja oceny regresji \n",
    "from sklearn.metrics import mean_absolute_error #MAE oraz MSE (błędy)\n",
    "from sklearn.metrics import mean_squared_error"
   ]
  },
  {
   "cell_type": "markdown",
   "metadata": {},
   "source": [
    "##### Import bibliotek do stworzenia sieci LSTM"
   ]
  },
  {
   "cell_type": "code",
   "execution_count": 39,
   "metadata": {},
   "outputs": [],
   "source": [
    "import math\n",
    "import keras\n",
    "from keras.models import Sequential\n",
    "from keras.layers import Dense\n",
    "from keras.layers import LSTM\n",
    "from keras.layers import Dropout\n",
    "from keras.layers import *\n",
    "from sklearn.preprocessing import MinMaxScaler # przekształcanie cech skalując każdą z cech do określonego zakresu\n",
    "from sklearn.metrics import mean_squared_error\n",
    "from sklearn.metrics import mean_absolute_error\n",
    "from keras.callbacks import EarlyStopping # przerywa trenowanie, gdy monitorowana metryka przestanie się poprawiać; \n",
    "                                          # estymator ten skaluje i tłumaczy każdą cechę indywidualnie tak, że znajduje się ona w zadanym zakresie na zbiorze uczącym (np. między 0 a 1)"
   ]
  },
  {
   "cell_type": "markdown",
   "metadata": {},
   "source": [
    "### Wczytanie bazy"
   ]
  },
  {
   "cell_type": "code",
   "execution_count": 6,
   "metadata": {
    "id": "xNXhr96tUzag"
   },
   "outputs": [],
   "source": [
    "# katalog z plikiem powinien się znajdować w tym samym folderze, co obecnie odpalony plik\n",
    "data = pd.read_csv('./zmienne/usdpln_d.csv')"
   ]
  },
  {
   "cell_type": "markdown",
   "metadata": {
    "id": "F28mhURdVfUZ"
   },
   "source": [
    "### Podzial na zbiór treningowy i testowy"
   ]
  },
  {
   "cell_type": "code",
   "execution_count": 7,
   "metadata": {},
   "outputs": [
    {
     "name": "stdout",
     "output_type": "stream",
     "text": [
      "(2849, 5)\n"
     ]
    }
   ],
   "source": [
    "# pierwsza liczba oznacza ilość wierszy, natomiast druga ilość kolumn w zbiorze danych\n",
    "print(data.shape)"
   ]
  },
  {
   "cell_type": "code",
   "execution_count": 8,
   "metadata": {
    "id": "tVIFFmksVtX7"
   },
   "outputs": [
    {
     "name": "stdout",
     "output_type": "stream",
     "text": [
      "(1709, 5)\n"
     ]
    }
   ],
   "source": [
    "# zbiór treningowy\n",
    "ratio = 0.6  # współczynnik proporcji wymiarów (0.6 w stosunku do całego zbioru danych)\n",
    "N = int(len(data)*ratio)   # liczba próbek na klasę\n",
    "train_df, test_df = data[:N], data[N:]   # przypisanie próbek do zmiennych\n",
    "print(train_df.shape)"
   ]
  },
  {
   "cell_type": "code",
   "execution_count": 9,
   "metadata": {
    "id": "b0jVcRkvWVDV"
   },
   "outputs": [
    {
     "name": "stdout",
     "output_type": "stream",
     "text": [
      "(1140, 5)\n"
     ]
    }
   ],
   "source": [
    "# zbiór testowy\n",
    "ratio = 0.5\n",
    "N = int(len(data)*ratio)\n",
    "test_df, val_df = test_df[:N], test_df[N:]\n",
    "print(test_df.shape)"
   ]
  },
  {
   "cell_type": "code",
   "execution_count": 10,
   "metadata": {
    "colab": {
     "base_uri": "https://localhost:8080/",
     "height": 284
    },
    "id": "yxOZAIQgWjaW",
    "outputId": "2035dbd2-676d-4d86-bb4d-a2b2b91cb9c1"
   },
   "outputs": [
    {
     "data": {
      "text/html": [
       "<div>\n",
       "<style scoped>\n",
       "    .dataframe tbody tr th:only-of-type {\n",
       "        vertical-align: middle;\n",
       "    }\n",
       "\n",
       "    .dataframe tbody tr th {\n",
       "        vertical-align: top;\n",
       "    }\n",
       "\n",
       "    .dataframe thead th {\n",
       "        text-align: right;\n",
       "    }\n",
       "</style>\n",
       "<table border=\"1\" class=\"dataframe\">\n",
       "  <thead>\n",
       "    <tr style=\"text-align: right;\">\n",
       "      <th></th>\n",
       "      <th>Otwarcie</th>\n",
       "      <th>Najwyzszy</th>\n",
       "      <th>Najnizszy</th>\n",
       "      <th>Zamkniecie</th>\n",
       "    </tr>\n",
       "  </thead>\n",
       "  <tbody>\n",
       "    <tr>\n",
       "      <th>count</th>\n",
       "      <td>1709.000000</td>\n",
       "      <td>1709.000000</td>\n",
       "      <td>1709.000000</td>\n",
       "      <td>1709.000000</td>\n",
       "    </tr>\n",
       "    <tr>\n",
       "      <th>mean</th>\n",
       "      <td>3.283205</td>\n",
       "      <td>3.304046</td>\n",
       "      <td>3.265029</td>\n",
       "      <td>3.284120</td>\n",
       "    </tr>\n",
       "    <tr>\n",
       "      <th>std</th>\n",
       "      <td>0.355510</td>\n",
       "      <td>0.356859</td>\n",
       "      <td>0.352708</td>\n",
       "      <td>0.355198</td>\n",
       "    </tr>\n",
       "    <tr>\n",
       "      <th>min</th>\n",
       "      <td>2.646300</td>\n",
       "      <td>2.657000</td>\n",
       "      <td>2.631900</td>\n",
       "      <td>2.638900</td>\n",
       "    </tr>\n",
       "    <tr>\n",
       "      <th>25%</th>\n",
       "      <td>3.036700</td>\n",
       "      <td>3.050900</td>\n",
       "      <td>3.027900</td>\n",
       "      <td>3.039300</td>\n",
       "    </tr>\n",
       "    <tr>\n",
       "      <th>50%</th>\n",
       "      <td>3.183500</td>\n",
       "      <td>3.204100</td>\n",
       "      <td>3.165700</td>\n",
       "      <td>3.183500</td>\n",
       "    </tr>\n",
       "    <tr>\n",
       "      <th>75%</th>\n",
       "      <td>3.512700</td>\n",
       "      <td>3.537900</td>\n",
       "      <td>3.500100</td>\n",
       "      <td>3.527800</td>\n",
       "    </tr>\n",
       "    <tr>\n",
       "      <th>max</th>\n",
       "      <td>4.133320</td>\n",
       "      <td>4.155790</td>\n",
       "      <td>4.113940</td>\n",
       "      <td>4.132170</td>\n",
       "    </tr>\n",
       "  </tbody>\n",
       "</table>\n",
       "</div>"
      ],
      "text/plain": [
       "          Otwarcie    Najwyzszy    Najnizszy   Zamkniecie\n",
       "count  1709.000000  1709.000000  1709.000000  1709.000000\n",
       "mean      3.283205     3.304046     3.265029     3.284120\n",
       "std       0.355510     0.356859     0.352708     0.355198\n",
       "min       2.646300     2.657000     2.631900     2.638900\n",
       "25%       3.036700     3.050900     3.027900     3.039300\n",
       "50%       3.183500     3.204100     3.165700     3.183500\n",
       "75%       3.512700     3.537900     3.500100     3.527800\n",
       "max       4.133320     4.155790     4.113940     4.132170"
      ]
     },
     "execution_count": 10,
     "metadata": {},
     "output_type": "execute_result"
    }
   ],
   "source": [
    "# funkcja oblicza podsumowanie statystyk odnoszących się do kolumny DataFrame. \n",
    "# ta funkcja podaje wartości średnie, standardowe i odstęp międzykwartylowy.\n",
    "train_df.describe()"
   ]
  },
  {
   "cell_type": "code",
   "execution_count": 13,
   "metadata": {
    "id": "HrtXH7VgWqsD"
   },
   "outputs": [],
   "source": [
    "# zapewnia obliczania w oknie kroczącym. \n",
    "# windows = rozmiar ruchomego okna, jest to liczba obserwacji użytych do obliczenia statystyki. \n",
    "# każde okno będzie miało stały rozmiar.\n",
    "rolling = data.rolling(window=7)"
   ]
  },
  {
   "cell_type": "code",
   "execution_count": 14,
   "metadata": {
    "id": "IaOjWnf3WuAB"
   },
   "outputs": [],
   "source": [
    "# definiujemy nasz y, który chcemy przewidzieć; trenujemy model tylko na \"Zamkniecie\"\n",
    "data_roll = pd.DataFrame()\n",
    "data_roll['Zamkniecie']=train_df['Zamkniecie']"
   ]
  },
  {
   "cell_type": "code",
   "execution_count": 15,
   "metadata": {},
   "outputs": [
    {
     "data": {
      "application/vnd.jupyter.widget-view+json": {
       "model_id": "aa8c385104d5472cbb2d160b74356fbe",
       "version_major": 2,
       "version_minor": 0
      },
      "text/plain": [
       "interactive(children=(IntSlider(value=50, description='lw', min=1), Button(description='Run Interact', style=B…"
      ]
     },
     "metadata": {},
     "output_type": "display_data"
    }
   ],
   "source": [
    "@widgets.interact_manual(lw=(1, 100))  #wstawia suwak do ręcznego wywoływania funkcji. Nie ma potrzeby uruchamiać za każdym razem kod, gdy zmieniamy wartość. \n",
    "def plot(lw):\n",
    "  rolling = data.rolling(window=lw, center=True)\n",
    "  data_roll = pd.DataFrame()\n",
    " \n",
    "  data_roll['Zamkniecie']=data['Zamkniecie']\n",
    "  data_roll['7 days rolling_mean(srednia kroczaca)']=data_roll['Zamkniecie'].rolling(lw, min_periods=1).mean()\n",
    "  ax = data_roll.plot(style=['-', '--'], rot=90, figsize=(20, 10)) #odpowiada za rozmiar wykresu, oraz styl linii\n",
    "  ax.lines[0].set_alpha(0.3)   #zmienia przeźroczystość linii wskazującej \"Zamknięcie\"."
   ]
  },
  {
   "cell_type": "markdown",
   "metadata": {
    "id": "8eSGFce8W3jD"
   },
   "source": [
    "### Przygotowanie danych do uczenia na sieci LSTM (zmiana wymiarow macierzy, by model zaczal obrabiac dane)"
   ]
  },
  {
   "cell_type": "code",
   "execution_count": 17,
   "metadata": {
    "id": "e4v22vMBXlIn"
   },
   "outputs": [],
   "source": [
    "zmienna_przewidywana = \"Zamkniecie\"\n",
    "\n",
    "def prepare_dataset_to_lstm(zmienna_przewidywana, train_df, ratio):\n",
    "  dataset = train_df[zmienna_przewidywana].values #numpy.ndarray\n",
    "  dataset = dataset.astype('float32') #zamiana typu na float\n",
    "  dataset = np.reshape(dataset, (-1, 1)) #przekształcamy tablicę; wynikowa tablica ma tylko 1 kolumnę\n",
    "  scaler = MinMaxScaler(feature_range=(0, 1)) #skalowanie zmiennych do postaci (0,1)\n",
    "  dataset = scaler.fit_transform(dataset) # wszystkie inne wartości są liniowo skalowane między tymi wartościami\n",
    "\n",
    "#dzielimy uporządkowany zestaw danych do trenowania i testowania. Oblicza index punktu podziału i rozdziela dane na zestawy szkoleniowe z test. obserwacji, których można użyć do trenowania modelu, pozostawiając pozostałe do przetestowania\n",
    "  train_size = int(len(dataset) * ratio)\n",
    "  test_size = len(dataset) - train_size\n",
    "  train, test = dataset[0:train_size,:], dataset[train_size:len(dataset),:]\n",
    "\n",
    "  return train, test, scaler\n",
    "\n",
    "#uruchamiany tą funkcję z wyżej, przygotowanie modelu pod LSTM\n",
    "train, test, scaler = prepare_dataset_to_lstm(zmienna_przewidywana, train_df, ratio=0.8) #scaler - skaluje dane do zakresu 0, 1 (tak zwana normalizacja)"
   ]
  },
  {
   "cell_type": "code",
   "execution_count": 42,
   "metadata": {
    "id": "BPKKHxCWXpe1"
   },
   "outputs": [],
   "source": [
    "# look_back- liczba poprzednich kroków czasowych, które mają być użyte jako zmienne wejściowe do przewidywania następnego okresu czasu, w tym przypadku domyślnie 1.\n",
    "# scaler- skaluje dane do zakresu 0,1 (normalizacja)\n",
    "# tworzenie back(ów); konwertujemy tablicę wartości na macierz zestawu danych\n",
    "def create_dataset_lstm(dataset, look_back=1):   #look_back - wielkość kroku z którą testujemy dataset\n",
    "    X, Y = [], []\n",
    "    for i in range(len(dataset)-look_back-1): # żeby nie wyszło poza zasięg\n",
    "        a = dataset[i:(i+look_back), 0]\n",
    "        X.append(a)\n",
    "        Y.append(dataset[i + look_back, 0])\n",
    "    return np.array(X), np.array(Y)\n",
    "\n",
    "#używamy funkcji by przygotować zestaw i przetestować zestawy danych do modelowania.\n",
    "look_back = 20 #liczba probek ktora pobieramy, minimalnie jedna próbka, maksymalnie tyle, ile ma ciąg elementów\n",
    "X_train, Y_train = create_dataset_lstm(train, look_back)\n",
    "X_test, Y_test = create_dataset_lstm(test, look_back)\n",
    "\n",
    "#Zmienia kształt wejścia na próbki, kroki czasowe, cechy,\n",
    "X_train = np.reshape(X_train, (X_train.shape[0], 1, X_train.shape[1]))\n",
    "X_test = np.reshape(X_test, (X_test.shape[0], 1, X_test.shape[1]))"
   ]
  },
  {
   "cell_type": "markdown",
   "metadata": {
    "id": "lu0pQXiDZYM7"
   },
   "source": [
    "## Uczenie modelu"
   ]
  },
  {
   "cell_type": "code",
   "execution_count": 19,
   "metadata": {
    "id": "24NO3QG3Y7Pp"
   },
   "outputs": [],
   "source": [
    "#Tworzymy i dopasowujemy model LSTM (zmiana batch_size). W poniższym modelu jest jedno wejście w warstwie wejściowej\n",
    "# i 10 neuronów w warstwie ukrytej. Warstwa wyjściowa przewiduje wartości\n",
    "def lstm_model(X_train, Y_train, X_test, Y_test, batch_size=20):\n",
    "  model = Sequential()  #liniowy stos warstw\n",
    "  model.add(LSTM(20, input_shape=(X_train.shape[1], X_train.shape[2])))\n",
    "  model.add(Dropout(0.2)) \n",
    "  model.add(Dense(8))\n",
    "# definiujemy w czym będziemy wyrażać naszą jakość uczenia\n",
    "  model.compile(loss='mean_squared_error', optimizer='adam') #definiujemy w czym będziemy wyrażać naszą jakośc uczenia\n",
    "\n",
    "# epochs - Funkcja aktywacji powtarzana jest 5 razy\n",
    "  history = model.fit(X_train, Y_train, epochs=5, batch_size=10, validation_data=(X_test, Y_test), \n",
    "                      # przerwij trenowanie, gdy monitorowana metryka przestanie się poprawiać\n",
    "                      callbacks=[EarlyStopping(monitor='val_loss', patience=10)], verbose=1, shuffle=False)\n",
    "  return model\n",
    "\n"
   ]
  },
  {
   "cell_type": "markdown",
   "metadata": {},
   "source": [
    "## Ewaluacja modelu"
   ]
  },
  {
   "cell_type": "code",
   "execution_count": 20,
   "metadata": {
    "id": "7OKDU7BRZhqQ"
   },
   "outputs": [],
   "source": [
    "#ewaluacja modelu\n",
    "def evaluation_model(model,X_train, X_test, Y_train, testing=False):\n",
    "  dataset = train_df[zmienna_przewidywana].values #numpy.ndarray\n",
    "  dataset = dataset.astype('float32') #zamian typu na float\n",
    "  dataset = np.reshape(dataset, (-1, 1))  # zmienia shape na odwrotny (odwrócenie macierzy) nie w sposób ciągły (1 pod 2)\n",
    "  scaler = MinMaxScaler(feature_range=(0, 1))\n",
    "  dataset = scaler.fit_transform(dataset)\n",
    "  \n",
    "#wykonaj prognozy\n",
    "  train_predict = model.predict(X_train)\n",
    "  test_predict = model.predict(X_test)\n",
    "\n",
    "#odwróć prognozy, przy obliczaniu błędu przekonwertujemy dane na tą samą jednostkę.  \n",
    "  train_predict = scaler.inverse_transform(train_predict)\n",
    "  Y_train = scaler.inverse_transform([Y_train])\n",
    "\n",
    "#oblicz średni kwadrat błędu\n",
    "  _mean_absolute_error = mean_absolute_error(Y_train[0], train_predict[:,0])   #jak mamy listę 13 elementów, to wstawiając [3,:] pobierze od 3 do 13 elementu\n",
    "  _mean_squared_error = np.sqrt(mean_squared_error(Y_train[0], train_predict[:,0]))\n",
    "  print('Train Mean Absolute Error:', _mean_absolute_error)\n",
    "  print('Train Root Mean Squared Error:',_mean_squared_error)\n",
    "  if testing:\n",
    "    return Y_train, train_predict, _mean_absolute_error, _mean_squared_error\n",
    "  return Y_train, train_predict\n",
    "\n"
   ]
  },
  {
   "cell_type": "code",
   "execution_count": 43,
   "metadata": {
    "colab": {
     "base_uri": "https://localhost:8080/"
    },
    "id": "xiujQG_iduIb",
    "outputId": "e8ecb3e7-9e2c-42e0-d29d-2736de0eea21"
   },
   "outputs": [
    {
     "name": "stdout",
     "output_type": "stream",
     "text": [
      "(1, 2, (10, 20))\n",
      "1 2 (10, 20)\n"
     ]
    }
   ],
   "source": [
    "def a():\n",
    "    return 1, 2, (10, 20)\n",
    "\n",
    "x,y, error = a()\n",
    "print(a())\n",
    "print(x,y, error)\n",
    "\n",
    "# 1 to nasz x- Y_train, 2 nasz y- train_predict  a (10-_mean_absolute_error, 20- _mean_squared_error) nasze dołożone errory (patrz analogicznie linijkę wyżej)"
   ]
  },
  {
   "cell_type": "code",
   "execution_count": 44,
   "metadata": {
    "colab": {
     "base_uri": "https://localhost:8080/"
    },
    "id": "dgXynbpvZ_ZT",
    "outputId": "ec57cf4d-18cc-4236-f361-49e61e3a58e3"
   },
   "outputs": [
    {
     "name": "stdout",
     "output_type": "stream",
     "text": [
      "Epoch 1/5\n",
      "135/135 [==============================] - 3s 6ms/step - loss: 0.0376 - val_loss: 0.0069\n",
      "Epoch 2/5\n",
      "135/135 [==============================] - 0s 3ms/step - loss: 0.0094 - val_loss: 0.0042\n",
      "Epoch 3/5\n",
      "135/135 [==============================] - 0s 3ms/step - loss: 0.0070 - val_loss: 0.0029\n",
      "Epoch 4/5\n",
      "135/135 [==============================] - 0s 3ms/step - loss: 0.0071 - val_loss: 0.0023\n",
      "Epoch 5/5\n",
      "135/135 [==============================] - 0s 3ms/step - loss: 0.0058 - val_loss: 0.0024\n"
     ]
    }
   ],
   "source": [
    "#Model się uczy!\n",
    "history = lstm_model(X_train, Y_train, X_test, Y_test, batch_size=10)\n",
    "\n",
    "# loss to funkcja straty na zbiorze treningowym\n",
    "# val_loss to funkcja straty na zbiorze walidacyjnym (im mniejsza tym lepiej)\n",
    "\n",
    "# widzimy że z każdą kolejną epoką te dwa błędy są coraz mniejsze- zatem model dobrze się uczy. \n",
    "# im mniejsze błędy (bliższe 0- tym lepiej)"
   ]
  },
  {
   "cell_type": "code",
   "execution_count": 23,
   "metadata": {
    "colab": {
     "base_uri": "https://localhost:8080/"
    },
    "id": "bBRLWe2tal_k",
    "outputId": "070f9856-1d3e-4d33-d48d-04dcd7883e31"
   },
   "outputs": [
    {
     "name": "stdout",
     "output_type": "stream",
     "text": [
      "Saved model to disk\n"
     ]
    }
   ],
   "source": [
    "# zapisujemy model sieci neuronowej w formacie JSON\n",
    "model_json = history.to_json()  #zapisanie modelu history do JSON\n",
    "with open(\"model.json\", \"w\") as json_file:  #utwórz plik model.json w trybie edycji i zatrzymaj w zmiennej json_file\n",
    "    json_file.write(model_json)\n",
    "# zapisanie wagi z modelu za pomocą funkcji save.weights. \n",
    "history.save_weights(\"model.h5\")  #wagi są zapisywane w pliku model.h5 w katalogu lokalnym.\n",
    "print(\"Saved model to disk\")  #komentarz udanej operacji"
   ]
  },
  {
   "cell_type": "code",
   "execution_count": 24,
   "metadata": {
    "colab": {
     "base_uri": "https://localhost:8080/"
    },
    "id": "WfuK6w9caHN8",
    "outputId": "bc323c82-f312-43d0-904a-0d75540a2fe7"
   },
   "outputs": [
    {
     "name": "stdout",
     "output_type": "stream",
     "text": [
      "Train Mean Absolute Error: 0.07696392478984217\n",
      "Train Root Mean Squared Error: 0.08884137232318633\n"
     ]
    },
    {
     "data": {
      "text/plain": [
       "(array([[2.85980014, 2.84680012, 2.8777001 , ..., 3.76939976, 3.76460021,\n",
       "         3.73879991]]),\n",
       " array([[2.957052 , 2.9608479, 2.9568648, ..., 2.9675014, 2.9656303,\n",
       "         2.9571354],\n",
       "        [2.9527724, 2.9556122, 2.9546757, ..., 2.9620724, 2.9667056,\n",
       "         2.9648807],\n",
       "        [2.9564748, 2.9518726, 2.9571748, ..., 2.9551263, 2.963585 ,\n",
       "         2.9715772],\n",
       "        ...,\n",
       "        [3.7983181, 3.8226836, 3.8215094, ..., 3.8011951, 3.7719066,\n",
       "         3.7842553],\n",
       "        [3.8010871, 3.816779 , 3.8132615, ..., 3.8041565, 3.7752645,\n",
       "         3.7836432],\n",
       "        [3.8020575, 3.8106782, 3.8066409, ..., 3.8074548, 3.7670827,\n",
       "         3.7809923]], dtype=float32))"
      ]
     },
     "execution_count": 24,
     "metadata": {},
     "output_type": "execute_result"
    }
   ],
   "source": [
    "\n",
    "evaluation_model(history,X_train, X_test, Y_train)"
   ]
  },
  {
   "cell_type": "code",
   "execution_count": 25,
   "metadata": {
    "colab": {
     "base_uri": "https://localhost:8080/"
    },
    "id": "JFznAylEdG8X",
    "outputId": "3bad9dad-673c-4318-84e6-7780371beeec"
   },
   "outputs": [
    {
     "name": "stdout",
     "output_type": "stream",
     "text": [
      "Train Mean Absolute Error: 0.07696392478984217\n",
      "Train Root Mean Squared Error: 0.08884137232318633\n"
     ]
    }
   ],
   "source": [
    "Y_train, train_predict = evaluation_model(history,X_train, X_test, Y_train)"
   ]
  },
  {
   "cell_type": "code",
   "execution_count": 45,
   "metadata": {
    "id": "VQ-5nMYZcgXv"
   },
   "outputs": [],
   "source": [
    "def visualization(Y_train, train_predict):\n",
    "  N = len(Y_train[0]) \n",
    "  aa=[x for x in range(N)]  # N oznacza liczbę cech w punkcie danych\n",
    "  plt.figure(figsize=(8,4))\n",
    "  plt.plot(aa, Y_train[0], marker='.', label=\"actual\") # gdy . zmienimy na * to będziemy mieli zamiast . -> *\n",
    "  plt.plot(aa, train_predict[:,0], 'r', label=\"prediction\")\n",
    "  # plt.tick_params(left=False, labelleft=True) #remove ticks\n",
    "  plt.tight_layout()  # dostosuj dopełnienie między polamy pomocniczymi i wokół nich\n",
    "  sns.despine(top=True) # usuwamy grzbiet\n",
    "  plt.subplots_adjust(left=0.07)  # położenie lewej krawędzi wykresu\n",
    "  plt.title(\" prediction\")\n",
    "  plt.xlabel('Time step', size=15)  # rozmiar czcionki dla time step 15\n",
    "  plt.legend(fontsize=15)  # rozmiar czcionki elementów legendy\n",
    "  plt.show();  # uruchamiamy pętle zdarzeń, wyszukujemy wszystkie aktywne obiekty figur i otwieramy jedno lub więcej inteaktywnych okien.\n",
    "\n"
   ]
  },
  {
   "cell_type": "code",
   "execution_count": 29,
   "metadata": {
    "colab": {
     "base_uri": "https://localhost:8080/",
     "height": 331
    },
    "id": "2QEN7oeKc4W-",
    "outputId": "a989d390-23a5-457e-b2fb-2b9fcbf02502"
   },
   "outputs": [
    {
     "data": {
      "image/png": "[encoded data removed]",
      "text/plain": [
       "<Figure size 576x288 with 1 Axes>"
      ]
     },
     "metadata": {
      "needs_background": "light"
     },
     "output_type": "display_data"
    }
   ],
   "source": [
    "# Na wykresie dane nie są znormalizowane\n",
    "visualization(Y_train, train_predict)"
   ]
  },
  {
   "cell_type": "markdown",
   "metadata": {
    "id": "186VBDTrd3yn"
   },
   "source": [
    "## Zmieniamy wielkosc batch, by zobaczyc jaki wplyw ma ta zmienna na wyniki"
   ]
  },
  {
   "cell_type": "code",
   "execution_count": 30,
   "metadata": {
    "id": "0RAuJONqejpj"
   },
   "outputs": [
    {
     "name": "stdout",
     "output_type": "stream",
     "text": [
      "[[0.7201642  0.7194947  0.7237805 ]\n",
      " [0.7194947  0.7237805  0.7081102 ]\n",
      " [0.7237805  0.7081102  0.72130287]\n",
      " ...\n",
      " [0.8178359  0.81308115 0.80045784]\n",
      " [0.81308115 0.80045784 0.7865623 ]\n",
      " [0.80045784 0.7865623  0.79493296]]\n"
     ]
    }
   ],
   "source": [
    "# <odswiezam dane>, gdyz wymiary danych testowych i treningowych przestaja sie zgadac\n",
    "train, test, scaler = prepare_dataset_to_lstm(zmienna_przewidywana, train_df, ratio=0.8)\n",
    "\n",
    "def create_dataset_lstm(dataset, look_back=1):\n",
    "    X, Y = [], []\n",
    "    for i in range(len(dataset)-look_back):\n",
    "        a = dataset[i:(i+look_back), 0]\n",
    "        X.append(a)\n",
    "        Y.append(dataset[i + look_back, 0])\n",
    "    return np.array(X), np.array(Y)\n",
    "    \n",
    "look_back = 3 #liczba probek ktora pobieramy, minimalnie jedna probka, maksymalnie tyle, ile ma ciag elementow\n",
    "X_train, Y_train = create_dataset_lstm(train, look_back)\n",
    "X_test, Y_test = create_dataset_lstm(test, look_back)\n",
    "print(X_test)\n",
    "\n",
    "# reshape input to be [samples, time steps, features]\n",
    "X_train = np.reshape(X_train, (X_train.shape[0], 1, X_train.shape[1]))\n",
    "X_test = np.reshape(X_test, (X_test.shape[0], 1, X_test.shape[1]))"
   ]
  },
  {
   "cell_type": "code",
   "execution_count": 31,
   "metadata": {
    "colab": {
     "base_uri": "https://localhost:8080/"
    },
    "id": "RB4mp_3neAns",
    "outputId": "ab46fbc9-e979-4b84-cb4e-8b84231039a7"
   },
   "outputs": [
    {
     "name": "stdout",
     "output_type": "stream",
     "text": [
      "-------------------------------30--------------------------\n",
      "Epoch 1/5\n",
      "137/137 [==============================] - 3s 6ms/step - loss: 0.0584 - val_loss: 0.0683\n",
      "Epoch 2/5\n",
      "137/137 [==============================] - 0s 3ms/step - loss: 0.0131 - val_loss: 0.0253\n",
      "Epoch 3/5\n",
      "137/137 [==============================] - 0s 3ms/step - loss: 0.0110 - val_loss: 0.0116\n",
      "Epoch 4/5\n",
      "137/137 [==============================] - 0s 3ms/step - loss: 0.0080 - val_loss: 0.0049\n",
      "Epoch 5/5\n",
      "137/137 [==============================] - 0s 3ms/step - loss: 0.0050 - val_loss: 0.0019\n",
      "Train Mean Absolute Error: 0.03851543683280545\n",
      "Train Root Mean Squared Error: 0.04944618280868658\n",
      "-------------------------------31--------------------------\n",
      "Epoch 1/5\n",
      "137/137 [==============================] - 3s 7ms/step - loss: 0.0526 - val_loss: 0.0630\n",
      "Epoch 2/5\n",
      "137/137 [==============================] - 0s 3ms/step - loss: 0.0122 - val_loss: 0.0232\n",
      "Epoch 3/5\n",
      "137/137 [==============================] - 0s 3ms/step - loss: 0.0097 - val_loss: 0.0106\n",
      "Epoch 4/5\n",
      "137/137 [==============================] - 0s 3ms/step - loss: 0.0064 - val_loss: 0.0042\n",
      "Epoch 5/5\n",
      "137/137 [==============================] - 0s 3ms/step - loss: 0.0049 - val_loss: 0.0025\n",
      "Train Mean Absolute Error: 0.038521389139565904\n",
      "Train Root Mean Squared Error: 0.048770693733262996\n",
      "-------------------------------32--------------------------\n",
      "Epoch 1/5\n",
      "137/137 [==============================] - 3s 6ms/step - loss: 0.0621 - val_loss: 0.0848\n",
      "Epoch 2/5\n",
      "137/137 [==============================] - 0s 3ms/step - loss: 0.0123 - val_loss: 0.0301\n",
      "Epoch 3/5\n",
      "137/137 [==============================] - 0s 3ms/step - loss: 0.0109 - val_loss: 0.0153\n",
      "Epoch 4/5\n",
      "137/137 [==============================] - 0s 3ms/step - loss: 0.0077 - val_loss: 0.0057\n",
      "Epoch 5/5\n",
      "137/137 [==============================] - 0s 3ms/step - loss: 0.0054 - val_loss: 0.0017\n",
      "Train Mean Absolute Error: 0.04735887874724389\n",
      "Train Root Mean Squared Error: 0.05964676945118402\n",
      "-------------------------------33--------------------------\n",
      "Epoch 1/5\n",
      "137/137 [==============================] - 3s 6ms/step - loss: 0.0680 - val_loss: 0.1769\n",
      "Epoch 2/5\n",
      "137/137 [==============================] - 0s 3ms/step - loss: 0.0123 - val_loss: 0.0501\n",
      "Epoch 3/5\n",
      "137/137 [==============================] - 0s 3ms/step - loss: 0.0131 - val_loss: 0.0265\n",
      "Epoch 4/5\n",
      "137/137 [==============================] - 0s 3ms/step - loss: 0.0098 - val_loss: 0.0134\n",
      "Epoch 5/5\n",
      "137/137 [==============================] - 0s 3ms/step - loss: 0.0066 - val_loss: 0.0049\n",
      "Train Mean Absolute Error: 0.05291120453522738\n",
      "Train Root Mean Squared Error: 0.0659471136479898\n",
      "-------------------------------34--------------------------\n",
      "Epoch 1/5\n",
      "137/137 [==============================] - 3s 6ms/step - loss: 0.0533 - val_loss: 0.0664\n",
      "Epoch 2/5\n",
      "137/137 [==============================] - 0s 3ms/step - loss: 0.0109 - val_loss: 0.0262\n",
      "Epoch 3/5\n",
      "137/137 [==============================] - 0s 3ms/step - loss: 0.0090 - val_loss: 0.0115\n",
      "Epoch 4/5\n",
      "137/137 [==============================] - 0s 3ms/step - loss: 0.0063 - val_loss: 0.0038\n",
      "Epoch 5/5\n",
      "137/137 [==============================] - 0s 3ms/step - loss: 0.0043 - val_loss: 0.0017\n",
      "Train Mean Absolute Error: 0.03686404432719878\n",
      "Train Root Mean Squared Error: 0.04648244972344811\n",
      "-------------------------------35--------------------------\n",
      "Epoch 1/5\n",
      "137/137 [==============================] - 3s 6ms/step - loss: 0.0555 - val_loss: 0.0706\n",
      "Epoch 2/5\n",
      "137/137 [==============================] - 0s 3ms/step - loss: 0.0124 - val_loss: 0.0280\n",
      "Epoch 3/5\n",
      "137/137 [==============================] - 0s 3ms/step - loss: 0.0103 - val_loss: 0.0122\n",
      "Epoch 4/5\n",
      "137/137 [==============================] - 0s 3ms/step - loss: 0.0073 - val_loss: 0.0052\n",
      "Epoch 5/5\n",
      "137/137 [==============================] - 0s 3ms/step - loss: 0.0049 - val_loss: 0.0016\n",
      "Train Mean Absolute Error: 0.04251230420407649\n",
      "Train Root Mean Squared Error: 0.053290589328260106\n",
      "-------------------------------36--------------------------\n",
      "Epoch 1/5\n",
      "137/137 [==============================] - 3s 7ms/step - loss: 0.0535 - val_loss: 0.0733\n",
      "Epoch 2/5\n",
      "137/137 [==============================] - 0s 3ms/step - loss: 0.0117 - val_loss: 0.0259\n",
      "Epoch 3/5\n",
      "137/137 [==============================] - 0s 3ms/step - loss: 0.0101 - val_loss: 0.0124\n",
      "Epoch 4/5\n",
      "137/137 [==============================] - 0s 3ms/step - loss: 0.0069 - val_loss: 0.0040\n",
      "Epoch 5/5\n",
      "137/137 [==============================] - 0s 3ms/step - loss: 0.0050 - val_loss: 0.0019\n",
      "Train Mean Absolute Error: 0.038087834870054245\n",
      "Train Root Mean Squared Error: 0.04924502036442547\n",
      "-------------------------------37--------------------------\n",
      "Epoch 1/5\n",
      "137/137 [==============================] - 3s 7ms/step - loss: 0.0659 - val_loss: 0.1317\n",
      "Epoch 2/5\n",
      "137/137 [==============================] - 0s 3ms/step - loss: 0.0136 - val_loss: 0.0462\n",
      "Epoch 3/5\n",
      "137/137 [==============================] - 0s 3ms/step - loss: 0.0128 - val_loss: 0.0269\n",
      "Epoch 4/5\n",
      "137/137 [==============================] - 0s 3ms/step - loss: 0.0098 - val_loss: 0.0128\n",
      "Epoch 5/5\n",
      "137/137 [==============================] - 0s 3ms/step - loss: 0.0073 - val_loss: 0.0050\n",
      "Train Mean Absolute Error: 0.0610072633005596\n",
      "Train Root Mean Squared Error: 0.07519806808329674\n",
      "-------------------------------38--------------------------\n",
      "Epoch 1/5\n",
      "137/137 [==============================] - 3s 7ms/step - loss: 0.0481 - val_loss: 0.0638\n",
      "Epoch 2/5\n",
      "137/137 [==============================] - 0s 3ms/step - loss: 0.0116 - val_loss: 0.0256\n",
      "Epoch 3/5\n",
      "137/137 [==============================] - 0s 3ms/step - loss: 0.0091 - val_loss: 0.0123\n",
      "Epoch 4/5\n",
      "137/137 [==============================] - 0s 3ms/step - loss: 0.0064 - val_loss: 0.0053\n",
      "Epoch 5/5\n",
      "137/137 [==============================] - 0s 3ms/step - loss: 0.0043 - val_loss: 0.0023\n",
      "Train Mean Absolute Error: 0.03417709350263906\n",
      "Train Root Mean Squared Error: 0.043634317641093996\n",
      "-------------------------------39--------------------------\n",
      "Epoch 1/5\n",
      "137/137 [==============================] - 3s 6ms/step - loss: 0.0563 - val_loss: 0.0903\n",
      "Epoch 2/5\n",
      "137/137 [==============================] - 0s 3ms/step - loss: 0.0118 - val_loss: 0.0326\n",
      "Epoch 3/5\n",
      "137/137 [==============================] - 0s 3ms/step - loss: 0.0105 - val_loss: 0.0164\n",
      "Epoch 4/5\n",
      "137/137 [==============================] - 0s 3ms/step - loss: 0.0075 - val_loss: 0.0078\n",
      "Epoch 5/5\n",
      "137/137 [==============================] - 0s 3ms/step - loss: 0.0051 - val_loss: 0.0033\n",
      "Train Mean Absolute Error: 0.03362852413959819\n",
      "Train Root Mean Squared Error: 0.043338467753388364\n",
      "-------------------------------30--------------------------\n",
      "Epoch 1/5\n",
      "136/136 [==============================] - 3s 6ms/step - loss: 0.0463 - val_loss: 0.0153\n",
      "Epoch 2/5\n",
      "136/136 [==============================] - 0s 3ms/step - loss: 0.0091 - val_loss: 0.0036\n",
      "Epoch 3/5\n",
      "136/136 [==============================] - 0s 3ms/step - loss: 0.0070 - val_loss: 0.0020\n",
      "Epoch 4/5\n",
      "136/136 [==============================] - 0s 3ms/step - loss: 0.0044 - val_loss: 0.0015\n",
      "Epoch 5/5\n",
      "136/136 [==============================] - 0s 3ms/step - loss: 0.0039 - val_loss: 0.0011\n",
      "Train Mean Absolute Error: 0.04643681419676681\n",
      "Train Root Mean Squared Error: 0.059368297514691595\n",
      "-------------------------------31--------------------------\n",
      "Epoch 1/5\n",
      "136/136 [==============================] - 3s 6ms/step - loss: 0.0490 - val_loss: 0.0140\n",
      "Epoch 2/5\n",
      "136/136 [==============================] - 0s 3ms/step - loss: 0.0094 - val_loss: 0.0038\n",
      "Epoch 3/5\n",
      "136/136 [==============================] - 0s 3ms/step - loss: 0.0068 - val_loss: 0.0022\n",
      "Epoch 4/5\n",
      "136/136 [==============================] - 0s 3ms/step - loss: 0.0053 - val_loss: 0.0013\n",
      "Epoch 5/5\n",
      "136/136 [==============================] - 0s 3ms/step - loss: 0.0041 - val_loss: 0.0013\n",
      "Train Mean Absolute Error: 0.0452615738132936\n",
      "Train Root Mean Squared Error: 0.058238002489121504\n",
      "-------------------------------32--------------------------\n",
      "Epoch 1/5\n",
      "136/136 [==============================] - 3s 7ms/step - loss: 0.0433 - val_loss: 0.0165\n",
      "Epoch 2/5\n",
      "136/136 [==============================] - 0s 3ms/step - loss: 0.0089 - val_loss: 0.0054\n",
      "Epoch 3/5\n",
      "136/136 [==============================] - 0s 3ms/step - loss: 0.0067 - val_loss: 0.0020\n"
     ]
    },
    {
     "name": "stdout",
     "output_type": "stream",
     "text": [
      "Epoch 4/5\n",
      "136/136 [==============================] - 0s 3ms/step - loss: 0.0049 - val_loss: 0.0016\n",
      "Epoch 5/5\n",
      "136/136 [==============================] - 0s 3ms/step - loss: 0.0040 - val_loss: 0.0013\n",
      "Train Mean Absolute Error: 0.048581090830861706\n",
      "Train Root Mean Squared Error: 0.06111503422830024\n",
      "-------------------------------33--------------------------\n",
      "Epoch 1/5\n",
      "136/136 [==============================] - 3s 8ms/step - loss: 0.0510 - val_loss: 0.0147\n",
      "Epoch 2/5\n",
      "136/136 [==============================] - 0s 3ms/step - loss: 0.0085 - val_loss: 0.0047\n",
      "Epoch 3/5\n",
      "136/136 [==============================] - 0s 3ms/step - loss: 0.0063 - val_loss: 0.0025\n",
      "Epoch 4/5\n",
      "136/136 [==============================] - 0s 3ms/step - loss: 0.0049 - val_loss: 0.0015\n",
      "Epoch 5/5\n",
      "136/136 [==============================] - 0s 3ms/step - loss: 0.0043 - val_loss: 0.0013\n",
      "Train Mean Absolute Error: 0.04458748946216855\n",
      "Train Root Mean Squared Error: 0.05653730983839653\n",
      "-------------------------------34--------------------------\n",
      "Epoch 1/5\n",
      "136/136 [==============================] - 3s 6ms/step - loss: 0.0489 - val_loss: 0.0124\n",
      "Epoch 2/5\n",
      "136/136 [==============================] - 0s 3ms/step - loss: 0.0083 - val_loss: 0.0039\n",
      "Epoch 3/5\n",
      "136/136 [==============================] - 0s 3ms/step - loss: 0.0062 - val_loss: 0.0018\n",
      "Epoch 4/5\n",
      "136/136 [==============================] - 0s 3ms/step - loss: 0.0048 - val_loss: 0.0013\n",
      "Epoch 5/5\n",
      "136/136 [==============================] - 0s 3ms/step - loss: 0.0040 - val_loss: 0.0012\n",
      "Train Mean Absolute Error: 0.05211992432720762\n",
      "Train Root Mean Squared Error: 0.0650136451592558\n",
      "-------------------------------35--------------------------\n",
      "Epoch 1/5\n",
      "136/136 [==============================] - 3s 6ms/step - loss: 0.0424 - val_loss: 0.0230\n",
      "Epoch 2/5\n",
      "136/136 [==============================] - 0s 3ms/step - loss: 0.0090 - val_loss: 0.0084\n",
      "Epoch 3/5\n",
      "136/136 [==============================] - 0s 3ms/step - loss: 0.0068 - val_loss: 0.0041\n",
      "Epoch 4/5\n",
      "136/136 [==============================] - 0s 3ms/step - loss: 0.0051 - val_loss: 0.0025\n",
      "Epoch 5/5\n",
      "136/136 [==============================] - 0s 3ms/step - loss: 0.0045 - val_loss: 0.0019\n",
      "Train Mean Absolute Error: 0.040843275828115755\n",
      "Train Root Mean Squared Error: 0.05279191414336568\n",
      "-------------------------------36--------------------------\n",
      "Epoch 1/5\n",
      "136/136 [==============================] - 3s 6ms/step - loss: 0.0416 - val_loss: 0.0278\n",
      "Epoch 2/5\n",
      "136/136 [==============================] - 0s 3ms/step - loss: 0.0104 - val_loss: 0.0114\n",
      "Epoch 3/5\n",
      "136/136 [==============================] - 0s 3ms/step - loss: 0.0076 - val_loss: 0.0033\n",
      "Epoch 4/5\n",
      "136/136 [==============================] - 0s 3ms/step - loss: 0.0058 - val_loss: 0.0022\n",
      "Epoch 5/5\n",
      "136/136 [==============================] - 0s 3ms/step - loss: 0.0044 - val_loss: 0.0014\n",
      "Train Mean Absolute Error: 0.04888515664517839\n",
      "Train Root Mean Squared Error: 0.06189787243772904\n",
      "-------------------------------37--------------------------\n",
      "Epoch 1/5\n",
      "136/136 [==============================] - 3s 6ms/step - loss: 0.0612 - val_loss: 0.0257\n",
      "Epoch 2/5\n",
      "136/136 [==============================] - 0s 3ms/step - loss: 0.0091 - val_loss: 0.0069\n",
      "Epoch 3/5\n",
      "136/136 [==============================] - 0s 3ms/step - loss: 0.0070 - val_loss: 0.0025\n",
      "Epoch 4/5\n",
      "136/136 [==============================] - 0s 3ms/step - loss: 0.0051 - val_loss: 0.0017\n",
      "Epoch 5/5\n",
      "136/136 [==============================] - 0s 3ms/step - loss: 0.0044 - val_loss: 0.0014\n",
      "Train Mean Absolute Error: 0.041389521461189994\n",
      "Train Root Mean Squared Error: 0.05427038329554118\n",
      "-------------------------------38--------------------------\n",
      "Epoch 1/5\n",
      "136/136 [==============================] - 3s 8ms/step - loss: 0.0589 - val_loss: 0.0363\n",
      "Epoch 2/5\n",
      "136/136 [==============================] - 0s 3ms/step - loss: 0.0097 - val_loss: 0.0109\n",
      "Epoch 3/5\n",
      "136/136 [==============================] - 0s 3ms/step - loss: 0.0071 - val_loss: 0.0050\n",
      "Epoch 4/5\n",
      "136/136 [==============================] - 0s 3ms/step - loss: 0.0057 - val_loss: 0.0029\n",
      "Epoch 5/5\n",
      "136/136 [==============================] - 0s 3ms/step - loss: 0.0043 - val_loss: 0.0020\n",
      "Train Mean Absolute Error: 0.04736105418468187\n",
      "Train Root Mean Squared Error: 0.06045120641552804\n",
      "-------------------------------39--------------------------\n",
      "Epoch 1/5\n",
      "136/136 [==============================] - 3s 6ms/step - loss: 0.0438 - val_loss: 0.0178\n",
      "Epoch 2/5\n",
      "136/136 [==============================] - 0s 3ms/step - loss: 0.0092 - val_loss: 0.0056\n",
      "Epoch 3/5\n",
      "136/136 [==============================] - 0s 3ms/step - loss: 0.0067 - val_loss: 0.0017\n",
      "Epoch 4/5\n",
      "136/136 [==============================] - 0s 3ms/step - loss: 0.0051 - val_loss: 0.0012\n",
      "Epoch 5/5\n",
      "136/136 [==============================] - 0s 3ms/step - loss: 0.0038 - val_loss: 0.0014\n",
      "Train Mean Absolute Error: 0.045413416730916846\n",
      "Train Root Mean Squared Error: 0.057164394448995307\n",
      "-------------------------------30--------------------------\n",
      "Epoch 1/5\n",
      "134/134 [==============================] - 3s 6ms/step - loss: 0.0380 - val_loss: 0.0044\n",
      "Epoch 2/5\n",
      "134/134 [==============================] - 0s 3ms/step - loss: 0.0118 - val_loss: 0.0027\n",
      "Epoch 3/5\n",
      "134/134 [==============================] - 0s 3ms/step - loss: 0.0110 - val_loss: 0.0030\n",
      "Epoch 4/5\n",
      "134/134 [==============================] - 0s 3ms/step - loss: 0.0108 - val_loss: 0.0020\n",
      "Epoch 5/5\n",
      "134/134 [==============================] - 0s 3ms/step - loss: 0.0099 - val_loss: 0.0018\n",
      "Train Mean Absolute Error: 0.132751255491504\n",
      "Train Root Mean Squared Error: 0.1441217283664394\n",
      "-------------------------------31--------------------------\n",
      "Epoch 1/5\n",
      "134/134 [==============================] - 3s 6ms/step - loss: 0.0453 - val_loss: 0.0123\n",
      "Epoch 2/5\n",
      "134/134 [==============================] - 0s 3ms/step - loss: 0.0150 - val_loss: 0.0039\n",
      "Epoch 3/5\n",
      "134/134 [==============================] - 0s 3ms/step - loss: 0.0123 - val_loss: 0.0028\n",
      "Epoch 4/5\n",
      "134/134 [==============================] - 0s 3ms/step - loss: 0.0104 - val_loss: 0.0021\n",
      "Epoch 5/5\n",
      "134/134 [==============================] - 0s 3ms/step - loss: 0.0089 - val_loss: 0.0024\n",
      "Train Mean Absolute Error: 0.12376527666216879\n",
      "Train Root Mean Squared Error: 0.13658235533556093\n",
      "-------------------------------32--------------------------\n",
      "Epoch 1/5\n",
      "134/134 [==============================] - 3s 7ms/step - loss: 0.0374 - val_loss: 0.0045\n",
      "Epoch 2/5\n",
      "134/134 [==============================] - 0s 3ms/step - loss: 0.0106 - val_loss: 0.0021\n",
      "Epoch 3/5\n",
      "134/134 [==============================] - 0s 3ms/step - loss: 0.0088 - val_loss: 0.0022\n",
      "Epoch 4/5\n",
      "134/134 [==============================] - 0s 3ms/step - loss: 0.0085 - val_loss: 0.0021\n",
      "Epoch 5/5\n",
      "134/134 [==============================] - 0s 3ms/step - loss: 0.0081 - val_loss: 0.0016\n",
      "Train Mean Absolute Error: 0.10613108544101792\n",
      "Train Root Mean Squared Error: 0.11744301067960256\n",
      "-------------------------------33--------------------------\n",
      "Epoch 1/5\n",
      "134/134 [==============================] - 3s 7ms/step - loss: 0.0379 - val_loss: 0.0056\n",
      "Epoch 2/5\n",
      "134/134 [==============================] - 0s 3ms/step - loss: 0.0136 - val_loss: 0.0025\n",
      "Epoch 3/5\n",
      "134/134 [==============================] - 0s 3ms/step - loss: 0.0116 - val_loss: 0.0022\n",
      "Epoch 4/5\n",
      "134/134 [==============================] - 0s 3ms/step - loss: 0.0097 - val_loss: 0.0022\n",
      "Epoch 5/5\n",
      "134/134 [==============================] - 0s 3ms/step - loss: 0.0091 - val_loss: 0.0018\n",
      "Train Mean Absolute Error: 0.10426007248119099\n",
      "Train Root Mean Squared Error: 0.11712877767545926\n",
      "-------------------------------34--------------------------\n",
      "Epoch 1/5\n",
      "134/134 [==============================] - 3s 7ms/step - loss: 0.0359 - val_loss: 0.0145\n",
      "Epoch 2/5\n",
      "134/134 [==============================] - 0s 3ms/step - loss: 0.0158 - val_loss: 0.0051\n",
      "Epoch 3/5\n",
      "134/134 [==============================] - 0s 3ms/step - loss: 0.0112 - val_loss: 0.0027\n",
      "Epoch 4/5\n",
      "134/134 [==============================] - 0s 3ms/step - loss: 0.0092 - val_loss: 0.0023\n",
      "Epoch 5/5\n",
      "134/134 [==============================] - 0s 3ms/step - loss: 0.0078 - val_loss: 0.0022\n",
      "Train Mean Absolute Error: 0.13495531960191678\n",
      "Train Root Mean Squared Error: 0.1487705106158132\n",
      "-------------------------------35--------------------------\n",
      "Epoch 1/5\n"
     ]
    },
    {
     "name": "stdout",
     "output_type": "stream",
     "text": [
      "134/134 [==============================] - 3s 7ms/step - loss: 0.0397 - val_loss: 0.0055\n",
      "Epoch 2/5\n",
      "134/134 [==============================] - 0s 3ms/step - loss: 0.0114 - val_loss: 0.0041\n",
      "Epoch 3/5\n",
      "134/134 [==============================] - 0s 3ms/step - loss: 0.0093 - val_loss: 0.0031\n",
      "Epoch 4/5\n",
      "134/134 [==============================] - 0s 3ms/step - loss: 0.0090 - val_loss: 0.0028\n",
      "Epoch 5/5\n",
      "134/134 [==============================] - 0s 3ms/step - loss: 0.0090 - val_loss: 0.0021\n",
      "Train Mean Absolute Error: 0.10858605871271138\n",
      "Train Root Mean Squared Error: 0.12242100385736458\n",
      "-------------------------------36--------------------------\n",
      "Epoch 1/5\n",
      "134/134 [==============================] - 3s 7ms/step - loss: 0.0415 - val_loss: 0.0112\n",
      "Epoch 2/5\n",
      "134/134 [==============================] - 0s 3ms/step - loss: 0.0130 - val_loss: 0.0052\n",
      "Epoch 3/5\n",
      "134/134 [==============================] - 0s 3ms/step - loss: 0.0114 - val_loss: 0.0030\n",
      "Epoch 4/5\n",
      "134/134 [==============================] - 0s 3ms/step - loss: 0.0088 - val_loss: 0.0025\n",
      "Epoch 5/5\n",
      "134/134 [==============================] - 0s 3ms/step - loss: 0.0084 - val_loss: 0.0020\n",
      "Train Mean Absolute Error: 0.11115765713665957\n",
      "Train Root Mean Squared Error: 0.12285187155533495\n",
      "-------------------------------37--------------------------\n",
      "Epoch 1/5\n",
      "134/134 [==============================] - 3s 7ms/step - loss: 0.0458 - val_loss: 0.0117\n",
      "Epoch 2/5\n",
      "134/134 [==============================] - 0s 3ms/step - loss: 0.0136 - val_loss: 0.0060\n",
      "Epoch 3/5\n",
      "134/134 [==============================] - 0s 3ms/step - loss: 0.0117 - val_loss: 0.0041\n",
      "Epoch 4/5\n",
      "134/134 [==============================] - 0s 3ms/step - loss: 0.0099 - val_loss: 0.0026\n",
      "Epoch 5/5\n",
      "134/134 [==============================] - 0s 3ms/step - loss: 0.0094 - val_loss: 0.0027\n",
      "Train Mean Absolute Error: 0.0977581139440365\n",
      "Train Root Mean Squared Error: 0.11236249440332763\n",
      "-------------------------------38--------------------------\n",
      "Epoch 1/5\n",
      "134/134 [==============================] - 3s 7ms/step - loss: 0.0472 - val_loss: 0.0187\n",
      "Epoch 2/5\n",
      "134/134 [==============================] - 0s 3ms/step - loss: 0.0139 - val_loss: 0.0065\n",
      "Epoch 3/5\n",
      "134/134 [==============================] - 0s 3ms/step - loss: 0.0111 - val_loss: 0.0037\n",
      "Epoch 4/5\n",
      "134/134 [==============================] - 0s 3ms/step - loss: 0.0088 - val_loss: 0.0022\n",
      "Epoch 5/5\n",
      "134/134 [==============================] - 0s 3ms/step - loss: 0.0089 - val_loss: 0.0021\n",
      "Train Mean Absolute Error: 0.1068240965493098\n",
      "Train Root Mean Squared Error: 0.11986298675145989\n",
      "-------------------------------39--------------------------\n",
      "Epoch 1/5\n",
      "134/134 [==============================] - 3s 7ms/step - loss: 0.0344 - val_loss: 0.0039\n",
      "Epoch 2/5\n",
      "134/134 [==============================] - 0s 3ms/step - loss: 0.0132 - val_loss: 0.0027\n",
      "Epoch 3/5\n",
      "134/134 [==============================] - 0s 3ms/step - loss: 0.0110 - val_loss: 0.0022\n",
      "Epoch 4/5\n",
      "134/134 [==============================] - 0s 3ms/step - loss: 0.0090 - val_loss: 0.0020\n",
      "Epoch 5/5\n",
      "134/134 [==============================] - 0s 3ms/step - loss: 0.0086 - val_loss: 0.0020\n",
      "Train Mean Absolute Error: 0.12490854792357176\n",
      "Train Root Mean Squared Error: 0.1362689395179689\n"
     ]
    }
   ],
   "source": [
    "# wielkosc batchu [10, 20, 50]\n",
    "batch_start, batch_end = 30, 40 # od do\n",
    "look_backs = [3,10,30] # takie look backi sprawdzamy i potem do nich mozemy wykresy zrobic\n",
    "\n",
    "\n",
    "error_look_back = {}\n",
    "for look_back in look_backs:\n",
    "  MAEs = []\n",
    "  MSEs = []\n",
    "  Y_trains = []\n",
    "  train_predicts = []\n",
    "\n",
    "  X_train, Y_train = create_dataset_lstm(train, look_back)\n",
    "  X_test, Y_test = create_dataset_lstm(test, look_back)\n",
    "  X_train = np.reshape(X_train, (X_train.shape[0], 1, X_train.shape[1]))\n",
    "  X_test = np.reshape(X_test, (X_test.shape[0], 1, X_test.shape[1]))\n",
    "  for batch in range(batch_start, batch_end):\n",
    "    print(f'-------------------------------{batch}--------------------------')\n",
    "    history = lstm_model(X_train, Y_train, X_test, Y_test, batch_size=batch)\n",
    "    tmp_Y_train, tmp_train_predict, MAE, MSE  = evaluation_model(history,X_train, X_test, Y_train, testing=True)\n",
    "    \n",
    "    MAEs.append(MAE)\n",
    "    MSEs.append(MSE)\n",
    "    Y_trains.append(tmp_Y_train)\n",
    "    train_predicts.append(tmp_train_predict)\n",
    "  error_look_back[look_back] = {\"MAE\":MAEs, \"MSE\":MSEs, \"Y_trains\": Y_trains, \"train_predicts\": train_predicts}\n",
    "\n"
   ]
  },
  {
   "cell_type": "markdown",
   "metadata": {},
   "source": [
    "#### Wraz ze wzrostem batch'a, pogorszaja sie na wyniki - MAE i MSE idealnie powinny rownac sie zero, wiec generalnie im mniejsze ich wartosci, tym model uwazamy za lepszy"
   ]
  },
  {
   "cell_type": "code",
   "execution_count": 32,
   "metadata": {
    "colab": {
     "base_uri": "https://localhost:8080/"
    },
    "id": "nNeu-weeMnsY",
    "outputId": "ea51694e-87b0-405c-b663-c25a18f6436c"
   },
   "outputs": [
    {
     "data": {
      "text/plain": [
       "(1346, 8)"
      ]
     },
     "execution_count": 32,
     "metadata": {},
     "output_type": "execute_result"
    }
   ],
   "source": [
    "# wyświetlenie liczby kolumn i wierszy\n",
    "train_predict.shape"
   ]
  },
  {
   "cell_type": "code",
   "execution_count": 33,
   "metadata": {},
   "outputs": [
    {
     "data": {
      "text/plain": [
       "[0.04944618280868658,\n",
       " 0.048770693733262996,\n",
       " 0.05964676945118402,\n",
       " 0.0659471136479898,\n",
       " 0.04648244972344811,\n",
       " 0.053290589328260106,\n",
       " 0.04924502036442547,\n",
       " 0.07519806808329674,\n",
       " 0.043634317641093996,\n",
       " 0.043338467753388364]"
      ]
     },
     "execution_count": 33,
     "metadata": {},
     "output_type": "execute_result"
    }
   ],
   "source": [
    "error_look_back[3][\"MSE\"]"
   ]
  },
  {
   "cell_type": "code",
   "execution_count": 34,
   "metadata": {
    "colab": {
     "base_uri": "https://localhost:8080/"
    },
    "id": "QVFzpdz8NCvZ",
    "outputId": "0aa11263-a0ac-442a-a05e-328bd45d4164"
   },
   "outputs": [
    {
     "name": "stdout",
     "output_type": "stream",
     "text": [
      "[0.11236249440332763, 0.11712877767545926, 0.11744301067960256, 0.11986298675145989, 0.12242100385736458, 0.12285187155533495, 0.1362689395179689, 0.13658235533556093, 0.1441217283664394, 0.1487705106158132]\n"
     ]
    }
   ],
   "source": [
    "# wyświetlenie i posortowanie MSE\n",
    "MSEs.sort()\n",
    "print(MSEs)"
   ]
  },
  {
   "cell_type": "code",
   "execution_count": 35,
   "metadata": {
    "colab": {
     "base_uri": "https://localhost:8080/",
     "height": 282
    },
    "id": "IDLSfMoeSYIJ",
    "outputId": "aa9a1c45-fdc7-4ecf-8da5-9b9e3ea686f0"
   },
   "outputs": [
    {
     "data": {
      "text/plain": [
       "<matplotlib.axes._subplots.AxesSubplot at 0x23fa4800190>"
      ]
     },
     "execution_count": 35,
     "metadata": {},
     "output_type": "execute_result"
    },
    {
     "data": {
      "image/png": "[encoded data removed]",
      "text/plain": [
       "<Figure size 432x288 with 1 Axes>"
      ]
     },
     "metadata": {
      "needs_background": "light"
     },
     "output_type": "display_data"
    }
   ],
   "source": [
    "# wykres kreśli linię MSE, oraz MAE\n",
    "look_back_to_check = 3\n",
    "sns.lineplot(x=[a for a in range(batch_start, batch_end)], y=error_look_back[look_back_to_check][\"MSE\"])\n",
    "sns.lineplot(x=[a for a in range(batch_start, batch_end)], y=error_look_back[look_back_to_check][\"MAE\"])\n"
   ]
  },
  {
   "cell_type": "code",
   "execution_count": 36,
   "metadata": {
    "colab": {
     "base_uri": "https://localhost:8080/",
     "height": 331
    },
    "id": "FKkdbS5adpp3",
    "outputId": "5655fbf0-6246-42fb-9256-5c700bcdae0b"
   },
   "outputs": [
    {
     "data": {
      "image/png": "[encoded data removed]",
      "text/plain": [
       "<Figure size 576x288 with 1 Axes>"
      ]
     },
     "metadata": {
      "needs_background": "light"
     },
     "output_type": "display_data"
    }
   ],
   "source": [
    "batch_index = 6 # to znaczy batch_start (bedzie tyle indexow ile jest od batch_start do batch_end)\n",
    "look_back_to_check = 3\n",
    "visualization(Y_train = error_look_back[look_back_to_check][\"Y_trains\"][batch_index], train_predict = error_look_back[look_back_to_check][\"train_predicts\"][batch_index])"
   ]
  },
  {
   "cell_type": "code",
   "execution_count": 37,
   "metadata": {
    "colab": {
     "base_uri": "https://localhost:8080/"
    },
    "id": "fC3jQGyaeOHF",
    "outputId": "a54537d7-a14f-4a06-e1b9-44ae407596c6"
   },
   "outputs": [
    {
     "data": {
      "text/plain": [
       "array([[2.87050007, 2.82699989, 2.79999996, ..., 3.76460021, 3.73879991,\n",
       "        3.72299995]])"
      ]
     },
     "execution_count": 37,
     "metadata": {},
     "output_type": "execute_result"
    }
   ],
   "source": [
    "error_look_back[3][\"Y_trains\"][0]"
   ]
  },
  {
   "cell_type": "code",
   "execution_count": null,
   "metadata": {},
   "outputs": [],
   "source": []
  }
 ],
 "metadata": {
  "colab": {
   "collapsed_sections": [],
   "name": "Copy of testowanie_modelu_agata.ipynb",
   "provenance": [],
   "toc_visible": true
  },
  "kernelspec": {
   "display_name": "Python 3",
   "language": "python",
   "name": "python3"
  },
  "language_info": {
   "codemirror_mode": {
    "name": "ipython",
    "version": 3
   },
   "file_extension": ".py",
   "mimetype": "text/x-python",
   "name": "python",
   "nbconvert_exporter": "python",
   "pygments_lexer": "ipython3",
   "version": "3.8.3"
  }
 },
 "nbformat": 4,
 "nbformat_minor": 1
}
