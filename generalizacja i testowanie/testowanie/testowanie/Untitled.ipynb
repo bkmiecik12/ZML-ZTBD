{
 "cells": [
  {
   "cell_type": "code",
   "execution_count": 1,
   "metadata": {},
   "outputs": [
    {
     "name": "stdout",
     "output_type": "stream",
     "text": [
      "Requirement already satisfied: ipywidgets in c:\\users\\agatk\\anaconda3\\lib\\site-packages (7.5.1)\n",
      "Requirement already satisfied: ipython>=4.0.0; python_version >= \"3.3\" in c:\\users\\agatk\\anaconda3\\lib\\site-packages (from ipywidgets) (7.16.1)\n",
      "Requirement already satisfied: traitlets>=4.3.1 in c:\\users\\agatk\\anaconda3\\lib\\site-packages (from ipywidgets) (4.3.3)\n",
      "Requirement already satisfied: ipykernel>=4.5.1 in c:\\users\\agatk\\anaconda3\\lib\\site-packages (from ipywidgets) (5.3.2)\n",
      "Requirement already satisfied: widgetsnbextension~=3.5.0 in c:\\users\\agatk\\anaconda3\\lib\\site-packages (from ipywidgets) (3.5.1)\n",
      "Requirement already satisfied: nbformat>=4.2.0 in c:\\users\\agatk\\anaconda3\\lib\\site-packages (from ipywidgets) (5.0.7)\n",
      "Requirement already satisfied: jedi>=0.10 in c:\\users\\agatk\\anaconda3\\lib\\site-packages (from ipython>=4.0.0; python_version >= \"3.3\"->ipywidgets) (0.17.1)\n",
      "Requirement already satisfied: decorator in c:\\users\\agatk\\anaconda3\\lib\\site-packages (from ipython>=4.0.0; python_version >= \"3.3\"->ipywidgets) (4.4.2)\n",
      "Requirement already satisfied: pickleshare in c:\\users\\agatk\\anaconda3\\lib\\site-packages (from ipython>=4.0.0; python_version >= \"3.3\"->ipywidgets) (0.7.5)\n",
      "Requirement already satisfied: backcall in c:\\users\\agatk\\anaconda3\\lib\\site-packages (from ipython>=4.0.0; python_version >= \"3.3\"->ipywidgets) (0.2.0)\n",
      "Requirement already satisfied: colorama; sys_platform == \"win32\" in c:\\users\\agatk\\anaconda3\\lib\\site-packages (from ipython>=4.0.0; python_version >= \"3.3\"->ipywidgets) (0.4.3)\n",
      "Requirement already satisfied: prompt-toolkit!=3.0.0,!=3.0.1,<3.1.0,>=2.0.0 in c:\\users\\agatk\\anaconda3\\lib\\site-packages (from ipython>=4.0.0; python_version >= \"3.3\"->ipywidgets) (3.0.5)\n",
      "Requirement already satisfied: setuptools>=18.5 in c:\\users\\agatk\\anaconda3\\lib\\site-packages (from ipython>=4.0.0; python_version >= \"3.3\"->ipywidgets) (49.2.0.post20200714)\n",
      "Requirement already satisfied: pygments in c:\\users\\agatk\\anaconda3\\lib\\site-packages (from ipython>=4.0.0; python_version >= \"3.3\"->ipywidgets) (2.6.1)\n",
      "Requirement already satisfied: six in c:\\users\\agatk\\anaconda3\\lib\\site-packages (from traitlets>=4.3.1->ipywidgets) (1.15.0)\n",
      "Requirement already satisfied: ipython-genutils in c:\\users\\agatk\\anaconda3\\lib\\site-packages (from traitlets>=4.3.1->ipywidgets) (0.2.0)\n",
      "Requirement already satisfied: tornado>=4.2 in c:\\users\\agatk\\anaconda3\\lib\\site-packages (from ipykernel>=4.5.1->ipywidgets) (6.0.4)\n",
      "Requirement already satisfied: jupyter-client in c:\\users\\agatk\\anaconda3\\lib\\site-packages (from ipykernel>=4.5.1->ipywidgets) (6.1.6)\n",
      "Requirement already satisfied: notebook>=4.4.1 in c:\\users\\agatk\\anaconda3\\lib\\site-packages (from widgetsnbextension~=3.5.0->ipywidgets) (6.0.3)\n",
      "Requirement already satisfied: jupyter-core in c:\\users\\agatk\\anaconda3\\lib\\site-packages (from nbformat>=4.2.0->ipywidgets) (4.6.3)\n",
      "Requirement already satisfied: jsonschema!=2.5.0,>=2.4 in c:\\users\\agatk\\anaconda3\\lib\\site-packages (from nbformat>=4.2.0->ipywidgets) (3.2.0)\n",
      "Requirement already satisfied: parso<0.8.0,>=0.7.0 in c:\\users\\agatk\\anaconda3\\lib\\site-packages (from jedi>=0.10->ipython>=4.0.0; python_version >= \"3.3\"->ipywidgets) (0.7.0)\n",
      "Requirement already satisfied: wcwidth in c:\\users\\agatk\\anaconda3\\lib\\site-packages (from prompt-toolkit!=3.0.0,!=3.0.1,<3.1.0,>=2.0.0->ipython>=4.0.0; python_version >= \"3.3\"->ipywidgets) (0.2.5)\n",
      "Requirement already satisfied: pyzmq>=13 in c:\\users\\agatk\\anaconda3\\lib\\site-packages (from jupyter-client->ipykernel>=4.5.1->ipywidgets) (19.0.1)\n",
      "Requirement already satisfied: python-dateutil>=2.1 in c:\\users\\agatk\\anaconda3\\lib\\site-packages (from jupyter-client->ipykernel>=4.5.1->ipywidgets) (2.8.1)\n",
      "Requirement already satisfied: prometheus-client in c:\\users\\agatk\\anaconda3\\lib\\site-packages (from notebook>=4.4.1->widgetsnbextension~=3.5.0->ipywidgets) (0.8.0)\n",
      "Requirement already satisfied: nbconvert in c:\\users\\agatk\\anaconda3\\lib\\site-packages (from notebook>=4.4.1->widgetsnbextension~=3.5.0->ipywidgets) (5.6.1)\n",
      "Requirement already satisfied: Send2Trash in c:\\users\\agatk\\anaconda3\\lib\\site-packages (from notebook>=4.4.1->widgetsnbextension~=3.5.0->ipywidgets) (1.5.0)\n",
      "Requirement already satisfied: terminado>=0.8.1 in c:\\users\\agatk\\anaconda3\\lib\\site-packages (from notebook>=4.4.1->widgetsnbextension~=3.5.0->ipywidgets) (0.8.3)\n",
      "Requirement already satisfied: jinja2 in c:\\users\\agatk\\anaconda3\\lib\\site-packages (from notebook>=4.4.1->widgetsnbextension~=3.5.0->ipywidgets) (2.11.2)\n",
      "Requirement already satisfied: pywin32>=1.0; sys_platform == \"win32\" in c:\\users\\agatk\\anaconda3\\lib\\site-packages (from jupyter-core->nbformat>=4.2.0->ipywidgets) (227)\n",
      "Requirement already satisfied: pyrsistent>=0.14.0 in c:\\users\\agatk\\anaconda3\\lib\\site-packages (from jsonschema!=2.5.0,>=2.4->nbformat>=4.2.0->ipywidgets) (0.16.0)\n",
      "Requirement already satisfied: attrs>=17.4.0 in c:\\users\\agatk\\anaconda3\\lib\\site-packages (from jsonschema!=2.5.0,>=2.4->nbformat>=4.2.0->ipywidgets) (19.3.0)\n",
      "Requirement already satisfied: bleach in c:\\users\\agatk\\anaconda3\\lib\\site-packages (from nbconvert->notebook>=4.4.1->widgetsnbextension~=3.5.0->ipywidgets) (3.1.5)\n",
      "Requirement already satisfied: entrypoints>=0.2.2 in c:\\users\\agatk\\anaconda3\\lib\\site-packages (from nbconvert->notebook>=4.4.1->widgetsnbextension~=3.5.0->ipywidgets) (0.3)\n",
      "Requirement already satisfied: pandocfilters>=1.4.1 in c:\\users\\agatk\\anaconda3\\lib\\site-packages (from nbconvert->notebook>=4.4.1->widgetsnbextension~=3.5.0->ipywidgets) (1.4.2)\n",
      "Requirement already satisfied: defusedxml in c:\\users\\agatk\\anaconda3\\lib\\site-packages (from nbconvert->notebook>=4.4.1->widgetsnbextension~=3.5.0->ipywidgets) (0.6.0)\n",
      "Requirement already satisfied: testpath in c:\\users\\agatk\\anaconda3\\lib\\site-packages (from nbconvert->notebook>=4.4.1->widgetsnbextension~=3.5.0->ipywidgets) (0.4.4)\n",
      "Requirement already satisfied: mistune<2,>=0.8.1 in c:\\users\\agatk\\anaconda3\\lib\\site-packages (from nbconvert->notebook>=4.4.1->widgetsnbextension~=3.5.0->ipywidgets) (0.8.4)\n",
      "Requirement already satisfied: MarkupSafe>=0.23 in c:\\users\\agatk\\anaconda3\\lib\\site-packages (from jinja2->notebook>=4.4.1->widgetsnbextension~=3.5.0->ipywidgets) (1.1.1)\n",
      "Requirement already satisfied: webencodings in c:\\users\\agatk\\anaconda3\\lib\\site-packages (from bleach->nbconvert->notebook>=4.4.1->widgetsnbextension~=3.5.0->ipywidgets) (0.5.1)\n",
      "Requirement already satisfied: packaging in c:\\users\\agatk\\anaconda3\\lib\\site-packages (from bleach->nbconvert->notebook>=4.4.1->widgetsnbextension~=3.5.0->ipywidgets) (20.4)\n",
      "Requirement already satisfied: pyparsing>=2.0.2 in c:\\users\\agatk\\anaconda3\\lib\\site-packages (from packaging->bleach->nbconvert->notebook>=4.4.1->widgetsnbextension~=3.5.0->ipywidgets) (2.4.7)\n"
     ]
    }
   ],
   "source": [
    "!pip3 install ipywidgets"
   ]
  },
  {
   "cell_type": "code",
   "execution_count": 29,
   "metadata": {},
   "outputs": [
    {
     "name": "stdout",
     "output_type": "stream",
     "text": [
      "Requirement already satisfied: keras in c:\\users\\agatk\\anaconda3\\lib\\site-packages (2.4.3)\n",
      "Requirement already satisfied: numpy>=1.9.1 in c:\\users\\agatk\\anaconda3\\lib\\site-packages (from keras) (1.19.5)\n",
      "Requirement already satisfied: scipy>=0.14 in c:\\users\\agatk\\anaconda3\\lib\\site-packages (from keras) (1.5.0)\n",
      "Requirement already satisfied: h5py in c:\\users\\agatk\\anaconda3\\lib\\site-packages (from keras) (2.10.0)\n",
      "Requirement already satisfied: pyyaml in c:\\users\\agatk\\anaconda3\\lib\\site-packages (from keras) (5.3.1)\n",
      "Requirement already satisfied: six in c:\\users\\agatk\\anaconda3\\lib\\site-packages (from h5py->keras) (1.15.0)\n",
      "Note: you may need to restart the kernel to use updated packages.\n"
     ]
    }
   ],
   "source": [
    "pip install keras "
   ]
  },
  {
   "cell_type": "code",
   "execution_count": 2,
   "metadata": {},
   "outputs": [],
   "source": [
    "import tensorflow as tf #importowanie wymaganych bibliotek\n",
    "from tensorflow import keras\n",
    "from tensorflow.keras.layers import Dense\n",
    "from tensorflow.keras.layers import Flatten\n",
    "from tensorflow.keras.layers import Input\n",
    "from tensorflow.keras.layers import BatchNormalization\n",
    "from tensorflow.keras.layers import Dropout\n",
    "from tensorflow.keras.layers import LSTM\n",
    "from tensorflow.keras.models import Model\n",
    "from tensorflow.keras.models import Sequential, load_model\n",
    "import matplotlib.pyplot as plt\n",
    "import seaborn as sns\n",
    "import pandas as pd\n",
    "import numpy as np\n",
    "from IPython.display import display\n",
    "import ipywidgets as widgets\n",
    "from ipywidgets import interact, interact_manual\n",
    "from ipywidgets import interactive\n",
    "\n",
    "from sklearn.model_selection import train_test_split\n",
    "from ipywidgets import interact, interact_manual\n",
    "from ipywidgets import interactive\n",
    "from sklearn.metrics import r2_score\n",
    "from sklearn.metrics import mean_absolute_error\n",
    "from sklearn.metrics import mean_squared_error"
   ]
  },
  {
   "cell_type": "code",
   "execution_count": 3,
   "metadata": {},
   "outputs": [],
   "source": [
    "data = pd.read_csv('zmienne/usdpln_d.csv')"
   ]
  },
  {
   "cell_type": "code",
   "execution_count": 4,
   "metadata": {},
   "outputs": [],
   "source": [
    "#podzial na zbior treningow, testowy, walidacyjny"
   ]
  },
  {
   "cell_type": "code",
   "execution_count": 5,
   "metadata": {},
   "outputs": [],
   "source": [
    "ratio = 0.6\n",
    "N = int(len(data)*ratio)"
   ]
  },
  {
   "cell_type": "code",
   "execution_count": 6,
   "metadata": {},
   "outputs": [],
   "source": [
    "train_df, test_df = data[:N], data[N:]"
   ]
  },
  {
   "cell_type": "code",
   "execution_count": 7,
   "metadata": {},
   "outputs": [],
   "source": [
    "ratio = 0.5\n",
    "N = int(len(data)*ratio)\n",
    "test_df, val_df = test_df[:N], test_df[N:]"
   ]
  },
  {
   "cell_type": "code",
   "execution_count": 8,
   "metadata": {},
   "outputs": [
    {
     "data": {
      "text/html": [
       "<div>\n",
       "<style scoped>\n",
       "    .dataframe tbody tr th:only-of-type {\n",
       "        vertical-align: middle;\n",
       "    }\n",
       "\n",
       "    .dataframe tbody tr th {\n",
       "        vertical-align: top;\n",
       "    }\n",
       "\n",
       "    .dataframe thead th {\n",
       "        text-align: right;\n",
       "    }\n",
       "</style>\n",
       "<table border=\"1\" class=\"dataframe\">\n",
       "  <thead>\n",
       "    <tr style=\"text-align: right;\">\n",
       "      <th></th>\n",
       "      <th>Otwarcie</th>\n",
       "      <th>Najwyzszy</th>\n",
       "      <th>Najnizszy</th>\n",
       "      <th>Zamkniecie</th>\n",
       "    </tr>\n",
       "  </thead>\n",
       "  <tbody>\n",
       "    <tr>\n",
       "      <th>count</th>\n",
       "      <td>1709.000000</td>\n",
       "      <td>1709.000000</td>\n",
       "      <td>1709.000000</td>\n",
       "      <td>1709.000000</td>\n",
       "    </tr>\n",
       "    <tr>\n",
       "      <th>mean</th>\n",
       "      <td>3.283205</td>\n",
       "      <td>3.304046</td>\n",
       "      <td>3.265029</td>\n",
       "      <td>3.284120</td>\n",
       "    </tr>\n",
       "    <tr>\n",
       "      <th>std</th>\n",
       "      <td>0.355510</td>\n",
       "      <td>0.356859</td>\n",
       "      <td>0.352708</td>\n",
       "      <td>0.355198</td>\n",
       "    </tr>\n",
       "    <tr>\n",
       "      <th>min</th>\n",
       "      <td>2.646300</td>\n",
       "      <td>2.657000</td>\n",
       "      <td>2.631900</td>\n",
       "      <td>2.638900</td>\n",
       "    </tr>\n",
       "    <tr>\n",
       "      <th>25%</th>\n",
       "      <td>3.036700</td>\n",
       "      <td>3.050900</td>\n",
       "      <td>3.027900</td>\n",
       "      <td>3.039300</td>\n",
       "    </tr>\n",
       "    <tr>\n",
       "      <th>50%</th>\n",
       "      <td>3.183500</td>\n",
       "      <td>3.204100</td>\n",
       "      <td>3.165700</td>\n",
       "      <td>3.183500</td>\n",
       "    </tr>\n",
       "    <tr>\n",
       "      <th>75%</th>\n",
       "      <td>3.512700</td>\n",
       "      <td>3.537900</td>\n",
       "      <td>3.500100</td>\n",
       "      <td>3.527800</td>\n",
       "    </tr>\n",
       "    <tr>\n",
       "      <th>max</th>\n",
       "      <td>4.133320</td>\n",
       "      <td>4.155790</td>\n",
       "      <td>4.113940</td>\n",
       "      <td>4.132170</td>\n",
       "    </tr>\n",
       "  </tbody>\n",
       "</table>\n",
       "</div>"
      ],
      "text/plain": [
       "          Otwarcie    Najwyzszy    Najnizszy   Zamkniecie\n",
       "count  1709.000000  1709.000000  1709.000000  1709.000000\n",
       "mean      3.283205     3.304046     3.265029     3.284120\n",
       "std       0.355510     0.356859     0.352708     0.355198\n",
       "min       2.646300     2.657000     2.631900     2.638900\n",
       "25%       3.036700     3.050900     3.027900     3.039300\n",
       "50%       3.183500     3.204100     3.165700     3.183500\n",
       "75%       3.512700     3.537900     3.500100     3.527800\n",
       "max       4.133320     4.155790     4.113940     4.132170"
      ]
     },
     "execution_count": 8,
     "metadata": {},
     "output_type": "execute_result"
    }
   ],
   "source": [
    "train_df.describe()"
   ]
  },
  {
   "cell_type": "code",
   "execution_count": 9,
   "metadata": {},
   "outputs": [],
   "source": [
    "rolling = data.rolling(window=7)"
   ]
  },
  {
   "cell_type": "code",
   "execution_count": 12,
   "metadata": {},
   "outputs": [],
   "source": [
    "data_roll = pd.DataFrame()\n",
    "data_roll['Zamkniecie']=train_df['Zamkniecie']"
   ]
  },
  {
   "cell_type": "code",
   "execution_count": 13,
   "metadata": {},
   "outputs": [
    {
     "data": {
      "application/vnd.jupyter.widget-view+json": {
       "model_id": "0f8a207faa0b4cd2bcba45381e6b21d9",
       "version_major": 2,
       "version_minor": 0
      },
      "text/plain": [
       "interactive(children=(IntSlider(value=4, description='lw', min=1), Button(description='Run Interact', style=Bu…"
      ]
     },
     "metadata": {},
     "output_type": "display_data"
    }
   ],
   "source": [
    "@widgets.interact_manual(lw=(1, 100))\n",
    "def plot(lw=4):\n",
    "  rolling = data.rolling(window=lw, center=True)\n",
    "  data_roll = pd.DataFrame()\n",
    "  # data_roll.index = pd.to_datetime(data['Data'])\n",
    "  data_roll['Zamkniecie']=data['Zamkniecie']\n",
    "  data_roll['7 days rolling_mean']=data_roll['Zamkniecie'].rolling(lw, min_periods=1).mean()\n",
    "  ax = data_roll.plot(style=['-', '--'], rot=90, figsize=(20, 10))\n",
    "  ax.lines[0].set_alpha(0.3)"
   ]
  },
  {
   "cell_type": "code",
   "execution_count": 14,
   "metadata": {},
   "outputs": [],
   "source": [
    "#Przygotowanie danych do uczenia na sieci LSTM(zmiana wymiarow macierzy, by model zaczal obrabiac dane)"
   ]
  },
  {
   "cell_type": "code",
   "execution_count": 26,
   "metadata": {},
   "outputs": [],
   "source": [
    "#import bibliorek do stworzenia sieci LSTMimport matplotlib.pyplot as plt\n"
   ]
  },
  {
   "cell_type": "code",
   "execution_count": 28,
   "metadata": {},
   "outputs": [],
   "source": [
    "import math\n",
    "import keras\n",
    "from keras.models import Sequential\n",
    "from keras.layers import Dense\n",
    "from keras.layers import LSTM\n",
    "from keras.layers import Dropout\n",
    "from keras.layers import *\n",
    "from sklearn.preprocessing import MinMaxScaler\n",
    "from sklearn.metrics import mean_squared_error\n",
    "from sklearn.metrics import mean_absolute_error\n",
    "from keras.callbacks import EarlyStopping"
   ]
  },
  {
   "cell_type": "code",
   "execution_count": 30,
   "metadata": {},
   "outputs": [],
   "source": [
    "zmienna_przewidywana = \"Zamkniecie\"\n",
    "\n",
    "\n",
    "def prepare_dataset_to_lstm(zmienna_przewidywana, train_df, ratio):\n",
    "  dataset = train_df[zmienna_przewidywana].values #numpy.ndarray\n",
    "  dataset = dataset.astype('float32') #zamian typu na float\n",
    "  dataset = np.reshape(dataset, (-1, 1))\n",
    "  scaler = MinMaxScaler(feature_range=(0, 1)) #skalowanie zmiennych\n",
    "  dataset = scaler.fit_transform(dataset)\n",
    "  train_size = int(len(dataset) * ratio)\n",
    "  test_size = len(dataset) - train_size\n",
    "  train, test = dataset[0:train_size,:], dataset[train_size:len(dataset),:]\n",
    "\n",
    "  return train, test, scaler\n",
    "\n"
   ]
  },
  {
   "cell_type": "code",
   "execution_count": 31,
   "metadata": {},
   "outputs": [],
   "source": [
    "train, test, scaler = prepare_dataset_to_lstm(zmienna_przewidywana, train_df, ratio=0.8)\n",
    "\n",
    "\n",
    "def create_dataset_lstm(dataset, look_back=1):\n",
    "    X, Y = [], []\n",
    "    for i in range(len(dataset)-look_back-1):\n",
    "        a = dataset[i:(i+look_back), 0]\n",
    "        X.append(a)\n",
    "        Y.append(dataset[i + look_back, 0])\n",
    "    return np.array(X), np.array(Y)\n",
    "    \n",
    "look_back = 30 #liczba probek ktora pobieramy, minimalnie jedna probka, maksymalnie tyle, ile ma ciag elementow\n",
    "X_train, Y_train = create_dataset_lstm(train, look_back)\n",
    "X_test, Y_test = create_dataset_lstm(test, look_back)\n",
    "\n",
    "# reshape input to be [samples, time steps, features]\n",
    "X_train = np.reshape(X_train, (X_train.shape[0], 1, X_train.shape[1]))\n",
    "X_test = np.reshape(X_test, (X_test.shape[0], 1, X_test.shape[1]))"
   ]
  },
  {
   "cell_type": "code",
   "execution_count": 32,
   "metadata": {},
   "outputs": [],
   "source": [
    "#Uczenie modelu"
   ]
  },
  {
   "cell_type": "code",
   "execution_count": 33,
   "metadata": {},
   "outputs": [],
   "source": [
    "def lstm_model(X_train, Y_train, X_test, Y_test, batch_size=10):\n",
    "  model = Sequential()\n",
    "  model.add(LSTM(10, input_shape=(X_train.shape[1], X_train.shape[2])))\n",
    "  model.add(Dropout(0.2))\n",
    "  model.add(Dense(1))\n",
    "  model.compile(loss='mean_squared_error', optimizer='adam')\n",
    "\n",
    "  history = model.fit(X_train, Y_train, epochs=5, batch_size=10, validation_data=(X_test, Y_test), \n",
    "                      callbacks=[EarlyStopping(monitor='val_loss', patience=10)], verbose=1, shuffle=False)\n",
    "  return model\n",
    "\n"
   ]
  },
  {
   "cell_type": "code",
   "execution_count": 34,
   "metadata": {},
   "outputs": [],
   "source": [
    "#ewaluacja modelu\n",
    "def evaluation_model(model,X_train, X_test, Y_train):\n",
    "  dataset = train_df[zmienna_przewidywana].values #numpy.ndarray\n",
    "  dataset = dataset.astype('float32') #zamian typu na float\n",
    "  dataset = np.reshape(dataset, (-1, 1))\n",
    "  scaler = MinMaxScaler(feature_range=(0, 1))\n",
    "  dataset = scaler.fit_transform(dataset)\n",
    "  \n",
    "  train_predict = model.predict(X_train)\n",
    "  test_predict = model.predict(X_test)\n",
    "  # invert predictions\n",
    "  \n",
    "  train_predict = scaler.inverse_transform(train_predict)\n",
    "  Y_train = scaler.inverse_transform([Y_train])\n",
    "  _mean_absolute_error = mean_absolute_error(Y_train[0], train_predict[:,0])\n",
    "  _mean_squared_error = np.sqrt(mean_squared_error(Y_train[0], train_predict[:,0]))\n",
    "  print('Train Mean Absolute Error:', mean_absolute_error(Y_train[0], train_predict[:,0])) # to bedzie tez zwracane\n",
    "  print('Train Root Mean Squared Error:',np.sqrt(mean_squared_error(Y_train[0], train_predict[:,0]))) # to bedzie tez zwracane\n",
    "\n",
    "  return Y_train, train_predict, _mean_absolute_error, _mean_squared_error,"
   ]
  },
  {
   "cell_type": "code",
   "execution_count": 35,
   "metadata": {},
   "outputs": [
    {
     "name": "stdout",
     "output_type": "stream",
     "text": [
      "(1, 2, (10, 20))\n",
      "1 2 (10, 20)\n"
     ]
    }
   ],
   "source": [
    "def a():\n",
    "    return 1, 2, (10, 20)\n",
    "\n",
    "x,y, error = a()\n",
    "print(a())\n",
    "print(x,y, error)"
   ]
  },
  {
   "cell_type": "code",
   "execution_count": 36,
   "metadata": {},
   "outputs": [
    {
     "name": "stdout",
     "output_type": "stream",
     "text": [
      "Epoch 1/5\n",
      "134/134 [==============================] - 3s 6ms/step - loss: 0.0210 - val_loss: 0.0052\n",
      "Epoch 2/5\n",
      "134/134 [==============================] - 0s 2ms/step - loss: 0.0128 - val_loss: 0.0038\n",
      "Epoch 3/5\n",
      "134/134 [==============================] - 0s 2ms/step - loss: 0.0103 - val_loss: 0.0024\n",
      "Epoch 4/5\n",
      "134/134 [==============================] - 0s 2ms/step - loss: 0.0110 - val_loss: 0.0024\n",
      "Epoch 5/5\n",
      "134/134 [==============================] - 0s 2ms/step - loss: 0.0089 - val_loss: 0.0019\n"
     ]
    }
   ],
   "source": [
    "history = lstm_model(X_train, Y_train, X_test, Y_test, batch_size=10)"
   ]
  },
  {
   "cell_type": "code",
   "execution_count": 37,
   "metadata": {},
   "outputs": [
    {
     "name": "stdout",
     "output_type": "stream",
     "text": [
      "Saved model to disk\n"
     ]
    }
   ],
   "source": [
    "# serialize model to JSON\n",
    "model_json = history.to_json()\n",
    "with open(\"model.json\", \"w\") as json_file:\n",
    "    json_file.write(model_json)\n",
    "# serialize weights to HDF5\n",
    "history.save_weights(\"model.h5\")\n",
    "print(\"Saved model to disk\")"
   ]
  },
  {
   "cell_type": "code",
   "execution_count": 47,
   "metadata": {},
   "outputs": [
    {
     "name": "stdout",
     "output_type": "stream",
     "text": [
      "Train Mean Absolute Error: 0.09807566789818027\n",
      "Train Root Mean Squared Error: 0.11174497771136058\n"
     ]
    },
    {
     "data": {
      "text/plain": [
       "(array([[2.96259992, 2.89130002, 2.92049998, ..., 3.76939976, 3.76460021,\n",
       "         3.73879991]]),\n",
       " array([[3.0036807],\n",
       "        [3.0028107],\n",
       "        [3.0143015],\n",
       "        ...,\n",
       "        [3.799222 ],\n",
       "        [3.7931178],\n",
       "        [3.7936866]], dtype=float32),\n",
       " 0.09807566789818027,\n",
       " 0.11174497771136058)"
      ]
     },
     "execution_count": 47,
     "metadata": {},
     "output_type": "execute_result"
    }
   ],
   "source": [
    "evaluation_model(history,X_train,X_test,Y_train)"
   ]
  },
  {
   "cell_type": "code",
   "execution_count": 48,
   "metadata": {},
   "outputs": [
    {
     "name": "stdout",
     "output_type": "stream",
     "text": [
      "Train Mean Absolute Error: 0.09807566789818027\n",
      "Train Root Mean Squared Error: 0.11174497771136058\n"
     ]
    },
    {
     "ename": "ValueError",
     "evalue": "too many values to unpack (expected 2)",
     "output_type": "error",
     "traceback": [
      "\u001b[1;31m---------------------------------------------------------------------------\u001b[0m",
      "\u001b[1;31mValueError\u001b[0m                                Traceback (most recent call last)",
      "\u001b[1;32m<ipython-input-48-f404dd06459a>\u001b[0m in \u001b[0;36m<module>\u001b[1;34m\u001b[0m\n\u001b[1;32m----> 1\u001b[1;33m \u001b[0mY_train\u001b[0m\u001b[1;33m,\u001b[0m \u001b[0mtrain_predict\u001b[0m \u001b[1;33m=\u001b[0m \u001b[0mevaluation_model\u001b[0m\u001b[1;33m(\u001b[0m\u001b[0mhistory\u001b[0m\u001b[1;33m,\u001b[0m\u001b[0mX_train\u001b[0m\u001b[1;33m,\u001b[0m\u001b[0mX_test\u001b[0m\u001b[1;33m,\u001b[0m\u001b[0mY_train\u001b[0m\u001b[1;33m)\u001b[0m\u001b[1;33m\u001b[0m\u001b[1;33m\u001b[0m\u001b[0m\n\u001b[0m",
      "\u001b[1;31mValueError\u001b[0m: too many values to unpack (expected 2)"
     ]
    }
   ],
   "source": [
    "Y_train, train_predict = evaluation_model(history,X_train,X_test,Y_train)"
   ]
  },
  {
   "cell_type": "code",
   "execution_count": 49,
   "metadata": {},
   "outputs": [],
   "source": [
    "def visualization(Y_train, train_predict):\n",
    "  N = len(Y_train[0])\n",
    "  aa=[x for x in range(N)]\n",
    "  plt.figure(figsize=(8,4))\n",
    "  plt.plot(aa, Y_train[0], marker='.', label=\"actual\")\n",
    "  plt.plot(aa, train_predict[:,0], 'r', label=\"prediction\")\n",
    "  # plt.tick_params(left=False, labelleft=True) #remove ticks\n",
    "  plt.tight_layout()\n",
    "  sns.despine(top=True)\n",
    "  plt.subplots_adjust(left=0.07)\n",
    "  plt.title(\" prediction\")\n",
    "  plt.xlabel('Time step', size=15)\n",
    "  plt.legend(fontsize=15)\n",
    "  plt.show();\n",
    "\n"
   ]
  },
  {
   "cell_type": "code",
   "execution_count": 50,
   "metadata": {},
   "outputs": [
    {
     "ename": "NameError",
     "evalue": "name 'train_predict' is not defined",
     "output_type": "error",
     "traceback": [
      "\u001b[1;31m---------------------------------------------------------------------------\u001b[0m",
      "\u001b[1;31mNameError\u001b[0m                                 Traceback (most recent call last)",
      "\u001b[1;32m<ipython-input-50-f048254d433c>\u001b[0m in \u001b[0;36m<module>\u001b[1;34m\u001b[0m\n\u001b[1;32m----> 1\u001b[1;33m \u001b[0mvisualization\u001b[0m\u001b[1;33m(\u001b[0m\u001b[0mY_train\u001b[0m\u001b[1;33m,\u001b[0m \u001b[0mtrain_predict\u001b[0m\u001b[1;33m)\u001b[0m\u001b[1;33m\u001b[0m\u001b[1;33m\u001b[0m\u001b[0m\n\u001b[0m",
      "\u001b[1;31mNameError\u001b[0m: name 'train_predict' is not defined"
     ]
    }
   ],
   "source": [
    "visualization(Y_train, train_predict)"
   ]
  },
  {
   "cell_type": "code",
   "execution_count": 51,
   "metadata": {},
   "outputs": [],
   "source": [
    "#Zmieniamy wielkosc batch, by zobaczyc jaki wplyw ma ta zmienna na wyniki"
   ]
  },
  {
   "cell_type": "code",
   "execution_count": 52,
   "metadata": {},
   "outputs": [],
   "source": [
    "# <odswiezam dane>, gdyz wymiary danych testowych i treningowych przestaja sie zgadac\n",
    "\n",
    "\n",
    "train, test, scaler = prepare_dataset_to_lstm(zmienna_przewidywana, train_df, ratio=0.8)\n",
    "\n",
    "\n",
    "def create_dataset_lstm(dataset, look_back=1):\n",
    "    X, Y = [], []\n",
    "    for i in range(len(dataset)-look_back-1):\n",
    "        a = dataset[i:(i+look_back), 0]\n",
    "        X.append(a)\n",
    "        Y.append(dataset[i + look_back, 0])\n",
    "    return np.array(X), np.array(Y)\n",
    "    \n",
    "look_back = 30 #liczba probek ktora pobieramy, minimalnie jedna probka, maksymalnie tyle, ile ma ciag elementow\n",
    "X_train, Y_train = create_dataset_lstm(train, look_back)\n",
    "X_test, Y_test = create_dataset_lstm(test, look_back)\n",
    "\n",
    "# reshape input to be [samples, time steps, features]\n",
    "X_train = np.reshape(X_train, (X_train.shape[0], 1, X_train.shape[1]))\n",
    "X_test = np.reshape(X_test, (X_test.shape[0], 1, X_test.shape[1]))"
   ]
  },
  {
   "cell_type": "code",
   "execution_count": 53,
   "metadata": {},
   "outputs": [
    {
     "name": "stdout",
     "output_type": "stream",
     "text": [
      "-------------------------------30--------------------------\n",
      "Epoch 1/5\n",
      "137/137 [==============================] - 3s 5ms/step - loss: 0.0280 - val_loss: 0.0406\n",
      "Epoch 2/5\n",
      "137/137 [==============================] - 0s 2ms/step - loss: 0.0095 - val_loss: 0.0188\n",
      "Epoch 3/5\n",
      "137/137 [==============================] - 0s 2ms/step - loss: 0.0072 - val_loss: 0.0082\n",
      "Epoch 4/5\n",
      "137/137 [==============================] - 0s 2ms/step - loss: 0.0054 - val_loss: 0.0040\n",
      "Epoch 5/5\n",
      "137/137 [==============================] - 0s 2ms/step - loss: 0.0035 - val_loss: 0.0013\n",
      "Train Mean Absolute Error: 0.040357226614060195\n",
      "Train Root Mean Squared Error: 0.04997142208982069\n",
      "-------------------------------31--------------------------\n",
      "Epoch 1/5\n",
      "137/137 [==============================] - 3s 6ms/step - loss: 0.0386 - val_loss: 0.0507\n",
      "Epoch 2/5\n",
      "137/137 [==============================] - 0s 2ms/step - loss: 0.0112 - val_loss: 0.0249\n",
      "Epoch 3/5\n",
      "137/137 [==============================] - 0s 2ms/step - loss: 0.0092 - val_loss: 0.0126\n",
      "Epoch 4/5\n",
      "137/137 [==============================] - 0s 2ms/step - loss: 0.0065 - val_loss: 0.0055\n",
      "Epoch 5/5\n",
      "137/137 [==============================] - 0s 2ms/step - loss: 0.0047 - val_loss: 0.0025\n",
      "Train Mean Absolute Error: 0.04148331468593254\n",
      "Train Root Mean Squared Error: 0.052597079513715915\n",
      "-------------------------------32--------------------------\n",
      "Epoch 1/5\n",
      "137/137 [==============================] - 3s 5ms/step - loss: 0.0313 - val_loss: 0.0259\n",
      "Epoch 2/5\n",
      "137/137 [==============================] - 0s 2ms/step - loss: 0.0090 - val_loss: 0.0112\n",
      "Epoch 3/5\n",
      "137/137 [==============================] - 0s 2ms/step - loss: 0.0069 - val_loss: 0.0045\n",
      "Epoch 4/5\n",
      "137/137 [==============================] - 0s 2ms/step - loss: 0.0047 - val_loss: 0.0019\n",
      "Epoch 5/5\n",
      "137/137 [==============================] - 0s 2ms/step - loss: 0.0034 - val_loss: 0.0010\n",
      "Train Mean Absolute Error: 0.038263954738717326\n",
      "Train Root Mean Squared Error: 0.04896954844973698\n",
      "-------------------------------33--------------------------\n",
      "Epoch 1/5\n",
      "137/137 [==============================] - 3s 7ms/step - loss: 0.0391 - val_loss: 0.0650\n",
      "Epoch 2/5\n",
      "137/137 [==============================] - 0s 2ms/step - loss: 0.0114 - val_loss: 0.0376\n",
      "Epoch 3/5\n",
      "137/137 [==============================] - 0s 2ms/step - loss: 0.0092 - val_loss: 0.0194\n",
      "Epoch 4/5\n",
      "137/137 [==============================] - 0s 2ms/step - loss: 0.0066 - val_loss: 0.0098\n",
      "Epoch 5/5\n",
      "137/137 [==============================] - 0s 2ms/step - loss: 0.0053 - val_loss: 0.0058\n",
      "Train Mean Absolute Error: 0.04337195952791321\n",
      "Train Root Mean Squared Error: 0.054746183135677105\n",
      "-------------------------------34--------------------------\n",
      "Epoch 1/5\n",
      "137/137 [==============================] - 3s 7ms/step - loss: 0.0435 - val_loss: 0.0467\n",
      "Epoch 2/5\n",
      "137/137 [==============================] - 0s 2ms/step - loss: 0.0116 - val_loss: 0.0234\n",
      "Epoch 3/5\n",
      "137/137 [==============================] - 0s 2ms/step - loss: 0.0083 - val_loss: 0.0104\n",
      "Epoch 4/5\n",
      "137/137 [==============================] - 0s 2ms/step - loss: 0.0064 - val_loss: 0.0040\n",
      "Epoch 5/5\n",
      "137/137 [==============================] - 0s 2ms/step - loss: 0.0048 - val_loss: 0.0023\n",
      "Train Mean Absolute Error: 0.04126972351313189\n",
      "Train Root Mean Squared Error: 0.05282300991436741\n",
      "-------------------------------35--------------------------\n",
      "Epoch 1/5\n",
      "137/137 [==============================] - 3s 6ms/step - loss: 0.0410 - val_loss: 0.0537\n",
      "Epoch 2/5\n",
      "137/137 [==============================] - 0s 2ms/step - loss: 0.0124 - val_loss: 0.0274\n",
      "Epoch 3/5\n",
      "137/137 [==============================] - 0s 2ms/step - loss: 0.0099 - val_loss: 0.0138\n",
      "Epoch 4/5\n",
      "137/137 [==============================] - 0s 2ms/step - loss: 0.0067 - val_loss: 0.0058\n",
      "Epoch 5/5\n",
      "137/137 [==============================] - 0s 2ms/step - loss: 0.0053 - val_loss: 0.0023\n",
      "Train Mean Absolute Error: 0.04181503538760984\n",
      "Train Root Mean Squared Error: 0.05317888833284855\n",
      "-------------------------------36--------------------------\n",
      "Epoch 1/5\n",
      "137/137 [==============================] - 3s 6ms/step - loss: 0.0429 - val_loss: 0.0609\n",
      "Epoch 2/5\n",
      "137/137 [==============================] - 0s 2ms/step - loss: 0.0112 - val_loss: 0.0330\n",
      "Epoch 3/5\n",
      "137/137 [==============================] - 0s 2ms/step - loss: 0.0090 - val_loss: 0.0147\n",
      "Epoch 4/5\n",
      "137/137 [==============================] - 0s 2ms/step - loss: 0.0074 - val_loss: 0.0055\n",
      "Epoch 5/5\n",
      "137/137 [==============================] - 0s 2ms/step - loss: 0.0051 - val_loss: 0.0028\n",
      "Train Mean Absolute Error: 0.042766884926227704\n",
      "Train Root Mean Squared Error: 0.05427432248222807\n",
      "-------------------------------37--------------------------\n",
      "Epoch 1/5\n",
      "137/137 [==============================] - 3s 6ms/step - loss: 0.0516 - val_loss: 0.0837\n",
      "Epoch 2/5\n",
      "137/137 [==============================] - 0s 3ms/step - loss: 0.0113 - val_loss: 0.0386\n",
      "Epoch 3/5\n",
      "137/137 [==============================] - 0s 3ms/step - loss: 0.0104 - val_loss: 0.0241\n",
      "Epoch 4/5\n",
      "137/137 [==============================] - 0s 2ms/step - loss: 0.0080 - val_loss: 0.0126\n",
      "Epoch 5/5\n",
      "137/137 [==============================] - 0s 2ms/step - loss: 0.0057 - val_loss: 0.0056\n",
      "Train Mean Absolute Error: 0.05044859244263726\n",
      "Train Root Mean Squared Error: 0.06344597890033055\n",
      "-------------------------------38--------------------------\n",
      "Epoch 1/5\n",
      "137/137 [==============================] - 3s 6ms/step - loss: 0.0388 - val_loss: 0.0508\n",
      "Epoch 2/5\n",
      "137/137 [==============================] - 0s 3ms/step - loss: 0.0114 - val_loss: 0.0264\n",
      "Epoch 3/5\n",
      "137/137 [==============================] - 0s 2ms/step - loss: 0.0087 - val_loss: 0.0110\n",
      "Epoch 4/5\n",
      "137/137 [==============================] - 0s 2ms/step - loss: 0.0065 - val_loss: 0.0043\n",
      "Epoch 5/5\n",
      "137/137 [==============================] - 0s 2ms/step - loss: 0.0045 - val_loss: 0.0020\n",
      "Train Mean Absolute Error: 0.043638756690936184\n",
      "Train Root Mean Squared Error: 0.05504682955034723\n",
      "-------------------------------39--------------------------\n",
      "Epoch 1/5\n",
      "137/137 [==============================] - 3s 8ms/step - loss: 0.0329 - val_loss: 0.0649\n",
      "Epoch 2/5\n",
      "137/137 [==============================] - 0s 2ms/step - loss: 0.0116 - val_loss: 0.0384\n",
      "Epoch 3/5\n",
      "137/137 [==============================] - 0s 2ms/step - loss: 0.0083 - val_loss: 0.0164\n",
      "Epoch 4/5\n",
      "137/137 [==============================] - 0s 2ms/step - loss: 0.0064 - val_loss: 0.0077\n",
      "Epoch 5/5\n",
      "137/137 [==============================] - 0s 2ms/step - loss: 0.0042 - val_loss: 0.0029\n",
      "Train Mean Absolute Error: 0.04039200358973726\n",
      "Train Root Mean Squared Error: 0.05028190284345677\n"
     ]
    }
   ],
   "source": [
    "# wielkosc batchu [10, 20, 50]\n",
    "batch_start, batch_end = 30, 40\n",
    "look_backs = [3] \n",
    "\n",
    "\n",
    "error_look_back = {}\n",
    "for look_back in look_backs:\n",
    "  MAEs = []\n",
    "  MSEs = []\n",
    "  Y_trains = []\n",
    "  train_predicts = []\n",
    "\n",
    "  X_train, Y_train = create_dataset_lstm(train, look_back)\n",
    "  X_test, Y_test = create_dataset_lstm(test, look_back)\n",
    "  X_train = np.reshape(X_train, (X_train.shape[0], 1, X_train.shape[1]))\n",
    "  X_test = np.reshape(X_test, (X_test.shape[0], 1, X_test.shape[1]))\n",
    "  for batch in range(batch_start, batch_end):\n",
    "    print(f'-------------------------------{batch}--------------------------')\n",
    "    history = lstm_model(X_train, Y_train, X_test, Y_test, batch_size=batch)\n",
    "    tmp_Y_train, tmp_train_predict, MAE, MSE  = evaluation_model(history,X_train, X_test, Y_train)\n",
    "    \n",
    "    MAEs.append(MAE)\n",
    "    MSEs.append(MSE)\n",
    "    Y_trains.append(tmp_Y_train)\n",
    "    train_predicts.append(tmp_train_predict)\n",
    "  error_look_back[look_back] = {\"MAE\":MAEs, \"MSE\":MSEs, \"Y_trains\": Y_trains, \"train_predicts\": train_predicts}\n",
    "\n"
   ]
  },
  {
   "cell_type": "code",
   "execution_count": 57,
   "metadata": {},
   "outputs": [
    {
     "ename": "NameError",
     "evalue": "name 'train_predict' is not defined",
     "output_type": "error",
     "traceback": [
      "\u001b[1;31m---------------------------------------------------------------------------\u001b[0m",
      "\u001b[1;31mNameError\u001b[0m                                 Traceback (most recent call last)",
      "\u001b[1;32m<ipython-input-57-e2f4bbe07e5a>\u001b[0m in \u001b[0;36m<module>\u001b[1;34m\u001b[0m\n\u001b[1;32m----> 1\u001b[1;33m \u001b[0mtrain_predict\u001b[0m\u001b[1;33m.\u001b[0m\u001b[0mshape\u001b[0m\u001b[1;33m\u001b[0m\u001b[1;33m\u001b[0m\u001b[0m\n\u001b[0m",
      "\u001b[1;31mNameError\u001b[0m: name 'train_predict' is not defined"
     ]
    }
   ],
   "source": [
    "train_predict.shape"
   ]
  },
  {
   "cell_type": "code",
   "execution_count": 58,
   "metadata": {},
   "outputs": [
    {
     "ename": "NameError",
     "evalue": "name 'train_predict' is not defined",
     "output_type": "error",
     "traceback": [
      "\u001b[1;31m---------------------------------------------------------------------------\u001b[0m",
      "\u001b[1;31mNameError\u001b[0m                                 Traceback (most recent call last)",
      "\u001b[1;32m<ipython-input-58-e2f4bbe07e5a>\u001b[0m in \u001b[0;36m<module>\u001b[1;34m\u001b[0m\n\u001b[1;32m----> 1\u001b[1;33m \u001b[0mtrain_predict\u001b[0m\u001b[1;33m.\u001b[0m\u001b[0mshape\u001b[0m\u001b[1;33m\u001b[0m\u001b[1;33m\u001b[0m\u001b[0m\n\u001b[0m",
      "\u001b[1;31mNameError\u001b[0m: name 'train_predict' is not defined"
     ]
    }
   ],
   "source": [
    "train_predict.shape"
   ]
  },
  {
   "cell_type": "code",
   "execution_count": 59,
   "metadata": {},
   "outputs": [
    {
     "ename": "NameError",
     "evalue": "name 'RMSEs' is not defined",
     "output_type": "error",
     "traceback": [
      "\u001b[1;31m---------------------------------------------------------------------------\u001b[0m",
      "\u001b[1;31mNameError\u001b[0m                                 Traceback (most recent call last)",
      "\u001b[1;32m<ipython-input-59-95743294f345>\u001b[0m in \u001b[0;36m<module>\u001b[1;34m\u001b[0m\n\u001b[1;32m----> 1\u001b[1;33m \u001b[0mRMSEs\u001b[0m\u001b[1;33m\u001b[0m\u001b[1;33m\u001b[0m\u001b[0m\n\u001b[0m",
      "\u001b[1;31mNameError\u001b[0m: name 'RMSEs' is not defined"
     ]
    }
   ],
   "source": [
    "RMSEs"
   ]
  },
  {
   "cell_type": "code",
   "execution_count": null,
   "metadata": {},
   "outputs": [],
   "source": [
    "sns.lineplot(x=[a for a in range(len(RMSEs))], y=RMSEs)\n",
    "sns.lineplot(x=[a for a in range(len(MAEs))], y=MAEs)\n"
   ]
  },
  {
   "cell_type": "code",
   "execution_count": 55,
   "metadata": {},
   "outputs": [
    {
     "data": {
      "text/plain": [
       "<matplotlib.axes._subplots.AxesSubplot at 0x22a6e390250>"
      ]
     },
     "execution_count": 55,
     "metadata": {},
     "output_type": "execute_result"
    },
    {
     "data": {
      "image/png": "[encoded data removed]",
      "text/plain": [
       "<Figure size 432x288 with 1 Axes>"
      ]
     },
     "metadata": {
      "needs_background": "light"
     },
     "output_type": "display_data"
    }
   ],
   "source": [
    "sns.lineplot(x=[a for a in range(batch_start, batch_end)], y=error_look_back[3][\"MSE\"])\n",
    "sns.lineplot(x=[a for a in range(batch_start, batch_end)], y=error_look_back[3][\"MAE\"])\n"
   ]
  },
  {
   "cell_type": "code",
   "execution_count": 56,
   "metadata": {},
   "outputs": [
    {
     "ename": "KeyError",
     "evalue": "10",
     "output_type": "error",
     "traceback": [
      "\u001b[1;31m---------------------------------------------------------------------------\u001b[0m",
      "\u001b[1;31mKeyError\u001b[0m                                  Traceback (most recent call last)",
      "\u001b[1;32m<ipython-input-56-3ebcb08e47a3>\u001b[0m in \u001b[0;36m<module>\u001b[1;34m\u001b[0m\n\u001b[1;32m----> 1\u001b[1;33m \u001b[0msns\u001b[0m\u001b[1;33m.\u001b[0m\u001b[0mlineplot\u001b[0m\u001b[1;33m(\u001b[0m\u001b[0mx\u001b[0m\u001b[1;33m=\u001b[0m\u001b[1;33m[\u001b[0m\u001b[0ma\u001b[0m \u001b[1;32mfor\u001b[0m \u001b[0ma\u001b[0m \u001b[1;32min\u001b[0m \u001b[0mrange\u001b[0m\u001b[1;33m(\u001b[0m\u001b[0mbatch_start\u001b[0m\u001b[1;33m,\u001b[0m \u001b[0mbatch_end\u001b[0m\u001b[1;33m)\u001b[0m\u001b[1;33m]\u001b[0m\u001b[1;33m,\u001b[0m \u001b[0my\u001b[0m\u001b[1;33m=\u001b[0m\u001b[0merror_look_back\u001b[0m\u001b[1;33m[\u001b[0m\u001b[1;36m10\u001b[0m\u001b[1;33m]\u001b[0m\u001b[1;33m[\u001b[0m\u001b[1;34m\"MSE\"\u001b[0m\u001b[1;33m]\u001b[0m\u001b[1;33m)\u001b[0m\u001b[1;33m\u001b[0m\u001b[1;33m\u001b[0m\u001b[0m\n\u001b[0m\u001b[0;32m      2\u001b[0m \u001b[0msns\u001b[0m\u001b[1;33m.\u001b[0m\u001b[0mlineplot\u001b[0m\u001b[1;33m(\u001b[0m\u001b[0mx\u001b[0m\u001b[1;33m=\u001b[0m\u001b[1;33m[\u001b[0m\u001b[0ma\u001b[0m \u001b[1;32mfor\u001b[0m \u001b[0ma\u001b[0m \u001b[1;32min\u001b[0m \u001b[0mrange\u001b[0m\u001b[1;33m(\u001b[0m\u001b[0mbatch_start\u001b[0m\u001b[1;33m,\u001b[0m \u001b[0mbatch_end\u001b[0m\u001b[1;33m)\u001b[0m\u001b[1;33m]\u001b[0m\u001b[1;33m,\u001b[0m \u001b[0my\u001b[0m\u001b[1;33m=\u001b[0m\u001b[0merror_look_back\u001b[0m\u001b[1;33m[\u001b[0m\u001b[1;36m10\u001b[0m\u001b[1;33m]\u001b[0m\u001b[1;33m[\u001b[0m\u001b[1;34m\"MAE\"\u001b[0m\u001b[1;33m]\u001b[0m\u001b[1;33m)\u001b[0m\u001b[1;33m\u001b[0m\u001b[1;33m\u001b[0m\u001b[0m\n",
      "\u001b[1;31mKeyError\u001b[0m: 10"
     ]
    }
   ],
   "source": [
    "sns.lineplot(x=[a for a in range(batch_start, batch_end)], y=error_look_back[10][\"MSE\"])\n",
    "sns.lineplot(x=[a for a in range(batch_start, batch_end)], y=error_look_back[10][\"MAE\"])\n"
   ]
  },
  {
   "cell_type": "code",
   "execution_count": null,
   "metadata": {},
   "outputs": [],
   "source": []
  }
 ],
 "metadata": {
  "kernelspec": {
   "display_name": "Python 3",
   "language": "python",
   "name": "python3"
  },
  "language_info": {
   "codemirror_mode": {
    "name": "ipython",
    "version": 3
   },
   "file_extension": ".py",
   "mimetype": "text/x-python",
   "name": "python",
   "nbconvert_exporter": "python",
   "pygments_lexer": "ipython3",
   "version": "3.8.3"
  }
 },
 "nbformat": 4,
 "nbformat_minor": 4
}
